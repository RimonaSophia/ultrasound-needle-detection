{
  "nbformat": 4,
  "nbformat_minor": 0,
  "metadata": {
    "colab": {
      "provenance": [],
      "gpuType": "T4"
    },
    "kernelspec": {
      "name": "python3",
      "display_name": "Python 3"
    },
    "language_info": {
      "name": "python"
    },
    "accelerator": "GPU"
  },
  "cells": [
    {
      "cell_type": "markdown",
      "source": [
        "### Dataset Structure\n",
        "\n",
        "The dataset is already in YOLOv11 format and includes:\n",
        "\n",
        "* train, valid, and test folders\n",
        "* Each with images/ and labels/ subfolders\n",
        "* A data.yaml file with class name and path definitions\n",
        "* Class count: 1 (needle)"
      ],
      "metadata": {
        "id": "iYg0-9ZfVhkA"
      }
    },
    {
      "cell_type": "code",
      "execution_count": 1,
      "metadata": {
        "colab": {
          "base_uri": "https://localhost:8080/"
        },
        "collapsed": true,
        "id": "K3KKyfO38Pb7",
        "outputId": "c4d3fd90-534c-4da9-d397-95947b09bbd3"
      },
      "outputs": [
        {
          "output_type": "stream",
          "name": "stdout",
          "text": [
            "Collecting ultralytics\n",
            "  Downloading ultralytics-8.3.184-py3-none-any.whl.metadata (37 kB)\n",
            "Requirement already satisfied: numpy>=1.23.0 in /usr/local/lib/python3.12/dist-packages (from ultralytics) (2.0.2)\n",
            "Requirement already satisfied: matplotlib>=3.3.0 in /usr/local/lib/python3.12/dist-packages (from ultralytics) (3.10.0)\n",
            "Requirement already satisfied: opencv-python>=4.6.0 in /usr/local/lib/python3.12/dist-packages (from ultralytics) (4.12.0.88)\n",
            "Requirement already satisfied: pillow>=7.1.2 in /usr/local/lib/python3.12/dist-packages (from ultralytics) (11.3.0)\n",
            "Requirement already satisfied: pyyaml>=5.3.1 in /usr/local/lib/python3.12/dist-packages (from ultralytics) (6.0.2)\n",
            "Requirement already satisfied: requests>=2.23.0 in /usr/local/lib/python3.12/dist-packages (from ultralytics) (2.32.4)\n",
            "Requirement already satisfied: scipy>=1.4.1 in /usr/local/lib/python3.12/dist-packages (from ultralytics) (1.16.1)\n",
            "Requirement already satisfied: torch>=1.8.0 in /usr/local/lib/python3.12/dist-packages (from ultralytics) (2.8.0+cu126)\n",
            "Requirement already satisfied: torchvision>=0.9.0 in /usr/local/lib/python3.12/dist-packages (from ultralytics) (0.23.0+cu126)\n",
            "Requirement already satisfied: tqdm>=4.64.0 in /usr/local/lib/python3.12/dist-packages (from ultralytics) (4.67.1)\n",
            "Requirement already satisfied: psutil in /usr/local/lib/python3.12/dist-packages (from ultralytics) (5.9.5)\n",
            "Requirement already satisfied: py-cpuinfo in /usr/local/lib/python3.12/dist-packages (from ultralytics) (9.0.0)\n",
            "Requirement already satisfied: pandas>=1.1.4 in /usr/local/lib/python3.12/dist-packages (from ultralytics) (2.2.2)\n",
            "Collecting ultralytics-thop>=2.0.0 (from ultralytics)\n",
            "  Downloading ultralytics_thop-2.0.16-py3-none-any.whl.metadata (14 kB)\n",
            "Requirement already satisfied: contourpy>=1.0.1 in /usr/local/lib/python3.12/dist-packages (from matplotlib>=3.3.0->ultralytics) (1.3.3)\n",
            "Requirement already satisfied: cycler>=0.10 in /usr/local/lib/python3.12/dist-packages (from matplotlib>=3.3.0->ultralytics) (0.12.1)\n",
            "Requirement already satisfied: fonttools>=4.22.0 in /usr/local/lib/python3.12/dist-packages (from matplotlib>=3.3.0->ultralytics) (4.59.1)\n",
            "Requirement already satisfied: kiwisolver>=1.3.1 in /usr/local/lib/python3.12/dist-packages (from matplotlib>=3.3.0->ultralytics) (1.4.9)\n",
            "Requirement already satisfied: packaging>=20.0 in /usr/local/lib/python3.12/dist-packages (from matplotlib>=3.3.0->ultralytics) (25.0)\n",
            "Requirement already satisfied: pyparsing>=2.3.1 in /usr/local/lib/python3.12/dist-packages (from matplotlib>=3.3.0->ultralytics) (3.2.3)\n",
            "Requirement already satisfied: python-dateutil>=2.7 in /usr/local/lib/python3.12/dist-packages (from matplotlib>=3.3.0->ultralytics) (2.9.0.post0)\n",
            "Requirement already satisfied: pytz>=2020.1 in /usr/local/lib/python3.12/dist-packages (from pandas>=1.1.4->ultralytics) (2025.2)\n",
            "Requirement already satisfied: tzdata>=2022.7 in /usr/local/lib/python3.12/dist-packages (from pandas>=1.1.4->ultralytics) (2025.2)\n",
            "Requirement already satisfied: charset_normalizer<4,>=2 in /usr/local/lib/python3.12/dist-packages (from requests>=2.23.0->ultralytics) (3.4.3)\n",
            "Requirement already satisfied: idna<4,>=2.5 in /usr/local/lib/python3.12/dist-packages (from requests>=2.23.0->ultralytics) (3.10)\n",
            "Requirement already satisfied: urllib3<3,>=1.21.1 in /usr/local/lib/python3.12/dist-packages (from requests>=2.23.0->ultralytics) (2.5.0)\n",
            "Requirement already satisfied: certifi>=2017.4.17 in /usr/local/lib/python3.12/dist-packages (from requests>=2.23.0->ultralytics) (2025.8.3)\n",
            "Requirement already satisfied: filelock in /usr/local/lib/python3.12/dist-packages (from torch>=1.8.0->ultralytics) (3.19.1)\n",
            "Requirement already satisfied: typing-extensions>=4.10.0 in /usr/local/lib/python3.12/dist-packages (from torch>=1.8.0->ultralytics) (4.14.1)\n",
            "Requirement already satisfied: setuptools in /usr/local/lib/python3.12/dist-packages (from torch>=1.8.0->ultralytics) (75.2.0)\n",
            "Requirement already satisfied: sympy>=1.13.3 in /usr/local/lib/python3.12/dist-packages (from torch>=1.8.0->ultralytics) (1.13.3)\n",
            "Requirement already satisfied: networkx in /usr/local/lib/python3.12/dist-packages (from torch>=1.8.0->ultralytics) (3.5)\n",
            "Requirement already satisfied: jinja2 in /usr/local/lib/python3.12/dist-packages (from torch>=1.8.0->ultralytics) (3.1.6)\n",
            "Requirement already satisfied: fsspec in /usr/local/lib/python3.12/dist-packages (from torch>=1.8.0->ultralytics) (2025.3.0)\n",
            "Requirement already satisfied: nvidia-cuda-nvrtc-cu12==12.6.77 in /usr/local/lib/python3.12/dist-packages (from torch>=1.8.0->ultralytics) (12.6.77)\n",
            "Requirement already satisfied: nvidia-cuda-runtime-cu12==12.6.77 in /usr/local/lib/python3.12/dist-packages (from torch>=1.8.0->ultralytics) (12.6.77)\n",
            "Requirement already satisfied: nvidia-cuda-cupti-cu12==12.6.80 in /usr/local/lib/python3.12/dist-packages (from torch>=1.8.0->ultralytics) (12.6.80)\n",
            "Requirement already satisfied: nvidia-cudnn-cu12==9.10.2.21 in /usr/local/lib/python3.12/dist-packages (from torch>=1.8.0->ultralytics) (9.10.2.21)\n",
            "Requirement already satisfied: nvidia-cublas-cu12==12.6.4.1 in /usr/local/lib/python3.12/dist-packages (from torch>=1.8.0->ultralytics) (12.6.4.1)\n",
            "Requirement already satisfied: nvidia-cufft-cu12==11.3.0.4 in /usr/local/lib/python3.12/dist-packages (from torch>=1.8.0->ultralytics) (11.3.0.4)\n",
            "Requirement already satisfied: nvidia-curand-cu12==10.3.7.77 in /usr/local/lib/python3.12/dist-packages (from torch>=1.8.0->ultralytics) (10.3.7.77)\n",
            "Requirement already satisfied: nvidia-cusolver-cu12==11.7.1.2 in /usr/local/lib/python3.12/dist-packages (from torch>=1.8.0->ultralytics) (11.7.1.2)\n",
            "Requirement already satisfied: nvidia-cusparse-cu12==12.5.4.2 in /usr/local/lib/python3.12/dist-packages (from torch>=1.8.0->ultralytics) (12.5.4.2)\n",
            "Requirement already satisfied: nvidia-cusparselt-cu12==0.7.1 in /usr/local/lib/python3.12/dist-packages (from torch>=1.8.0->ultralytics) (0.7.1)\n",
            "Requirement already satisfied: nvidia-nccl-cu12==2.27.3 in /usr/local/lib/python3.12/dist-packages (from torch>=1.8.0->ultralytics) (2.27.3)\n",
            "Requirement already satisfied: nvidia-nvtx-cu12==12.6.77 in /usr/local/lib/python3.12/dist-packages (from torch>=1.8.0->ultralytics) (12.6.77)\n",
            "Requirement already satisfied: nvidia-nvjitlink-cu12==12.6.85 in /usr/local/lib/python3.12/dist-packages (from torch>=1.8.0->ultralytics) (12.6.85)\n",
            "Requirement already satisfied: nvidia-cufile-cu12==1.11.1.6 in /usr/local/lib/python3.12/dist-packages (from torch>=1.8.0->ultralytics) (1.11.1.6)\n",
            "Requirement already satisfied: triton==3.4.0 in /usr/local/lib/python3.12/dist-packages (from torch>=1.8.0->ultralytics) (3.4.0)\n",
            "Requirement already satisfied: six>=1.5 in /usr/local/lib/python3.12/dist-packages (from python-dateutil>=2.7->matplotlib>=3.3.0->ultralytics) (1.17.0)\n",
            "Requirement already satisfied: mpmath<1.4,>=1.1.0 in /usr/local/lib/python3.12/dist-packages (from sympy>=1.13.3->torch>=1.8.0->ultralytics) (1.3.0)\n",
            "Requirement already satisfied: MarkupSafe>=2.0 in /usr/local/lib/python3.12/dist-packages (from jinja2->torch>=1.8.0->ultralytics) (3.0.2)\n",
            "Downloading ultralytics-8.3.184-py3-none-any.whl (1.1 MB)\n",
            "\u001b[2K   \u001b[90m━━━━━━━━━━━━━━━━━━━━━━━━━━━━━━━━━━━━━━━━\u001b[0m \u001b[32m1.1/1.1 MB\u001b[0m \u001b[31m27.9 MB/s\u001b[0m eta \u001b[36m0:00:00\u001b[0m\n",
            "\u001b[?25hDownloading ultralytics_thop-2.0.16-py3-none-any.whl (28 kB)\n",
            "Installing collected packages: ultralytics-thop, ultralytics\n",
            "Successfully installed ultralytics-8.3.184 ultralytics-thop-2.0.16\n"
          ]
        }
      ],
      "source": [
        "!pip install ultralytics --upgrade"
      ]
    },
    {
      "cell_type": "code",
      "metadata": {
        "colab": {
          "base_uri": "https://localhost:8080/"
        },
        "id": "77633a85",
        "outputId": "c9272213-95fc-4384-f937-94b6e349f979"
      },
      "source": [
        "from google.colab import drive\n",
        "drive.mount('/content/drive')"
      ],
      "execution_count": 2,
      "outputs": [
        {
          "output_type": "stream",
          "name": "stdout",
          "text": [
            "Mounted at /content/drive\n"
          ]
        }
      ]
    },
    {
      "cell_type": "code",
      "metadata": {
        "colab": {
          "base_uri": "https://localhost:8080/"
        },
        "id": "41b20546",
        "outputId": "f569e3df-3b17-4cad-b74d-61599267a0e1"
      },
      "source": [
        "%cd /content/drive/MyDrive/Needle_detection/"
      ],
      "execution_count": 3,
      "outputs": [
        {
          "output_type": "stream",
          "name": "stdout",
          "text": [
            "/content/drive/MyDrive/Needle_detection\n"
          ]
        }
      ]
    },
    {
      "cell_type": "code",
      "source": [
        "import os\n",
        "from ultralytics import YOLO\n",
        "import matplotlib.pyplot as plt\n",
        "\n",
        "# Load YOLOv11m (pretrained on COCO)\n",
        "model = YOLO('yolo11m.pt')"
      ],
      "metadata": {
        "colab": {
          "base_uri": "https://localhost:8080/"
        },
        "id": "kSWLbohXGM4c",
        "outputId": "404e10a6-e95d-4fe0-e251-cd4ec18f04fb"
      },
      "execution_count": 4,
      "outputs": [
        {
          "output_type": "stream",
          "name": "stdout",
          "text": [
            "Creating new Ultralytics Settings v0.0.6 file ✅ \n",
            "View Ultralytics Settings with 'yolo settings' or at '/root/.config/Ultralytics/settings.json'\n",
            "Update Settings with 'yolo settings key=value', i.e. 'yolo settings runs_dir=path/to/dir'. For help see https://docs.ultralytics.com/quickstart/#ultralytics-settings.\n"
          ]
        }
      ]
    },
    {
      "cell_type": "markdown",
      "source": [
        "### Exploratory Data Analysis (EDA)\n",
        "\n",
        "Before training our object detection model, we want to:\n",
        "- Understand how many images are in each dataset split\n",
        "- Check if any label files are empty\n",
        "- Visualize a sample with a bounding boxes\n",
        "- Look at image sizes to confirm consistency\n",
        "\n",
        "This helps us ensure data quality and avoid training problems later.\n",
        "\n",
        "I removed 3 empty label files and their corresponding images from train/valid folders.\n",
        "This ensures the model trains only on valid examples.\n",
        "\n",
        "The data cleaning step is **repeatable and safe** to rerun as part of the notebook pipeline. It’s designed so that even if the dataset is already clean, it will make no changes.\n",
        "\n",
        "\n"
      ],
      "metadata": {
        "id": "8vGTHvD7HsmI"
      }
    },
    {
      "cell_type": "code",
      "source": [
        "train_labels = os.listdir('train/labels')\n",
        "empty_labels = [lbl for lbl in train_labels if os.path.getsize(f\"train/labels/{lbl}\") == 0]\n",
        "\n",
        "print(f\"Total training labels: {len(train_labels)}\")\n",
        "print(f\"Empty training labels: {len(empty_labels)}\")\n",
        "\n",
        "val_labels = os.listdir('valid/labels')\n",
        "print(f\"Total validation labels: {len(val_labels)}\")\n",
        "print(f\"Empty validation labels: {sum(os.path.getsize(f'valid/labels/{l}') == 0 for l in val_labels)}\")\n"
      ],
      "metadata": {
        "colab": {
          "base_uri": "https://localhost:8080/"
        },
        "id": "RgnjiwECJBG5",
        "outputId": "89e15d7b-fcf8-422a-b8ca-830922a9cdc4"
      },
      "execution_count": 35,
      "outputs": [
        {
          "output_type": "stream",
          "name": "stdout",
          "text": [
            "Total training labels: 314\n",
            "Empty training labels: 2\n",
            "Total validation labels: 90\n",
            "Empty validation labels: 1\n"
          ]
        }
      ]
    },
    {
      "cell_type": "code",
      "source": [
        "total_boxes = 0\n",
        "\n",
        "for label_file in train_labels:\n",
        "    with open(f'train/labels/{label_file}', 'r') as f:\n",
        "        lines = f.readlines()\n",
        "        total_boxes += len(lines)\n",
        "\n",
        "print(f\"Total bounding boxes in training set: {total_boxes}\")\n"
      ],
      "metadata": {
        "colab": {
          "base_uri": "https://localhost:8080/"
        },
        "id": "eSZ3o_SnJZdo",
        "outputId": "fba146d0-6d86-4070-afcf-e81d8945b9cf"
      },
      "execution_count": 36,
      "outputs": [
        {
          "output_type": "stream",
          "name": "stdout",
          "text": [
            "Total bounding boxes in training set: 312\n"
          ]
        }
      ]
    },
    {
      "cell_type": "code",
      "source": [
        "def remove_empty_labels(image_folder, label_folder):\n",
        "    removed = 0\n",
        "    for label_file in os.listdir(label_folder):\n",
        "        label_path = os.path.join(label_folder, label_file)\n",
        "\n",
        "        if os.path.getsize(label_path) == 0:  # If file is empty\n",
        "            os.remove(label_path)\n",
        "            image_name = label_file.replace(\".txt\", \".jpg\")  # or .png\n",
        "            image_path = os.path.join(image_folder, image_name)\n",
        "            if os.path.exists(image_path):\n",
        "                os.remove(image_path)\n",
        "            removed += 1\n",
        "\n",
        "    print(f\"Removed {removed} empty label files and corresponding images.\")\n",
        "\n",
        "# Apply to train and val sets\n",
        "remove_empty_labels(\"train/images\", \"train/labels\")\n",
        "remove_empty_labels(\"valid/images\", \"valid/labels\")"
      ],
      "metadata": {
        "colab": {
          "base_uri": "https://localhost:8080/"
        },
        "id": "EOXZHtHYKUBE",
        "outputId": "eeb9bcc7-3654-4d84-cafc-4c2b4490f552"
      },
      "execution_count": 38,
      "outputs": [
        {
          "output_type": "stream",
          "name": "stdout",
          "text": [
            "Removed 2 empty label files and corresponding images.\n",
            "Removed 1 empty label files and corresponding images.\n"
          ]
        }
      ]
    },
    {
      "cell_type": "code",
      "source": [
        "import os\n",
        "\n",
        "train_images = len(os.listdir('train/images'))\n",
        "val_images   = len(os.listdir('valid/images'))\n",
        "test_images  = len(os.listdir('test/images'))\n",
        "\n",
        "print(f\"Train images: {train_images}\")\n",
        "print(f\"Validation images: {val_images}\")\n",
        "print(f\"Test images: {test_images}\")\n"
      ],
      "metadata": {
        "colab": {
          "base_uri": "https://localhost:8080/"
        },
        "id": "QejCsmSgI9u_",
        "outputId": "d7e81f3e-4f8a-4e7b-fa7c-9e49ea665349"
      },
      "execution_count": 9,
      "outputs": [
        {
          "output_type": "stream",
          "name": "stdout",
          "text": [
            "Train images: 312\n",
            "Validation images: 89\n",
            "Test images: 43\n"
          ]
        }
      ]
    },
    {
      "cell_type": "code",
      "source": [
        "import cv2\n",
        "import matplotlib.pyplot as plt\n",
        "\n",
        "# Show one annotated image from train set\n",
        "image_file = os.listdir('train/images')[0]\n",
        "label_file = image_file.replace('.jpg', '.txt').replace('.jpeg', '.txt')  # adjust for extension\n",
        "\n",
        "# Load image\n",
        "img = cv2.imread(f'train/images/{image_file}')\n",
        "img = cv2.cvtColor(img, cv2.COLOR_BGR2RGB)\n",
        "h, w, _ = img.shape\n",
        "\n",
        "# Draw boxes\n",
        "with open(f'train/labels/{label_file}', 'r') as f:\n",
        "    for line in f.readlines():\n",
        "        cls, x_center, y_center, box_w, box_h = map(float, line.strip().split())\n",
        "        # Convert YOLO to pixel coords\n",
        "        x1 = int((x_center - box_w/2) * w)\n",
        "        y1 = int((y_center - box_h/2) * h)\n",
        "        x2 = int((x_center + box_w/2) * w)\n",
        "        y2 = int((y_center + box_h/2) * h)\n",
        "        cv2.rectangle(img, (x1, y1), (x2, y2), (255, 0, 0), 2)\n",
        "\n",
        "plt.imshow(img)\n",
        "plt.title(\"Sample Needle Bounding Box\")\n",
        "plt.axis('off')\n",
        "plt.show()\n"
      ],
      "metadata": {
        "colab": {
          "base_uri": "https://localhost:8080/",
          "height": 428
        },
        "id": "ldkzc5-LJehz",
        "outputId": "96f3f9b6-667f-4ae5-da82-d1d9d1dafaa3"
      },
      "execution_count": 11,
      "outputs": [
        {
          "output_type": "display_data",
          "data": {
            "text/plain": [
              "<Figure size 640x480 with 1 Axes>"
            ],
            "image/png": "[encoded data removed]"
          },
          "metadata": {}
        }
      ]
    },
    {
      "cell_type": "code",
      "source": [
        "!ls train/labels | wc -l  # Label files left after deletion\n",
        "!ls train/images | wc -l  # Image files left after deletion"
      ],
      "metadata": {
        "colab": {
          "base_uri": "https://localhost:8080/"
        },
        "id": "B6Xc7ByELK1U",
        "outputId": "54dd0331-b7a1-4cc5-8dd0-4674130e0484"
      },
      "execution_count": 12,
      "outputs": [
        {
          "output_type": "stream",
          "name": "stdout",
          "text": [
            "312\n",
            "312\n"
          ]
        }
      ]
    },
    {
      "cell_type": "markdown",
      "source": [
        "### YOLOv11 Model Setup\n",
        "\n",
        "We're using the yolov11m.pt pretrained weights.\n",
        "This gives the model a strong starting point from general object detection knowledge (COCO dataset), allowing it to adapt quickly to our medical use case (needle detection).\n",
        "\n",
        "Model was loaded and trained using:\n",
        "\n",
        "50 epochs\n",
        "\n",
        "Batch size = 8\n",
        "\n",
        "Early Stopping = 10"
      ],
      "metadata": {
        "id": "jM_tXm5ZNJQm"
      }
    },
    {
      "cell_type": "code",
      "source": [
        "\n",
        "model.train(\n",
        "    data=\"data.yaml\",\n",
        "    epochs=50,                 # Keep it relatively small due to small dataset\n",
        "    imgsz=640,                 # Resize for consistency\n",
        "    batch=8,                   # Smaller batch due to small dataset\n",
        "    patience=10,               # For early stopping\n",
        "    name=\"needle_yolov11m\",\n",
        "    device=0\n",
        ")"
      ],
      "metadata": {
        "colab": {
          "base_uri": "https://localhost:8080/"
        },
        "collapsed": true,
        "id": "bbTvk84eLvBd",
        "outputId": "67ece7d0-9691-4a8d-fba9-8fba689b5ff7"
      },
      "execution_count": 13,
      "outputs": [
        {
          "metadata": {
            "tags": null
          },
          "name": "stdout",
          "output_type": "stream",
          "text": [
            "Ultralytics 8.3.184 🚀 Python-3.12.11 torch-2.8.0+cu126 CUDA:0 (Tesla T4, 15095MiB)\n",
            "\u001b[34m\u001b[1mengine/trainer: \u001b[0magnostic_nms=False, amp=True, augment=False, auto_augment=randaugment, batch=8, bgr=0.0, box=7.5, cache=False, cfg=None, classes=None, close_mosaic=10, cls=0.5, conf=None, copy_paste=0.0, copy_paste_mode=flip, cos_lr=False, cutmix=0.0, data=data.yaml, degrees=0.0, deterministic=True, device=0, dfl=1.5, dnn=False, dropout=0.0, dynamic=False, embed=None, epochs=50, erasing=0.4, exist_ok=False, fliplr=0.5, flipud=0.0, format=torchscript, fraction=1.0, freeze=None, half=False, hsv_h=0.015, hsv_s=0.7, hsv_v=0.4, imgsz=640, int8=False, iou=0.7, keras=False, kobj=1.0, line_width=None, lr0=0.01, lrf=0.01, mask_ratio=4, max_det=300, mixup=0.0, mode=train, model=yolo11m.pt, momentum=0.937, mosaic=1.0, multi_scale=False, name=needle_yolov11m, nbs=64, nms=False, opset=None, optimize=False, optimizer=auto, overlap_mask=True, patience=10, perspective=0.0, plots=True, pose=12.0, pretrained=True, profile=False, project=None, rect=False, resume=False, retina_masks=False, save=True, save_conf=False, save_crop=False, save_dir=runs/detect/needle_yolov11m, save_frames=False, save_json=False, save_period=-1, save_txt=False, scale=0.5, seed=0, shear=0.0, show=False, show_boxes=True, show_conf=True, show_labels=True, simplify=True, single_cls=False, source=None, split=val, stream_buffer=False, task=detect, time=None, tracker=botsort.yaml, translate=0.1, val=True, verbose=True, vid_stride=1, visualize=False, warmup_bias_lr=0.1, warmup_epochs=3.0, warmup_momentum=0.8, weight_decay=0.0005, workers=8, workspace=None\n"
          ]
        },
        {
          "metadata": {
            "tags": null
          },
          "name": "stderr",
          "output_type": "stream",
          "text": [
            "Downloading https://ultralytics.com/assets/Arial.ttf to '/root/.config/Ultralytics/Arial.ttf': 100%|██████████| 755k/755k [00:00<00:00, 17.4MB/s]"
          ]
        },
        {
          "metadata": {
            "tags": null
          },
          "name": "stdout",
          "output_type": "stream",
          "text": [
            "Overriding model.yaml nc=80 with nc=1\n",
            "\n",
            "                   from  n    params  module                                       arguments                     \n",
            "  0                  -1  1      1856  ultralytics.nn.modules.conv.Conv             [3, 64, 3, 2]                 \n",
            "  1                  -1  1     73984  ultralytics.nn.modules.conv.Conv             [64, 128, 3, 2]               \n",
            "  2                  -1  1    111872  ultralytics.nn.modules.block.C3k2            [128, 256, 1, True, 0.25]     \n",
            "  3                  -1  1    590336  ultralytics.nn.modules.conv.Conv             [256, 256, 3, 2]              \n",
            "  4                  -1  1    444928  ultralytics.nn.modules.block.C3k2            [256, 512, 1, True, 0.25]     \n",
            "  5                  -1  1   2360320  ultralytics.nn.modules.conv.Conv             [512, 512, 3, 2]              \n",
            "  6                  -1  1   1380352  ultralytics.nn.modules.block.C3k2            [512, 512, 1, True]           \n",
            "  7                  -1  1   2360320  ultralytics.nn.modules.conv.Conv             [512, 512, 3, 2]              \n",
            "  8                  -1  1   1380352  ultralytics.nn.modules.block.C3k2            [512, 512, 1, True]           \n",
            "  9                  -1  1    656896  ultralytics.nn.modules.block.SPPF            [512, 512, 5]                 \n",
            " 10                  -1  1    990976  ultralytics.nn.modules.block.C2PSA           [512, 512, 1]                 \n"
          ]
        },
        {
          "metadata": {
            "tags": null
          },
          "name": "stderr",
          "output_type": "stream",
          "text": [
            "\n"
          ]
        },
        {
          "metadata": {
            "tags": null
          },
          "name": "stdout",
          "output_type": "stream",
          "text": [
            " 11                  -1  1         0  torch.nn.modules.upsampling.Upsample         [None, 2, 'nearest']          \n",
            " 12             [-1, 6]  1         0  ultralytics.nn.modules.conv.Concat           [1]                           \n",
            " 13                  -1  1   1642496  ultralytics.nn.modules.block.C3k2            [1024, 512, 1, True]          \n",
            " 14                  -1  1         0  torch.nn.modules.upsampling.Upsample         [None, 2, 'nearest']          \n",
            " 15             [-1, 4]  1         0  ultralytics.nn.modules.conv.Concat           [1]                           \n",
            " 16                  -1  1    542720  ultralytics.nn.modules.block.C3k2            [1024, 256, 1, True]          \n",
            " 17                  -1  1    590336  ultralytics.nn.modules.conv.Conv             [256, 256, 3, 2]              \n",
            " 18            [-1, 13]  1         0  ultralytics.nn.modules.conv.Concat           [1]                           \n",
            " 19                  -1  1   1511424  ultralytics.nn.modules.block.C3k2            [768, 512, 1, True]           \n",
            " 20                  -1  1   2360320  ultralytics.nn.modules.conv.Conv             [512, 512, 3, 2]              \n",
            " 21            [-1, 10]  1         0  ultralytics.nn.modules.conv.Concat           [1]                           \n",
            " 22                  -1  1   1642496  ultralytics.nn.modules.block.C3k2            [1024, 512, 1, True]          \n",
            " 23        [16, 19, 22]  1   1411795  ultralytics.nn.modules.head.Detect           [1, [256, 512, 512]]          \n",
            "YOLO11m summary: 231 layers, 20,053,779 parameters, 20,053,763 gradients, 68.2 GFLOPs\n",
            "\n",
            "Transferred 643/649 items from pretrained weights\n",
            "Freezing layer 'model.23.dfl.conv.weight'\n",
            "\u001b[34m\u001b[1mAMP: \u001b[0mrunning Automatic Mixed Precision (AMP) checks...\n"
          ]
        },
        {
          "metadata": {
            "tags": null
          },
          "name": "stderr",
          "output_type": "stream",
          "text": [
            "Downloading https://github.com/ultralytics/assets/releases/download/v8.3.0/yolo11n.pt to 'yolo11n.pt': 100%|██████████| 5.35M/5.35M [00:00<00:00, 58.8MB/s]\n"
          ]
        },
        {
          "metadata": {
            "tags": null
          },
          "name": "stdout",
          "output_type": "stream",
          "text": [
            "\u001b[34m\u001b[1mAMP: \u001b[0mchecks passed ✅\n",
            "\u001b[34m\u001b[1mtrain: \u001b[0mFast image access ✅ (ping: 0.6±0.5 ms, read: 0.1±0.0 MB/s, size: 20.2 KB)\n"
          ]
        },
        {
          "metadata": {
            "tags": null
          },
          "name": "stderr",
          "output_type": "stream",
          "text": [
            "\u001b[34m\u001b[1mtrain: \u001b[0mScanning /content/drive/MyDrive/Needle_detection/train/labels... 312 images, 0 backgrounds, 0 corrupt: 100%|██████████| 312/312 [01:40<00:00,  3.11it/s]"
          ]
        },
        {
          "metadata": {
            "tags": null
          },
          "name": "stdout",
          "output_type": "stream",
          "text": [
            "\u001b[34m\u001b[1mtrain: \u001b[0mNew cache created: /content/drive/MyDrive/Needle_detection/train/labels.cache\n"
          ]
        },
        {
          "metadata": {
            "tags": null
          },
          "name": "stderr",
          "output_type": "stream",
          "text": [
            "\n"
          ]
        },
        {
          "metadata": {
            "tags": null
          },
          "name": "stdout",
          "output_type": "stream",
          "text": [
            "\u001b[34m\u001b[1malbumentations: \u001b[0mBlur(p=0.01, blur_limit=(3, 7)), MedianBlur(p=0.01, blur_limit=(3, 7)), ToGray(p=0.01, method='weighted_average', num_output_channels=3), CLAHE(p=0.01, clip_limit=(1.0, 4.0), tile_grid_size=(8, 8))\n",
            "\u001b[34m\u001b[1mval: \u001b[0mFast image access ✅ (ping: 0.6±0.3 ms, read: 0.1±0.0 MB/s, size: 24.0 KB)\n"
          ]
        },
        {
          "metadata": {
            "tags": null
          },
          "name": "stderr",
          "output_type": "stream",
          "text": [
            "\u001b[34m\u001b[1mval: \u001b[0mScanning /content/drive/MyDrive/Needle_detection/valid/labels... 89 images, 0 backgrounds, 0 corrupt: 100%|██████████| 89/89 [00:57<00:00,  1.54it/s]"
          ]
        },
        {
          "metadata": {
            "tags": null
          },
          "name": "stdout",
          "output_type": "stream",
          "text": [
            "\u001b[34m\u001b[1mval: \u001b[0mNew cache created: /content/drive/MyDrive/Needle_detection/valid/labels.cache\n"
          ]
        },
        {
          "metadata": {
            "tags": null
          },
          "name": "stderr",
          "output_type": "stream",
          "text": [
            "\n"
          ]
        },
        {
          "metadata": {
            "tags": null
          },
          "name": "stdout",
          "output_type": "stream",
          "text": [
            "Plotting labels to runs/detect/needle_yolov11m/labels.jpg... \n",
            "\u001b[34m\u001b[1moptimizer:\u001b[0m 'optimizer=auto' found, ignoring 'lr0=0.01' and 'momentum=0.937' and determining best 'optimizer', 'lr0' and 'momentum' automatically... \n",
            "\u001b[34m\u001b[1moptimizer:\u001b[0m AdamW(lr=0.002, momentum=0.9) with parameter groups 106 weight(decay=0.0), 113 weight(decay=0.0005), 112 bias(decay=0.0)\n",
            "Image sizes 640 train, 640 val\n",
            "Using 2 dataloader workers\n",
            "Logging results to \u001b[1mruns/detect/needle_yolov11m\u001b[0m\n",
            "Starting training for 50 epochs...\n",
            "\n",
            "      Epoch    GPU_mem   box_loss   cls_loss   dfl_loss  Instances       Size\n"
          ]
        },
        {
          "metadata": {
            "tags": null
          },
          "name": "stderr",
          "output_type": "stream",
          "text": [
            "       1/50      4.19G      2.072      3.481      2.041         12        640: 100%|██████████| 39/39 [00:21<00:00,  1.84it/s]\n",
            "                 Class     Images  Instances      Box(P          R      mAP50  mAP50-95): 100%|██████████| 6/6 [00:07<00:00,  1.21s/it]"
          ]
        },
        {
          "metadata": {
            "tags": null
          },
          "name": "stdout",
          "output_type": "stream",
          "text": [
            "                   all         89         89     0.0178      0.169     0.0102    0.00382\n"
          ]
        },
        {
          "metadata": {
            "tags": null
          },
          "name": "stderr",
          "output_type": "stream",
          "text": [
            "\n"
          ]
        },
        {
          "metadata": {
            "tags": null
          },
          "name": "stdout",
          "output_type": "stream",
          "text": [
            "\n",
            "      Epoch    GPU_mem   box_loss   cls_loss   dfl_loss  Instances       Size\n"
          ]
        },
        {
          "metadata": {
            "tags": null
          },
          "name": "stderr",
          "output_type": "stream",
          "text": [
            "       2/50      5.01G      2.023      2.968       2.06         19        640: 100%|██████████| 39/39 [00:12<00:00,  3.19it/s]\n",
            "                 Class     Images  Instances      Box(P          R      mAP50  mAP50-95): 100%|██████████| 6/6 [00:01<00:00,  4.84it/s]"
          ]
        },
        {
          "metadata": {
            "tags": null
          },
          "name": "stdout",
          "output_type": "stream",
          "text": [
            "                   all         89         89          0          0          0          0\n"
          ]
        },
        {
          "metadata": {
            "tags": null
          },
          "name": "stderr",
          "output_type": "stream",
          "text": [
            "\n"
          ]
        },
        {
          "metadata": {
            "tags": null
          },
          "name": "stdout",
          "output_type": "stream",
          "text": [
            "\n",
            "      Epoch    GPU_mem   box_loss   cls_loss   dfl_loss  Instances       Size\n"
          ]
        },
        {
          "metadata": {
            "tags": null
          },
          "name": "stderr",
          "output_type": "stream",
          "text": [
            "       3/50      5.08G      2.089      2.728      2.149         17        640: 100%|██████████| 39/39 [00:13<00:00,  2.81it/s]\n",
            "                 Class     Images  Instances      Box(P          R      mAP50  mAP50-95): 100%|██████████| 6/6 [00:01<00:00,  4.98it/s]"
          ]
        },
        {
          "metadata": {
            "tags": null
          },
          "name": "stdout",
          "output_type": "stream",
          "text": [
            "                   all         89         89          0          0          0          0\n"
          ]
        },
        {
          "metadata": {
            "tags": null
          },
          "name": "stderr",
          "output_type": "stream",
          "text": [
            "\n"
          ]
        },
        {
          "metadata": {
            "tags": null
          },
          "name": "stdout",
          "output_type": "stream",
          "text": [
            "\n",
            "      Epoch    GPU_mem   box_loss   cls_loss   dfl_loss  Instances       Size\n"
          ]
        },
        {
          "metadata": {
            "tags": null
          },
          "name": "stderr",
          "output_type": "stream",
          "text": [
            "       4/50      5.15G      1.934      2.312      1.971         18        640: 100%|██████████| 39/39 [00:13<00:00,  2.87it/s]\n",
            "                 Class     Images  Instances      Box(P          R      mAP50  mAP50-95): 100%|██████████| 6/6 [00:01<00:00,  4.59it/s]"
          ]
        },
        {
          "metadata": {
            "tags": null
          },
          "name": "stdout",
          "output_type": "stream",
          "text": [
            "                   all         89         89   0.000529      0.157   0.000333   9.72e-05\n"
          ]
        },
        {
          "metadata": {
            "tags": null
          },
          "name": "stderr",
          "output_type": "stream",
          "text": [
            "\n"
          ]
        },
        {
          "metadata": {
            "tags": null
          },
          "name": "stdout",
          "output_type": "stream",
          "text": [
            "\n",
            "      Epoch    GPU_mem   box_loss   cls_loss   dfl_loss  Instances       Size\n"
          ]
        },
        {
          "metadata": {
            "tags": null
          },
          "name": "stderr",
          "output_type": "stream",
          "text": [
            "       5/50      5.21G      1.845       2.13      1.888         15        640: 100%|██████████| 39/39 [00:13<00:00,  2.86it/s]\n",
            "                 Class     Images  Instances      Box(P          R      mAP50  mAP50-95): 100%|██████████| 6/6 [00:01<00:00,  4.16it/s]\n"
          ]
        },
        {
          "metadata": {
            "tags": null
          },
          "name": "stdout",
          "output_type": "stream",
          "text": [
            "                   all         89         89      0.287      0.157      0.103      0.056\n",
            "\n",
            "      Epoch    GPU_mem   box_loss   cls_loss   dfl_loss  Instances       Size\n"
          ]
        },
        {
          "metadata": {
            "tags": null
          },
          "name": "stderr",
          "output_type": "stream",
          "text": [
            "       6/50      5.55G      1.706      1.947      1.782         14        640: 100%|██████████| 39/39 [00:13<00:00,  2.85it/s]\n",
            "                 Class     Images  Instances      Box(P          R      mAP50  mAP50-95): 100%|██████████| 6/6 [00:01<00:00,  3.81it/s]\n"
          ]
        },
        {
          "metadata": {
            "tags": null
          },
          "name": "stdout",
          "output_type": "stream",
          "text": [
            "                   all         89         89      0.523      0.461      0.448      0.231\n",
            "\n",
            "      Epoch    GPU_mem   box_loss   cls_loss   dfl_loss  Instances       Size\n"
          ]
        },
        {
          "metadata": {
            "tags": null
          },
          "name": "stderr",
          "output_type": "stream",
          "text": [
            "       7/50      5.62G      1.614      1.866       1.76         14        640: 100%|██████████| 39/39 [00:14<00:00,  2.66it/s]\n",
            "                 Class     Images  Instances      Box(P          R      mAP50  mAP50-95): 100%|██████████| 6/6 [00:01<00:00,  4.45it/s]"
          ]
        },
        {
          "metadata": {
            "tags": null
          },
          "name": "stdout",
          "output_type": "stream",
          "text": [
            "                   all         89         89      0.503      0.433      0.454      0.288\n"
          ]
        },
        {
          "metadata": {
            "tags": null
          },
          "name": "stderr",
          "output_type": "stream",
          "text": [
            "\n"
          ]
        },
        {
          "metadata": {
            "tags": null
          },
          "name": "stdout",
          "output_type": "stream",
          "text": [
            "\n",
            "      Epoch    GPU_mem   box_loss   cls_loss   dfl_loss  Instances       Size\n"
          ]
        },
        {
          "metadata": {
            "tags": null
          },
          "name": "stderr",
          "output_type": "stream",
          "text": [
            "       8/50      5.68G      1.554      1.768      1.686          8        640: 100%|██████████| 39/39 [00:13<00:00,  2.80it/s]\n",
            "                 Class     Images  Instances      Box(P          R      mAP50  mAP50-95): 100%|██████████| 6/6 [00:01<00:00,  4.03it/s]"
          ]
        },
        {
          "metadata": {
            "tags": null
          },
          "name": "stdout",
          "output_type": "stream",
          "text": [
            "                   all         89         89      0.765      0.366       0.46      0.314\n"
          ]
        },
        {
          "metadata": {
            "tags": null
          },
          "name": "stderr",
          "output_type": "stream",
          "text": [
            "\n"
          ]
        },
        {
          "metadata": {
            "tags": null
          },
          "name": "stdout",
          "output_type": "stream",
          "text": [
            "\n",
            "      Epoch    GPU_mem   box_loss   cls_loss   dfl_loss  Instances       Size\n"
          ]
        },
        {
          "metadata": {
            "tags": null
          },
          "name": "stderr",
          "output_type": "stream",
          "text": [
            "       9/50      5.75G      1.427      1.602       1.56         18        640: 100%|██████████| 39/39 [00:13<00:00,  2.85it/s]\n",
            "                 Class     Images  Instances      Box(P          R      mAP50  mAP50-95): 100%|██████████| 6/6 [00:01<00:00,  4.04it/s]\n"
          ]
        },
        {
          "metadata": {
            "tags": null
          },
          "name": "stdout",
          "output_type": "stream",
          "text": [
            "                   all         89         89       0.34      0.539      0.388      0.226\n",
            "\n",
            "      Epoch    GPU_mem   box_loss   cls_loss   dfl_loss  Instances       Size\n"
          ]
        },
        {
          "metadata": {
            "tags": null
          },
          "name": "stderr",
          "output_type": "stream",
          "text": [
            "      10/50      5.81G      1.406      1.538       1.56         10        640: 100%|██████████| 39/39 [00:14<00:00,  2.67it/s]\n",
            "                 Class     Images  Instances      Box(P          R      mAP50  mAP50-95): 100%|██████████| 6/6 [00:01<00:00,  4.63it/s]"
          ]
        },
        {
          "metadata": {
            "tags": null
          },
          "name": "stdout",
          "output_type": "stream",
          "text": [
            "                   all         89         89      0.836      0.551      0.688      0.491\n"
          ]
        },
        {
          "metadata": {
            "tags": null
          },
          "name": "stderr",
          "output_type": "stream",
          "text": [
            "\n"
          ]
        },
        {
          "metadata": {
            "tags": null
          },
          "name": "stdout",
          "output_type": "stream",
          "text": [
            "\n",
            "      Epoch    GPU_mem   box_loss   cls_loss   dfl_loss  Instances       Size\n"
          ]
        },
        {
          "metadata": {
            "tags": null
          },
          "name": "stderr",
          "output_type": "stream",
          "text": [
            "      11/50      5.88G      1.368       1.45      1.501         14        640: 100%|██████████| 39/39 [00:14<00:00,  2.69it/s]\n",
            "                 Class     Images  Instances      Box(P          R      mAP50  mAP50-95): 100%|██████████| 6/6 [00:01<00:00,  4.36it/s]"
          ]
        },
        {
          "metadata": {
            "tags": null
          },
          "name": "stdout",
          "output_type": "stream",
          "text": [
            "                   all         89         89      0.428       0.27      0.309      0.189\n"
          ]
        },
        {
          "metadata": {
            "tags": null
          },
          "name": "stderr",
          "output_type": "stream",
          "text": [
            "\n"
          ]
        },
        {
          "metadata": {
            "tags": null
          },
          "name": "stdout",
          "output_type": "stream",
          "text": [
            "\n",
            "      Epoch    GPU_mem   box_loss   cls_loss   dfl_loss  Instances       Size\n"
          ]
        },
        {
          "metadata": {
            "tags": null
          },
          "name": "stderr",
          "output_type": "stream",
          "text": [
            "      12/50      5.95G      1.306       1.38      1.497         15        640: 100%|██████████| 39/39 [00:13<00:00,  2.80it/s]\n",
            "                 Class     Images  Instances      Box(P          R      mAP50  mAP50-95): 100%|██████████| 6/6 [00:01<00:00,  3.80it/s]"
          ]
        },
        {
          "metadata": {
            "tags": null
          },
          "name": "stdout",
          "output_type": "stream",
          "text": [
            "                   all         89         89      0.796      0.562      0.736      0.483\n"
          ]
        },
        {
          "metadata": {
            "tags": null
          },
          "name": "stderr",
          "output_type": "stream",
          "text": [
            "\n"
          ]
        },
        {
          "metadata": {
            "tags": null
          },
          "name": "stdout",
          "output_type": "stream",
          "text": [
            "\n",
            "      Epoch    GPU_mem   box_loss   cls_loss   dfl_loss  Instances       Size\n"
          ]
        },
        {
          "metadata": {
            "tags": null
          },
          "name": "stderr",
          "output_type": "stream",
          "text": [
            "      13/50      6.02G      1.323      1.363      1.515         15        640: 100%|██████████| 39/39 [00:13<00:00,  2.79it/s]\n",
            "                 Class     Images  Instances      Box(P          R      mAP50  mAP50-95): 100%|██████████| 6/6 [00:01<00:00,  3.63it/s]"
          ]
        },
        {
          "metadata": {
            "tags": null
          },
          "name": "stdout",
          "output_type": "stream",
          "text": [
            "                   all         89         89      0.612      0.697       0.71      0.452\n"
          ]
        },
        {
          "metadata": {
            "tags": null
          },
          "name": "stderr",
          "output_type": "stream",
          "text": [
            "\n"
          ]
        },
        {
          "metadata": {
            "tags": null
          },
          "name": "stdout",
          "output_type": "stream",
          "text": [
            "\n",
            "      Epoch    GPU_mem   box_loss   cls_loss   dfl_loss  Instances       Size\n"
          ]
        },
        {
          "metadata": {
            "tags": null
          },
          "name": "stderr",
          "output_type": "stream",
          "text": [
            "      14/50      6.08G      1.233      1.252      1.388         16        640: 100%|██████████| 39/39 [00:14<00:00,  2.70it/s]\n",
            "                 Class     Images  Instances      Box(P          R      mAP50  mAP50-95): 100%|██████████| 6/6 [00:01<00:00,  4.59it/s]"
          ]
        },
        {
          "metadata": {
            "tags": null
          },
          "name": "stdout",
          "output_type": "stream",
          "text": [
            "                   all         89         89      0.858      0.542      0.697      0.456\n"
          ]
        },
        {
          "metadata": {
            "tags": null
          },
          "name": "stderr",
          "output_type": "stream",
          "text": [
            "\n"
          ]
        },
        {
          "metadata": {
            "tags": null
          },
          "name": "stdout",
          "output_type": "stream",
          "text": [
            "\n",
            "      Epoch    GPU_mem   box_loss   cls_loss   dfl_loss  Instances       Size\n"
          ]
        },
        {
          "metadata": {
            "tags": null
          },
          "name": "stderr",
          "output_type": "stream",
          "text": [
            "      15/50      6.15G      1.245      1.277      1.404         14        640: 100%|██████████| 39/39 [00:15<00:00,  2.47it/s]\n",
            "                 Class     Images  Instances      Box(P          R      mAP50  mAP50-95): 100%|██████████| 6/6 [00:01<00:00,  4.71it/s]"
          ]
        },
        {
          "metadata": {
            "tags": null
          },
          "name": "stdout",
          "output_type": "stream",
          "text": [
            "                   all         89         89      0.851      0.787       0.87      0.619\n"
          ]
        },
        {
          "metadata": {
            "tags": null
          },
          "name": "stderr",
          "output_type": "stream",
          "text": [
            "\n"
          ]
        },
        {
          "metadata": {
            "tags": null
          },
          "name": "stdout",
          "output_type": "stream",
          "text": [
            "\n",
            "      Epoch    GPU_mem   box_loss   cls_loss   dfl_loss  Instances       Size\n"
          ]
        },
        {
          "metadata": {
            "tags": null
          },
          "name": "stderr",
          "output_type": "stream",
          "text": [
            "      16/50      6.21G      1.236      1.227      1.382         19        640: 100%|██████████| 39/39 [00:14<00:00,  2.78it/s]\n",
            "                 Class     Images  Instances      Box(P          R      mAP50  mAP50-95): 100%|██████████| 6/6 [00:01<00:00,  4.55it/s]"
          ]
        },
        {
          "metadata": {
            "tags": null
          },
          "name": "stdout",
          "output_type": "stream",
          "text": [
            "                   all         89         89      0.866      0.663      0.778      0.503\n"
          ]
        },
        {
          "metadata": {
            "tags": null
          },
          "name": "stderr",
          "output_type": "stream",
          "text": [
            "\n"
          ]
        },
        {
          "metadata": {
            "tags": null
          },
          "name": "stdout",
          "output_type": "stream",
          "text": [
            "\n",
            "      Epoch    GPU_mem   box_loss   cls_loss   dfl_loss  Instances       Size\n"
          ]
        },
        {
          "metadata": {
            "tags": null
          },
          "name": "stderr",
          "output_type": "stream",
          "text": [
            "      17/50      6.28G      1.162      1.148      1.343         16        640: 100%|██████████| 39/39 [00:13<00:00,  2.82it/s]\n",
            "                 Class     Images  Instances      Box(P          R      mAP50  mAP50-95): 100%|██████████| 6/6 [00:01<00:00,  3.98it/s]"
          ]
        },
        {
          "metadata": {
            "tags": null
          },
          "name": "stdout",
          "output_type": "stream",
          "text": [
            "                   all         89         89      0.945      0.773      0.892      0.649\n"
          ]
        },
        {
          "metadata": {
            "tags": null
          },
          "name": "stderr",
          "output_type": "stream",
          "text": [
            "\n"
          ]
        },
        {
          "metadata": {
            "tags": null
          },
          "name": "stdout",
          "output_type": "stream",
          "text": [
            "\n",
            "      Epoch    GPU_mem   box_loss   cls_loss   dfl_loss  Instances       Size\n"
          ]
        },
        {
          "metadata": {
            "tags": null
          },
          "name": "stderr",
          "output_type": "stream",
          "text": [
            "      18/50      6.35G      1.114      1.132      1.327         14        640: 100%|██████████| 39/39 [00:14<00:00,  2.77it/s]\n",
            "                 Class     Images  Instances      Box(P          R      mAP50  mAP50-95): 100%|██████████| 6/6 [00:01<00:00,  4.52it/s]"
          ]
        },
        {
          "metadata": {
            "tags": null
          },
          "name": "stdout",
          "output_type": "stream",
          "text": [
            "                   all         89         89      0.909      0.786      0.893       0.66\n"
          ]
        },
        {
          "metadata": {
            "tags": null
          },
          "name": "stderr",
          "output_type": "stream",
          "text": [
            "\n"
          ]
        },
        {
          "metadata": {
            "tags": null
          },
          "name": "stdout",
          "output_type": "stream",
          "text": [
            "\n",
            "      Epoch    GPU_mem   box_loss   cls_loss   dfl_loss  Instances       Size\n"
          ]
        },
        {
          "metadata": {
            "tags": null
          },
          "name": "stderr",
          "output_type": "stream",
          "text": [
            "      19/50      6.41G      1.146      1.152      1.332         14        640: 100%|██████████| 39/39 [00:14<00:00,  2.66it/s]\n",
            "                 Class     Images  Instances      Box(P          R      mAP50  mAP50-95): 100%|██████████| 6/6 [00:01<00:00,  4.59it/s]"
          ]
        },
        {
          "metadata": {
            "tags": null
          },
          "name": "stdout",
          "output_type": "stream",
          "text": [
            "                   all         89         89      0.838      0.764      0.872      0.641\n"
          ]
        },
        {
          "metadata": {
            "tags": null
          },
          "name": "stderr",
          "output_type": "stream",
          "text": [
            "\n"
          ]
        },
        {
          "metadata": {
            "tags": null
          },
          "name": "stdout",
          "output_type": "stream",
          "text": [
            "\n",
            "      Epoch    GPU_mem   box_loss   cls_loss   dfl_loss  Instances       Size\n"
          ]
        },
        {
          "metadata": {
            "tags": null
          },
          "name": "stderr",
          "output_type": "stream",
          "text": [
            "      20/50      6.48G      1.093      1.068      1.287         15        640: 100%|██████████| 39/39 [00:13<00:00,  2.81it/s]\n",
            "                 Class     Images  Instances      Box(P          R      mAP50  mAP50-95): 100%|██████████| 6/6 [00:01<00:00,  4.62it/s]"
          ]
        },
        {
          "metadata": {
            "tags": null
          },
          "name": "stdout",
          "output_type": "stream",
          "text": [
            "                   all         89         89      0.838      0.699      0.827      0.598\n"
          ]
        },
        {
          "metadata": {
            "tags": null
          },
          "name": "stderr",
          "output_type": "stream",
          "text": [
            "\n"
          ]
        },
        {
          "metadata": {
            "tags": null
          },
          "name": "stdout",
          "output_type": "stream",
          "text": [
            "\n",
            "      Epoch    GPU_mem   box_loss   cls_loss   dfl_loss  Instances       Size\n"
          ]
        },
        {
          "metadata": {
            "tags": null
          },
          "name": "stderr",
          "output_type": "stream",
          "text": [
            "      21/50      6.54G      1.068      1.007      1.263         11        640: 100%|██████████| 39/39 [00:13<00:00,  2.84it/s]\n",
            "                 Class     Images  Instances      Box(P          R      mAP50  mAP50-95): 100%|██████████| 6/6 [00:01<00:00,  4.53it/s]"
          ]
        },
        {
          "metadata": {
            "tags": null
          },
          "name": "stdout",
          "output_type": "stream",
          "text": [
            "                   all         89         89       0.85      0.753      0.888      0.667\n"
          ]
        },
        {
          "metadata": {
            "tags": null
          },
          "name": "stderr",
          "output_type": "stream",
          "text": [
            "\n"
          ]
        },
        {
          "metadata": {
            "tags": null
          },
          "name": "stdout",
          "output_type": "stream",
          "text": [
            "\n",
            "      Epoch    GPU_mem   box_loss   cls_loss   dfl_loss  Instances       Size\n"
          ]
        },
        {
          "output_type": "stream",
          "name": "stderr",
          "text": [
            "      22/50      6.61G      1.044     0.9941       1.25         12        640: 100%|██████████| 39/39 [00:13<00:00,  2.82it/s]\n",
            "                 Class     Images  Instances      Box(P          R      mAP50  mAP50-95): 100%|██████████| 6/6 [00:01<00:00,  3.63it/s]"
          ]
        },
        {
          "output_type": "stream",
          "name": "stdout",
          "text": [
            "                   all         89         89       0.95       0.86      0.927      0.678\n"
          ]
        },
        {
          "output_type": "stream",
          "name": "stderr",
          "text": [
            "\n"
          ]
        },
        {
          "output_type": "stream",
          "name": "stdout",
          "text": [
            "\n",
            "      Epoch    GPU_mem   box_loss   cls_loss   dfl_loss  Instances       Size\n"
          ]
        },
        {
          "output_type": "stream",
          "name": "stderr",
          "text": [
            "      23/50      6.68G       1.03     0.9807      1.252         12        640: 100%|██████████| 39/39 [00:14<00:00,  2.68it/s]\n",
            "                 Class     Images  Instances      Box(P          R      mAP50  mAP50-95): 100%|██████████| 6/6 [00:01<00:00,  4.59it/s]"
          ]
        },
        {
          "output_type": "stream",
          "name": "stdout",
          "text": [
            "                   all         89         89      0.817      0.719      0.796      0.576\n"
          ]
        },
        {
          "output_type": "stream",
          "name": "stderr",
          "text": [
            "\n"
          ]
        },
        {
          "output_type": "stream",
          "name": "stdout",
          "text": [
            "\n",
            "      Epoch    GPU_mem   box_loss   cls_loss   dfl_loss  Instances       Size\n"
          ]
        },
        {
          "output_type": "stream",
          "name": "stderr",
          "text": [
            "      24/50      6.74G       1.06       1.05      1.288         11        640: 100%|██████████| 39/39 [00:12<00:00,  3.16it/s]\n",
            "                 Class     Images  Instances      Box(P          R      mAP50  mAP50-95): 100%|██████████| 6/6 [00:01<00:00,  4.64it/s]"
          ]
        },
        {
          "output_type": "stream",
          "name": "stdout",
          "text": [
            "                   all         89         89      0.996      0.876       0.94      0.688\n"
          ]
        },
        {
          "output_type": "stream",
          "name": "stderr",
          "text": [
            "\n"
          ]
        },
        {
          "output_type": "stream",
          "name": "stdout",
          "text": [
            "\n",
            "      Epoch    GPU_mem   box_loss   cls_loss   dfl_loss  Instances       Size\n"
          ]
        },
        {
          "output_type": "stream",
          "name": "stderr",
          "text": [
            "      25/50      6.81G      1.009     0.9694      1.235         18        640: 100%|██████████| 39/39 [00:13<00:00,  2.84it/s]\n",
            "                 Class     Images  Instances      Box(P          R      mAP50  mAP50-95): 100%|██████████| 6/6 [00:02<00:00,  2.22it/s]"
          ]
        },
        {
          "output_type": "stream",
          "name": "stdout",
          "text": [
            "                   all         89         89      0.846      0.867      0.933      0.683\n"
          ]
        },
        {
          "output_type": "stream",
          "name": "stderr",
          "text": [
            "\n"
          ]
        },
        {
          "output_type": "stream",
          "name": "stdout",
          "text": [
            "\n",
            "      Epoch    GPU_mem   box_loss   cls_loss   dfl_loss  Instances       Size\n"
          ]
        },
        {
          "output_type": "stream",
          "name": "stderr",
          "text": [
            "      26/50      6.91G     0.9947     0.9401      1.229         21        640: 100%|██████████| 39/39 [00:16<00:00,  2.36it/s]\n",
            "                 Class     Images  Instances      Box(P          R      mAP50  mAP50-95): 100%|██████████| 6/6 [00:01<00:00,  4.55it/s]"
          ]
        },
        {
          "output_type": "stream",
          "name": "stdout",
          "text": [
            "                   all         89         89      0.958      0.865      0.936      0.689\n"
          ]
        },
        {
          "output_type": "stream",
          "name": "stderr",
          "text": [
            "\n"
          ]
        },
        {
          "output_type": "stream",
          "name": "stdout",
          "text": [
            "\n",
            "      Epoch    GPU_mem   box_loss   cls_loss   dfl_loss  Instances       Size\n"
          ]
        },
        {
          "output_type": "stream",
          "name": "stderr",
          "text": [
            "      27/50       7.3G     0.9594     0.8875      1.212         20        640: 100%|██████████| 39/39 [00:14<00:00,  2.76it/s]\n",
            "                 Class     Images  Instances      Box(P          R      mAP50  mAP50-95): 100%|██████████| 6/6 [00:01<00:00,  4.68it/s]"
          ]
        },
        {
          "output_type": "stream",
          "name": "stdout",
          "text": [
            "                   all         89         89      0.867      0.719      0.836      0.624\n"
          ]
        },
        {
          "output_type": "stream",
          "name": "stderr",
          "text": [
            "\n"
          ]
        },
        {
          "output_type": "stream",
          "name": "stdout",
          "text": [
            "\n",
            "      Epoch    GPU_mem   box_loss   cls_loss   dfl_loss  Instances       Size\n"
          ]
        },
        {
          "output_type": "stream",
          "name": "stderr",
          "text": [
            "      28/50      7.37G     0.9545     0.9016      1.219         14        640: 100%|██████████| 39/39 [00:14<00:00,  2.69it/s]\n",
            "                 Class     Images  Instances      Box(P          R      mAP50  mAP50-95): 100%|██████████| 6/6 [00:01<00:00,  3.98it/s]"
          ]
        },
        {
          "output_type": "stream",
          "name": "stdout",
          "text": [
            "                   all         89         89      0.939      0.843      0.926      0.688\n"
          ]
        },
        {
          "output_type": "stream",
          "name": "stderr",
          "text": [
            "\n"
          ]
        },
        {
          "output_type": "stream",
          "name": "stdout",
          "text": [
            "\n",
            "      Epoch    GPU_mem   box_loss   cls_loss   dfl_loss  Instances       Size\n"
          ]
        },
        {
          "output_type": "stream",
          "name": "stderr",
          "text": [
            "      29/50      4.73G     0.9207     0.8632      1.191         17        640: 100%|██████████| 39/39 [00:15<00:00,  2.60it/s]\n",
            "                 Class     Images  Instances      Box(P          R      mAP50  mAP50-95): 100%|██████████| 6/6 [00:01<00:00,  4.68it/s]"
          ]
        },
        {
          "output_type": "stream",
          "name": "stdout",
          "text": [
            "                   all         89         89      0.912      0.831      0.923      0.713\n"
          ]
        },
        {
          "output_type": "stream",
          "name": "stderr",
          "text": [
            "\n"
          ]
        },
        {
          "output_type": "stream",
          "name": "stdout",
          "text": [
            "\n",
            "      Epoch    GPU_mem   box_loss   cls_loss   dfl_loss  Instances       Size\n"
          ]
        },
        {
          "output_type": "stream",
          "name": "stderr",
          "text": [
            "      30/50      5.27G     0.9306     0.8603      1.185         16        640: 100%|██████████| 39/39 [00:14<00:00,  2.74it/s]\n",
            "                 Class     Images  Instances      Box(P          R      mAP50  mAP50-95): 100%|██████████| 6/6 [00:01<00:00,  4.51it/s]"
          ]
        },
        {
          "output_type": "stream",
          "name": "stdout",
          "text": [
            "                   all         89         89      0.889      0.904      0.934      0.692\n"
          ]
        },
        {
          "output_type": "stream",
          "name": "stderr",
          "text": [
            "\n"
          ]
        },
        {
          "output_type": "stream",
          "name": "stdout",
          "text": [
            "\n",
            "      Epoch    GPU_mem   box_loss   cls_loss   dfl_loss  Instances       Size\n"
          ]
        },
        {
          "output_type": "stream",
          "name": "stderr",
          "text": [
            "      31/50      5.27G     0.9395     0.8731      1.223         15        640: 100%|██████████| 39/39 [00:14<00:00,  2.77it/s]\n",
            "                 Class     Images  Instances      Box(P          R      mAP50  mAP50-95): 100%|██████████| 6/6 [00:01<00:00,  3.83it/s]"
          ]
        },
        {
          "output_type": "stream",
          "name": "stdout",
          "text": [
            "                   all         89         89      0.772      0.955      0.938      0.745\n"
          ]
        },
        {
          "output_type": "stream",
          "name": "stderr",
          "text": [
            "\n"
          ]
        },
        {
          "output_type": "stream",
          "name": "stdout",
          "text": [
            "\n",
            "      Epoch    GPU_mem   box_loss   cls_loss   dfl_loss  Instances       Size\n"
          ]
        },
        {
          "output_type": "stream",
          "name": "stderr",
          "text": [
            "      32/50      5.27G     0.9273     0.8277       1.18          9        640: 100%|██████████| 39/39 [00:13<00:00,  2.80it/s]\n",
            "                 Class     Images  Instances      Box(P          R      mAP50  mAP50-95): 100%|██████████| 6/6 [00:01<00:00,  4.65it/s]"
          ]
        },
        {
          "output_type": "stream",
          "name": "stdout",
          "text": [
            "                   all         89         89      0.899      0.899      0.955      0.762\n"
          ]
        },
        {
          "output_type": "stream",
          "name": "stderr",
          "text": [
            "\n"
          ]
        },
        {
          "output_type": "stream",
          "name": "stdout",
          "text": [
            "\n",
            "      Epoch    GPU_mem   box_loss   cls_loss   dfl_loss  Instances       Size\n"
          ]
        },
        {
          "output_type": "stream",
          "name": "stderr",
          "text": [
            "      33/50      5.27G     0.8628     0.7867       1.14         23        640: 100%|██████████| 39/39 [00:14<00:00,  2.67it/s]\n",
            "                 Class     Images  Instances      Box(P          R      mAP50  mAP50-95): 100%|██████████| 6/6 [00:01<00:00,  4.52it/s]"
          ]
        },
        {
          "output_type": "stream",
          "name": "stdout",
          "text": [
            "                   all         89         89      0.855      0.926      0.953      0.763\n"
          ]
        },
        {
          "output_type": "stream",
          "name": "stderr",
          "text": [
            "\n"
          ]
        },
        {
          "output_type": "stream",
          "name": "stdout",
          "text": [
            "\n",
            "      Epoch    GPU_mem   box_loss   cls_loss   dfl_loss  Instances       Size\n"
          ]
        },
        {
          "output_type": "stream",
          "name": "stderr",
          "text": [
            "      34/50      5.27G      0.884     0.8071      1.145         15        640: 100%|██████████| 39/39 [00:13<00:00,  2.83it/s]\n",
            "                 Class     Images  Instances      Box(P          R      mAP50  mAP50-95): 100%|██████████| 6/6 [00:01<00:00,  4.59it/s]"
          ]
        },
        {
          "output_type": "stream",
          "name": "stdout",
          "text": [
            "                   all         89         89       0.88      0.907      0.928      0.749\n"
          ]
        },
        {
          "output_type": "stream",
          "name": "stderr",
          "text": [
            "\n"
          ]
        },
        {
          "output_type": "stream",
          "name": "stdout",
          "text": [
            "\n",
            "      Epoch    GPU_mem   box_loss   cls_loss   dfl_loss  Instances       Size\n"
          ]
        },
        {
          "output_type": "stream",
          "name": "stderr",
          "text": [
            "      35/50      5.27G     0.8417      0.789      1.136         13        640: 100%|██████████| 39/39 [00:16<00:00,  2.33it/s]\n",
            "                 Class     Images  Instances      Box(P          R      mAP50  mAP50-95): 100%|██████████| 6/6 [00:01<00:00,  4.00it/s]"
          ]
        },
        {
          "output_type": "stream",
          "name": "stdout",
          "text": [
            "                   all         89         89      0.988      0.929      0.961      0.786\n"
          ]
        },
        {
          "output_type": "stream",
          "name": "stderr",
          "text": [
            "\n"
          ]
        },
        {
          "output_type": "stream",
          "name": "stdout",
          "text": [
            "\n",
            "      Epoch    GPU_mem   box_loss   cls_loss   dfl_loss  Instances       Size\n"
          ]
        },
        {
          "output_type": "stream",
          "name": "stderr",
          "text": [
            "      36/50      5.33G     0.8211     0.7267      1.119         16        640: 100%|██████████| 39/39 [00:14<00:00,  2.74it/s]\n",
            "                 Class     Images  Instances      Box(P          R      mAP50  mAP50-95): 100%|██████████| 6/6 [00:01<00:00,  4.49it/s]"
          ]
        },
        {
          "output_type": "stream",
          "name": "stdout",
          "text": [
            "                   all         89         89      0.971      0.921      0.961      0.787\n"
          ]
        },
        {
          "output_type": "stream",
          "name": "stderr",
          "text": [
            "\n"
          ]
        },
        {
          "output_type": "stream",
          "name": "stdout",
          "text": [
            "\n",
            "      Epoch    GPU_mem   box_loss   cls_loss   dfl_loss  Instances       Size\n"
          ]
        },
        {
          "output_type": "stream",
          "name": "stderr",
          "text": [
            "      37/50       5.4G     0.8051     0.6817      1.094         11        640: 100%|██████████| 39/39 [00:14<00:00,  2.75it/s]\n",
            "                 Class     Images  Instances      Box(P          R      mAP50  mAP50-95): 100%|██████████| 6/6 [00:01<00:00,  4.53it/s]"
          ]
        },
        {
          "output_type": "stream",
          "name": "stdout",
          "text": [
            "                   all         89         89      0.867      0.953      0.957      0.765\n"
          ]
        },
        {
          "output_type": "stream",
          "name": "stderr",
          "text": [
            "\n"
          ]
        },
        {
          "output_type": "stream",
          "name": "stdout",
          "text": [
            "\n",
            "      Epoch    GPU_mem   box_loss   cls_loss   dfl_loss  Instances       Size\n"
          ]
        },
        {
          "output_type": "stream",
          "name": "stderr",
          "text": [
            "      38/50      5.79G     0.8201     0.7529       1.12         18        640: 100%|██████████| 39/39 [00:15<00:00,  2.59it/s]\n",
            "                 Class     Images  Instances      Box(P          R      mAP50  mAP50-95): 100%|██████████| 6/6 [00:01<00:00,  4.29it/s]"
          ]
        },
        {
          "output_type": "stream",
          "name": "stdout",
          "text": [
            "                   all         89         89      0.943      0.936      0.965      0.801\n"
          ]
        },
        {
          "output_type": "stream",
          "name": "stderr",
          "text": [
            "\n"
          ]
        },
        {
          "output_type": "stream",
          "name": "stdout",
          "text": [
            "\n",
            "      Epoch    GPU_mem   box_loss   cls_loss   dfl_loss  Instances       Size\n"
          ]
        },
        {
          "output_type": "stream",
          "name": "stderr",
          "text": [
            "      39/50      5.85G     0.7957     0.6983      1.118         12        640: 100%|██████████| 39/39 [00:14<00:00,  2.67it/s]\n",
            "                 Class     Images  Instances      Box(P          R      mAP50  mAP50-95): 100%|██████████| 6/6 [00:01<00:00,  4.65it/s]"
          ]
        },
        {
          "output_type": "stream",
          "name": "stdout",
          "text": [
            "                   all         89         89      0.949      0.933      0.963      0.787\n"
          ]
        },
        {
          "output_type": "stream",
          "name": "stderr",
          "text": [
            "\n"
          ]
        },
        {
          "output_type": "stream",
          "name": "stdout",
          "text": [
            "\n",
            "      Epoch    GPU_mem   box_loss   cls_loss   dfl_loss  Instances       Size\n"
          ]
        },
        {
          "output_type": "stream",
          "name": "stderr",
          "text": [
            "      40/50      5.92G     0.7884     0.7058      1.108         18        640: 100%|██████████| 39/39 [00:14<00:00,  2.74it/s]\n",
            "                 Class     Images  Instances      Box(P          R      mAP50  mAP50-95): 100%|██████████| 6/6 [00:03<00:00,  1.73it/s]"
          ]
        },
        {
          "output_type": "stream",
          "name": "stdout",
          "text": [
            "                   all         89         89      0.976      0.918      0.967      0.797\n"
          ]
        },
        {
          "output_type": "stream",
          "name": "stderr",
          "text": [
            "\n"
          ]
        },
        {
          "output_type": "stream",
          "name": "stdout",
          "text": [
            "Closing dataloader mosaic\n",
            "\u001b[34m\u001b[1malbumentations: \u001b[0mBlur(p=0.01, blur_limit=(3, 7)), MedianBlur(p=0.01, blur_limit=(3, 7)), ToGray(p=0.01, method='weighted_average', num_output_channels=3), CLAHE(p=0.01, clip_limit=(1.0, 4.0), tile_grid_size=(8, 8))\n",
            "\n",
            "      Epoch    GPU_mem   box_loss   cls_loss   dfl_loss  Instances       Size\n"
          ]
        },
        {
          "output_type": "stream",
          "name": "stderr",
          "text": [
            "      41/50      5.98G     0.6688     0.5457       1.03          8        640: 100%|██████████| 39/39 [00:15<00:00,  2.55it/s]\n",
            "                 Class     Images  Instances      Box(P          R      mAP50  mAP50-95): 100%|██████████| 6/6 [00:01<00:00,  4.55it/s]"
          ]
        },
        {
          "output_type": "stream",
          "name": "stdout",
          "text": [
            "                   all         89         89      0.988      0.906      0.965      0.808\n"
          ]
        },
        {
          "output_type": "stream",
          "name": "stderr",
          "text": [
            "\n"
          ]
        },
        {
          "output_type": "stream",
          "name": "stdout",
          "text": [
            "\n",
            "      Epoch    GPU_mem   box_loss   cls_loss   dfl_loss  Instances       Size\n"
          ]
        },
        {
          "output_type": "stream",
          "name": "stderr",
          "text": [
            "      42/50      6.05G     0.6704     0.5331      1.058          8        640: 100%|██████████| 39/39 [00:12<00:00,  3.17it/s]\n",
            "                 Class     Images  Instances      Box(P          R      mAP50  mAP50-95): 100%|██████████| 6/6 [00:01<00:00,  3.79it/s]"
          ]
        },
        {
          "output_type": "stream",
          "name": "stdout",
          "text": [
            "                   all         89         89      0.955      0.955       0.97      0.812\n"
          ]
        },
        {
          "output_type": "stream",
          "name": "stderr",
          "text": [
            "\n"
          ]
        },
        {
          "output_type": "stream",
          "name": "stdout",
          "text": [
            "\n",
            "      Epoch    GPU_mem   box_loss   cls_loss   dfl_loss  Instances       Size\n"
          ]
        },
        {
          "output_type": "stream",
          "name": "stderr",
          "text": [
            "      43/50      6.12G     0.6414     0.4944      1.034          8        640: 100%|██████████| 39/39 [00:14<00:00,  2.71it/s]\n",
            "                 Class     Images  Instances      Box(P          R      mAP50  mAP50-95): 100%|██████████| 6/6 [00:01<00:00,  4.03it/s]"
          ]
        },
        {
          "output_type": "stream",
          "name": "stdout",
          "text": [
            "                   all         89         89      0.965      0.933      0.966      0.804\n"
          ]
        },
        {
          "output_type": "stream",
          "name": "stderr",
          "text": [
            "\n"
          ]
        },
        {
          "output_type": "stream",
          "name": "stdout",
          "text": [
            "\n",
            "      Epoch    GPU_mem   box_loss   cls_loss   dfl_loss  Instances       Size\n"
          ]
        },
        {
          "output_type": "stream",
          "name": "stderr",
          "text": [
            "      44/50      6.18G     0.6449     0.5018      1.014          8        640: 100%|██████████| 39/39 [00:16<00:00,  2.35it/s]\n",
            "                 Class     Images  Instances      Box(P          R      mAP50  mAP50-95): 100%|██████████| 6/6 [00:01<00:00,  4.17it/s]"
          ]
        },
        {
          "output_type": "stream",
          "name": "stdout",
          "text": [
            "                   all         89         89      0.982      0.944      0.966      0.799\n"
          ]
        },
        {
          "output_type": "stream",
          "name": "stderr",
          "text": [
            "\n"
          ]
        },
        {
          "output_type": "stream",
          "name": "stdout",
          "text": [
            "\n",
            "      Epoch    GPU_mem   box_loss   cls_loss   dfl_loss  Instances       Size\n"
          ]
        },
        {
          "output_type": "stream",
          "name": "stderr",
          "text": [
            "      45/50      6.25G       0.64     0.4786      1.023          8        640: 100%|██████████| 39/39 [00:14<00:00,  2.75it/s]\n",
            "                 Class     Images  Instances      Box(P          R      mAP50  mAP50-95): 100%|██████████| 6/6 [00:01<00:00,  4.61it/s]"
          ]
        },
        {
          "output_type": "stream",
          "name": "stdout",
          "text": [
            "                   all         89         89       0.96      0.944      0.974      0.817\n"
          ]
        },
        {
          "output_type": "stream",
          "name": "stderr",
          "text": [
            "\n"
          ]
        },
        {
          "output_type": "stream",
          "name": "stdout",
          "text": [
            "\n",
            "      Epoch    GPU_mem   box_loss   cls_loss   dfl_loss  Instances       Size\n"
          ]
        },
        {
          "output_type": "stream",
          "name": "stderr",
          "text": [
            "      46/50      6.32G     0.6266      0.477      1.022          8        640: 100%|██████████| 39/39 [00:14<00:00,  2.70it/s]\n",
            "                 Class     Images  Instances      Box(P          R      mAP50  mAP50-95): 100%|██████████| 6/6 [00:01<00:00,  4.55it/s]"
          ]
        },
        {
          "output_type": "stream",
          "name": "stdout",
          "text": [
            "                   all         89         89      0.977      0.961      0.982       0.83\n"
          ]
        },
        {
          "output_type": "stream",
          "name": "stderr",
          "text": [
            "\n"
          ]
        },
        {
          "output_type": "stream",
          "name": "stdout",
          "text": [
            "\n",
            "      Epoch    GPU_mem   box_loss   cls_loss   dfl_loss  Instances       Size\n"
          ]
        },
        {
          "output_type": "stream",
          "name": "stderr",
          "text": [
            "      47/50      6.38G     0.6036     0.4536      1.009          7        640: 100%|██████████| 39/39 [00:13<00:00,  2.83it/s]\n",
            "                 Class     Images  Instances      Box(P          R      mAP50  mAP50-95): 100%|██████████| 6/6 [00:01<00:00,  4.07it/s]"
          ]
        },
        {
          "output_type": "stream",
          "name": "stdout",
          "text": [
            "                   all         89         89      0.959      0.966      0.979      0.842\n"
          ]
        },
        {
          "output_type": "stream",
          "name": "stderr",
          "text": [
            "\n"
          ]
        },
        {
          "output_type": "stream",
          "name": "stdout",
          "text": [
            "\n",
            "      Epoch    GPU_mem   box_loss   cls_loss   dfl_loss  Instances       Size\n"
          ]
        },
        {
          "output_type": "stream",
          "name": "stderr",
          "text": [
            "      48/50      6.45G     0.5731     0.4449     0.9917          8        640: 100%|██████████| 39/39 [00:14<00:00,  2.70it/s]\n",
            "                 Class     Images  Instances      Box(P          R      mAP50  mAP50-95): 100%|██████████| 6/6 [00:01<00:00,  4.37it/s]"
          ]
        },
        {
          "output_type": "stream",
          "name": "stdout",
          "text": [
            "                   all         89         89      0.964      0.966      0.976      0.846\n"
          ]
        },
        {
          "output_type": "stream",
          "name": "stderr",
          "text": [
            "\n"
          ]
        },
        {
          "output_type": "stream",
          "name": "stdout",
          "text": [
            "\n",
            "      Epoch    GPU_mem   box_loss   cls_loss   dfl_loss  Instances       Size\n"
          ]
        },
        {
          "output_type": "stream",
          "name": "stderr",
          "text": [
            "      49/50      6.51G     0.5822     0.4487     0.9843          8        640: 100%|██████████| 39/39 [00:13<00:00,  2.87it/s]\n",
            "                 Class     Images  Instances      Box(P          R      mAP50  mAP50-95): 100%|██████████| 6/6 [00:01<00:00,  4.41it/s]"
          ]
        },
        {
          "output_type": "stream",
          "name": "stdout",
          "text": [
            "                   all         89         89      0.986      0.966      0.977      0.846\n"
          ]
        },
        {
          "output_type": "stream",
          "name": "stderr",
          "text": [
            "\n"
          ]
        },
        {
          "output_type": "stream",
          "name": "stdout",
          "text": [
            "\n",
            "      Epoch    GPU_mem   box_loss   cls_loss   dfl_loss  Instances       Size\n"
          ]
        },
        {
          "output_type": "stream",
          "name": "stderr",
          "text": [
            "      50/50      6.58G     0.5865     0.4466     0.9996          8        640: 100%|██████████| 39/39 [00:13<00:00,  2.88it/s]\n",
            "                 Class     Images  Instances      Box(P          R      mAP50  mAP50-95): 100%|██████████| 6/6 [00:01<00:00,  4.38it/s]"
          ]
        },
        {
          "output_type": "stream",
          "name": "stdout",
          "text": [
            "                   all         89         89      0.987      0.966      0.977      0.854\n"
          ]
        },
        {
          "output_type": "stream",
          "name": "stderr",
          "text": [
            "\n"
          ]
        },
        {
          "output_type": "stream",
          "name": "stdout",
          "text": [
            "\n",
            "50 epochs completed in 0.245 hours.\n",
            "Optimizer stripped from runs/detect/needle_yolov11m/weights/last.pt, 40.5MB\n",
            "Optimizer stripped from runs/detect/needle_yolov11m/weights/best.pt, 40.5MB\n",
            "\n",
            "Validating runs/detect/needle_yolov11m/weights/best.pt...\n",
            "Ultralytics 8.3.184 🚀 Python-3.12.11 torch-2.8.0+cu126 CUDA:0 (Tesla T4, 15095MiB)\n",
            "YOLO11m summary (fused): 125 layers, 20,030,803 parameters, 0 gradients, 67.6 GFLOPs\n"
          ]
        },
        {
          "output_type": "stream",
          "name": "stderr",
          "text": [
            "                 Class     Images  Instances      Box(P          R      mAP50  mAP50-95): 100%|██████████| 6/6 [00:02<00:00,  2.59it/s]\n"
          ]
        },
        {
          "output_type": "stream",
          "name": "stdout",
          "text": [
            "                   all         89         89      0.987      0.966      0.977      0.855\n",
            "Speed: 0.5ms preprocess, 11.7ms inference, 0.2ms loss, 4.9ms postprocess per image\n",
            "Results saved to \u001b[1mruns/detect/needle_yolov11m\u001b[0m\n"
          ]
        },
        {
          "output_type": "execute_result",
          "data": {
            "text/plain": [
              "ultralytics.utils.metrics.DetMetrics object with attributes:\n",
              "\n",
              "ap_class_index: array([0])\n",
              "box: ultralytics.utils.metrics.Metric object\n",
              "confusion_matrix: <ultralytics.utils.metrics.ConfusionMatrix object at 0x7d50e856a900>\n",
              "curves: ['Precision-Recall(B)', 'F1-Confidence(B)', 'Precision-Confidence(B)', 'Recall-Confidence(B)']\n",
              "curves_results: [[array([          0,    0.001001,    0.002002,    0.003003,    0.004004,    0.005005,    0.006006,    0.007007,    0.008008,    0.009009,     0.01001,    0.011011,    0.012012,    0.013013,    0.014014,    0.015015,    0.016016,    0.017017,    0.018018,    0.019019,     0.02002,    0.021021,    0.022022,    0.023023,\n",
              "          0.024024,    0.025025,    0.026026,    0.027027,    0.028028,    0.029029,     0.03003,    0.031031,    0.032032,    0.033033,    0.034034,    0.035035,    0.036036,    0.037037,    0.038038,    0.039039,     0.04004,    0.041041,    0.042042,    0.043043,    0.044044,    0.045045,    0.046046,    0.047047,\n",
              "          0.048048,    0.049049,     0.05005,    0.051051,    0.052052,    0.053053,    0.054054,    0.055055,    0.056056,    0.057057,    0.058058,    0.059059,     0.06006,    0.061061,    0.062062,    0.063063,    0.064064,    0.065065,    0.066066,    0.067067,    0.068068,    0.069069,     0.07007,    0.071071,\n",
              "          0.072072,    0.073073,    0.074074,    0.075075,    0.076076,    0.077077,    0.078078,    0.079079,     0.08008,    0.081081,    0.082082,    0.083083,    0.084084,    0.085085,    0.086086,    0.087087,    0.088088,    0.089089,     0.09009,    0.091091,    0.092092,    0.093093,    0.094094,    0.095095,\n",
              "          0.096096,    0.097097,    0.098098,    0.099099,      0.1001,      0.1011,      0.1021,      0.1031,      0.1041,     0.10511,     0.10611,     0.10711,     0.10811,     0.10911,     0.11011,     0.11111,     0.11211,     0.11311,     0.11411,     0.11512,     0.11612,     0.11712,     0.11812,     0.11912,\n",
              "           0.12012,     0.12112,     0.12212,     0.12312,     0.12412,     0.12513,     0.12613,     0.12713,     0.12813,     0.12913,     0.13013,     0.13113,     0.13213,     0.13313,     0.13413,     0.13514,     0.13614,     0.13714,     0.13814,     0.13914,     0.14014,     0.14114,     0.14214,     0.14314,\n",
              "           0.14414,     0.14515,     0.14615,     0.14715,     0.14815,     0.14915,     0.15015,     0.15115,     0.15215,     0.15315,     0.15415,     0.15516,     0.15616,     0.15716,     0.15816,     0.15916,     0.16016,     0.16116,     0.16216,     0.16316,     0.16416,     0.16517,     0.16617,     0.16717,\n",
              "           0.16817,     0.16917,     0.17017,     0.17117,     0.17217,     0.17317,     0.17417,     0.17518,     0.17618,     0.17718,     0.17818,     0.17918,     0.18018,     0.18118,     0.18218,     0.18318,     0.18418,     0.18519,     0.18619,     0.18719,     0.18819,     0.18919,     0.19019,     0.19119,\n",
              "           0.19219,     0.19319,     0.19419,      0.1952,      0.1962,      0.1972,      0.1982,      0.1992,      0.2002,      0.2012,      0.2022,      0.2032,      0.2042,     0.20521,     0.20621,     0.20721,     0.20821,     0.20921,     0.21021,     0.21121,     0.21221,     0.21321,     0.21421,     0.21522,\n",
              "           0.21622,     0.21722,     0.21822,     0.21922,     0.22022,     0.22122,     0.22222,     0.22322,     0.22422,     0.22523,     0.22623,     0.22723,     0.22823,     0.22923,     0.23023,     0.23123,     0.23223,     0.23323,     0.23423,     0.23524,     0.23624,     0.23724,     0.23824,     0.23924,\n",
              "           0.24024,     0.24124,     0.24224,     0.24324,     0.24424,     0.24525,     0.24625,     0.24725,     0.24825,     0.24925,     0.25025,     0.25125,     0.25225,     0.25325,     0.25425,     0.25526,     0.25626,     0.25726,     0.25826,     0.25926,     0.26026,     0.26126,     0.26226,     0.26326,\n",
              "           0.26426,     0.26527,     0.26627,     0.26727,     0.26827,     0.26927,     0.27027,     0.27127,     0.27227,     0.27327,     0.27427,     0.27528,     0.27628,     0.27728,     0.27828,     0.27928,     0.28028,     0.28128,     0.28228,     0.28328,     0.28428,     0.28529,     0.28629,     0.28729,\n",
              "           0.28829,     0.28929,     0.29029,     0.29129,     0.29229,     0.29329,     0.29429,      0.2953,      0.2963,      0.2973,      0.2983,      0.2993,      0.3003,      0.3013,      0.3023,      0.3033,      0.3043,     0.30531,     0.30631,     0.30731,     0.30831,     0.30931,     0.31031,     0.31131,\n",
              "           0.31231,     0.31331,     0.31431,     0.31532,     0.31632,     0.31732,     0.31832,     0.31932,     0.32032,     0.32132,     0.32232,     0.32332,     0.32432,     0.32533,     0.32633,     0.32733,     0.32833,     0.32933,     0.33033,     0.33133,     0.33233,     0.33333,     0.33433,     0.33534,\n",
              "           0.33634,     0.33734,     0.33834,     0.33934,     0.34034,     0.34134,     0.34234,     0.34334,     0.34434,     0.34535,     0.34635,     0.34735,     0.34835,     0.34935,     0.35035,     0.35135,     0.35235,     0.35335,     0.35435,     0.35536,     0.35636,     0.35736,     0.35836,     0.35936,\n",
              "           0.36036,     0.36136,     0.36236,     0.36336,     0.36436,     0.36537,     0.36637,     0.36737,     0.36837,     0.36937,     0.37037,     0.37137,     0.37237,     0.37337,     0.37437,     0.37538,     0.37638,     0.37738,     0.37838,     0.37938,     0.38038,     0.38138,     0.38238,     0.38338,\n",
              "           0.38438,     0.38539,     0.38639,     0.38739,     0.38839,     0.38939,     0.39039,     0.39139,     0.39239,     0.39339,     0.39439,      0.3954,      0.3964,      0.3974,      0.3984,      0.3994,      0.4004,      0.4014,      0.4024,      0.4034,      0.4044,     0.40541,     0.40641,     0.40741,\n",
              "           0.40841,     0.40941,     0.41041,     0.41141,     0.41241,     0.41341,     0.41441,     0.41542,     0.41642,     0.41742,     0.41842,     0.41942,     0.42042,     0.42142,     0.42242,     0.42342,     0.42442,     0.42543,     0.42643,     0.42743,     0.42843,     0.42943,     0.43043,     0.43143,\n",
              "           0.43243,     0.43343,     0.43443,     0.43544,     0.43644,     0.43744,     0.43844,     0.43944,     0.44044,     0.44144,     0.44244,     0.44344,     0.44444,     0.44545,     0.44645,     0.44745,     0.44845,     0.44945,     0.45045,     0.45145,     0.45245,     0.45345,     0.45445,     0.45546,\n",
              "           0.45646,     0.45746,     0.45846,     0.45946,     0.46046,     0.46146,     0.46246,     0.46346,     0.46446,     0.46547,     0.46647,     0.46747,     0.46847,     0.46947,     0.47047,     0.47147,     0.47247,     0.47347,     0.47447,     0.47548,     0.47648,     0.47748,     0.47848,     0.47948,\n",
              "           0.48048,     0.48148,     0.48248,     0.48348,     0.48448,     0.48549,     0.48649,     0.48749,     0.48849,     0.48949,     0.49049,     0.49149,     0.49249,     0.49349,     0.49449,      0.4955,      0.4965,      0.4975,      0.4985,      0.4995,      0.5005,      0.5015,      0.5025,      0.5035,\n",
              "            0.5045,     0.50551,     0.50651,     0.50751,     0.50851,     0.50951,     0.51051,     0.51151,     0.51251,     0.51351,     0.51451,     0.51552,     0.51652,     0.51752,     0.51852,     0.51952,     0.52052,     0.52152,     0.52252,     0.52352,     0.52452,     0.52553,     0.52653,     0.52753,\n",
              "           0.52853,     0.52953,     0.53053,     0.53153,     0.53253,     0.53353,     0.53453,     0.53554,     0.53654,     0.53754,     0.53854,     0.53954,     0.54054,     0.54154,     0.54254,     0.54354,     0.54454,     0.54555,     0.54655,     0.54755,     0.54855,     0.54955,     0.55055,     0.55155,\n",
              "           0.55255,     0.55355,     0.55455,     0.55556,     0.55656,     0.55756,     0.55856,     0.55956,     0.56056,     0.56156,     0.56256,     0.56356,     0.56456,     0.56557,     0.56657,     0.56757,     0.56857,     0.56957,     0.57057,     0.57157,     0.57257,     0.57357,     0.57457,     0.57558,\n",
              "           0.57658,     0.57758,     0.57858,     0.57958,     0.58058,     0.58158,     0.58258,     0.58358,     0.58458,     0.58559,     0.58659,     0.58759,     0.58859,     0.58959,     0.59059,     0.59159,     0.59259,     0.59359,     0.59459,      0.5956,      0.5966,      0.5976,      0.5986,      0.5996,\n",
              "            0.6006,      0.6016,      0.6026,      0.6036,      0.6046,     0.60561,     0.60661,     0.60761,     0.60861,     0.60961,     0.61061,     0.61161,     0.61261,     0.61361,     0.61461,     0.61562,     0.61662,     0.61762,     0.61862,     0.61962,     0.62062,     0.62162,     0.62262,     0.62362,\n",
              "           0.62462,     0.62563,     0.62663,     0.62763,     0.62863,     0.62963,     0.63063,     0.63163,     0.63263,     0.63363,     0.63463,     0.63564,     0.63664,     0.63764,     0.63864,     0.63964,     0.64064,     0.64164,     0.64264,     0.64364,     0.64464,     0.64565,     0.64665,     0.64765,\n",
              "           0.64865,     0.64965,     0.65065,     0.65165,     0.65265,     0.65365,     0.65465,     0.65566,     0.65666,     0.65766,     0.65866,     0.65966,     0.66066,     0.66166,     0.66266,     0.66366,     0.66466,     0.66567,     0.66667,     0.66767,     0.66867,     0.66967,     0.67067,     0.67167,\n",
              "           0.67267,     0.67367,     0.67467,     0.67568,     0.67668,     0.67768,     0.67868,     0.67968,     0.68068,     0.68168,     0.68268,     0.68368,     0.68468,     0.68569,     0.68669,     0.68769,     0.68869,     0.68969,     0.69069,     0.69169,     0.69269,     0.69369,     0.69469,      0.6957,\n",
              "            0.6967,      0.6977,      0.6987,      0.6997,      0.7007,      0.7017,      0.7027,      0.7037,      0.7047,     0.70571,     0.70671,     0.70771,     0.70871,     0.70971,     0.71071,     0.71171,     0.71271,     0.71371,     0.71471,     0.71572,     0.71672,     0.71772,     0.71872,     0.71972,\n",
              "           0.72072,     0.72172,     0.72272,     0.72372,     0.72472,     0.72573,     0.72673,     0.72773,     0.72873,     0.72973,     0.73073,     0.73173,     0.73273,     0.73373,     0.73473,     0.73574,     0.73674,     0.73774,     0.73874,     0.73974,     0.74074,     0.74174,     0.74274,     0.74374,\n",
              "           0.74474,     0.74575,     0.74675,     0.74775,     0.74875,     0.74975,     0.75075,     0.75175,     0.75275,     0.75375,     0.75475,     0.75576,     0.75676,     0.75776,     0.75876,     0.75976,     0.76076,     0.76176,     0.76276,     0.76376,     0.76476,     0.76577,     0.76677,     0.76777,\n",
              "           0.76877,     0.76977,     0.77077,     0.77177,     0.77277,     0.77377,     0.77477,     0.77578,     0.77678,     0.77778,     0.77878,     0.77978,     0.78078,     0.78178,     0.78278,     0.78378,     0.78478,     0.78579,     0.78679,     0.78779,     0.78879,     0.78979,     0.79079,     0.79179,\n",
              "           0.79279,     0.79379,     0.79479,      0.7958,      0.7968,      0.7978,      0.7988,      0.7998,      0.8008,      0.8018,      0.8028,      0.8038,      0.8048,     0.80581,     0.80681,     0.80781,     0.80881,     0.80981,     0.81081,     0.81181,     0.81281,     0.81381,     0.81481,     0.81582,\n",
              "           0.81682,     0.81782,     0.81882,     0.81982,     0.82082,     0.82182,     0.82282,     0.82382,     0.82482,     0.82583,     0.82683,     0.82783,     0.82883,     0.82983,     0.83083,     0.83183,     0.83283,     0.83383,     0.83483,     0.83584,     0.83684,     0.83784,     0.83884,     0.83984,\n",
              "           0.84084,     0.84184,     0.84284,     0.84384,     0.84484,     0.84585,     0.84685,     0.84785,     0.84885,     0.84985,     0.85085,     0.85185,     0.85285,     0.85385,     0.85485,     0.85586,     0.85686,     0.85786,     0.85886,     0.85986,     0.86086,     0.86186,     0.86286,     0.86386,\n",
              "           0.86486,     0.86587,     0.86687,     0.86787,     0.86887,     0.86987,     0.87087,     0.87187,     0.87287,     0.87387,     0.87487,     0.87588,     0.87688,     0.87788,     0.87888,     0.87988,     0.88088,     0.88188,     0.88288,     0.88388,     0.88488,     0.88589,     0.88689,     0.88789,\n",
              "           0.88889,     0.88989,     0.89089,     0.89189,     0.89289,     0.89389,     0.89489,      0.8959,      0.8969,      0.8979,      0.8989,      0.8999,      0.9009,      0.9019,      0.9029,      0.9039,      0.9049,     0.90591,     0.90691,     0.90791,     0.90891,     0.90991,     0.91091,     0.91191,\n",
              "           0.91291,     0.91391,     0.91491,     0.91592,     0.91692,     0.91792,     0.91892,     0.91992,     0.92092,     0.92192,     0.92292,     0.92392,     0.92492,     0.92593,     0.92693,     0.92793,     0.92893,     0.92993,     0.93093,     0.93193,     0.93293,     0.93393,     0.93493,     0.93594,\n",
              "           0.93694,     0.93794,     0.93894,     0.93994,     0.94094,     0.94194,     0.94294,     0.94394,     0.94494,     0.94595,     0.94695,     0.94795,     0.94895,     0.94995,     0.95095,     0.95195,     0.95295,     0.95395,     0.95495,     0.95596,     0.95696,     0.95796,     0.95896,     0.95996,\n",
              "           0.96096,     0.96196,     0.96296,     0.96396,     0.96496,     0.96597,     0.96697,     0.96797,     0.96897,     0.96997,     0.97097,     0.97197,     0.97297,     0.97397,     0.97497,     0.97598,     0.97698,     0.97798,     0.97898,     0.97998,     0.98098,     0.98198,     0.98298,     0.98398,\n",
              "           0.98498,     0.98599,     0.98699,     0.98799,     0.98899,     0.98999,     0.99099,     0.99199,     0.99299,     0.99399,     0.99499,       0.996,       0.997,       0.998,       0.999,           1]), array([[          1,           1,           1,           1,           1,           1,           1,           1,           1,           1,           1,           1,           1,           1,           1,           1,           1,           1,           1,           1,           1,           1,           1,\n",
              "                  1,           1,           1,           1,           1,           1,           1,           1,           1,           1,           1,           1,           1,           1,           1,           1,           1,           1,           1,           1,           1,           1,           1,\n",
              "                  1,           1,           1,           1,           1,           1,           1,           1,           1,           1,           1,           1,           1,           1,           1,           1,           1,           1,           1,           1,           1,           1,           1,\n",
              "                  1,           1,           1,           1,           1,           1,           1,           1,           1,           1,           1,           1,           1,           1,           1,           1,           1,           1,           1,           1,           1,           1,           1,\n",
              "                  1,           1,           1,           1,           1,           1,           1,           1,           1,           1,           1,           1,           1,           1,           1,           1,           1,           1,           1,           1,           1,           1,           1,\n",
              "                  1,           1,           1,           1,           1,           1,           1,           1,           1,           1,           1,           1,           1,           1,           1,           1,           1,           1,           1,           1,           1,           1,           1,\n",
              "                  1,           1,           1,           1,           1,           1,           1,           1,           1,           1,           1,           1,           1,           1,           1,           1,           1,           1,           1,           1,           1,           1,           1,\n",
              "                  1,           1,           1,           1,           1,           1,           1,           1,           1,           1,           1,           1,           1,           1,           1,           1,           1,           1,           1,           1,           1,           1,           1,\n",
              "                  1,           1,           1,           1,           1,           1,           1,           1,           1,           1,           1,           1,           1,           1,           1,           1,           1,           1,           1,           1,           1,           1,           1,\n",
              "                  1,           1,           1,           1,           1,           1,           1,           1,           1,           1,           1,           1,           1,           1,           1,           1,           1,           1,           1,           1,           1,           1,           1,\n",
              "                  1,           1,           1,           1,           1,           1,           1,           1,           1,           1,           1,           1,           1,           1,           1,           1,           1,           1,           1,           1,           1,           1,           1,\n",
              "                  1,           1,           1,           1,           1,           1,           1,           1,           1,           1,           1,           1,           1,           1,           1,           1,           1,           1,           1,           1,           1,           1,           1,\n",
              "                  1,           1,           1,           1,           1,           1,           1,           1,           1,           1,           1,           1,           1,           1,           1,           1,           1,           1,           1,           1,           1,           1,           1,\n",
              "                  1,           1,           1,           1,           1,           1,           1,           1,           1,           1,           1,           1,           1,           1,           1,           1,           1,           1,           1,           1,           1,           1,           1,\n",
              "                  1,           1,           1,           1,           1,           1,           1,           1,           1,           1,           1,           1,           1,           1,           1,           1,           1,           1,           1,           1,           1,           1,           1,\n",
              "                  1,           1,           1,           1,           1,           1,           1,           1,           1,           1,           1,           1,           1,           1,           1,           1,           1,           1,           1,           1,           1,           1,           1,\n",
              "                  1,           1,           1,           1,           1,           1,           1,           1,           1,           1,           1,           1,           1,           1,           1,           1,           1,           1,           1,           1,           1,           1,           1,\n",
              "                  1,           1,           1,           1,           1,           1,           1,           1,           1,           1,           1,           1,           1,           1,           1,           1,           1,           1,           1,           1,           1,           1,           1,\n",
              "                  1,           1,           1,           1,           1,           1,           1,           1,           1,           1,           1,           1,           1,           1,           1,           1,           1,           1,           1,           1,           1,           1,           1,\n",
              "                  1,           1,           1,           1,           1,           1,           1,           1,           1,           1,           1,           1,           1,           1,           1,           1,           1,           1,           1,           1,           1,           1,           1,\n",
              "                  1,           1,           1,           1,           1,           1,           1,           1,           1,           1,           1,           1,           1,           1,           1,           1,           1,           1,           1,           1,           1,           1,           1,\n",
              "                  1,           1,           1,           1,           1,           1,           1,           1,           1,           1,           1,           1,           1,           1,           1,           1,           1,           1,           1,           1,           1,           1,           1,\n",
              "                  1,           1,           1,           1,           1,           1,           1,           1,           1,           1,           1,           1,           1,           1,           1,           1,           1,           1,           1,           1,           1,           1,           1,\n",
              "                  1,           1,           1,           1,           1,           1,           1,           1,           1,           1,           1,           1,           1,           1,           1,           1,           1,           1,           1,           1,           1,           1,           1,\n",
              "                  1,           1,           1,           1,           1,           1,           1,           1,           1,           1,           1,           1,           1,           1,           1,           1,           1,           1,           1,           1,           1,           1,           1,\n",
              "                  1,           1,           1,           1,           1,           1,           1,           1,           1,           1,           1,           1,           1,           1,           1,           1,           1,           1,           1,           1,           1,           1,           1,\n",
              "                  1,           1,           1,           1,           1,           1,           1,           1,           1,           1,           1,           1,           1,           1,           1,           1,           1,           1,           1,           1,           1,           1,           1,\n",
              "                  1,           1,           1,           1,           1,           1,           1,           1,           1,           1,           1,           1,           1,           1,           1,           1,           1,           1,           1,           1,           1,           1,           1,\n",
              "                  1,           1,           1,           1,           1,           1,           1,           1,           1,           1,           1,           1,           1,           1,           1,           1,           1,           1,           1,           1,           1,           1,           1,\n",
              "                  1,           1,           1,           1,           1,           1,           1,           1,           1,           1,           1,           1,           1,           1,           1,           1,           1,           1,           1,           1,           1,           1,           1,\n",
              "                  1,           1,           1,           1,           1,           1,           1,           1,           1,           1,           1,           1,           1,           1,           1,           1,           1,           1,           1,           1,           1,           1,           1,\n",
              "                  1,           1,           1,           1,           1,           1,           1,           1,           1,           1,           1,           1,           1,           1,           1,           1,           1,     0.98851,     0.98851,     0.98851,     0.98851,     0.98851,     0.98851,\n",
              "            0.98851,     0.98851,     0.98851,     0.98851,     0.98851,     0.98851,     0.98851,     0.98851,     0.98851,     0.98851,     0.98851,     0.98851,     0.98851,     0.98851,     0.98851,     0.98851,     0.98851,     0.98851,     0.98851,     0.98851,     0.98851,     0.98851,     0.98851,\n",
              "            0.98851,     0.98851,     0.98851,     0.98851,     0.98851,     0.98851,     0.98851,     0.98851,     0.98851,     0.98851,     0.98851,     0.98851,     0.98851,     0.98851,     0.98851,     0.98851,     0.98851,     0.98851,     0.98851,     0.98851,     0.98851,     0.98851,     0.98851,\n",
              "            0.98851,     0.98851,     0.98851,     0.98851,     0.98851,     0.98851,     0.98851,     0.98851,     0.98851,     0.98851,     0.98851,     0.98851,     0.98851,     0.98851,     0.98851,     0.98851,     0.98851,     0.98851,     0.98851,     0.98851,     0.98851,     0.98851,     0.98851,\n",
              "            0.98851,     0.98851,     0.98851,     0.98851,     0.98851,     0.98851,     0.98851,     0.98851,     0.98851,     0.98851,     0.98851,     0.98851,     0.98851,     0.98851,     0.98851,     0.98851,     0.98851,     0.98851,     0.98851,     0.98851,     0.98851,     0.98851,     0.98851,\n",
              "            0.98851,     0.98851,     0.98851,     0.98851,     0.98851,     0.98851,     0.98851,     0.98851,     0.98851,     0.98851,     0.98851,     0.98851,     0.98851,     0.98851,     0.98851,     0.98851,     0.98851,     0.98851,     0.98851,     0.98851,     0.98851,     0.98851,     0.98851,\n",
              "            0.98851,     0.98851,     0.98851,     0.98851,     0.98851,     0.98851,     0.98851,     0.98851,     0.98851,     0.98851,     0.98851,     0.98851,     0.98851,     0.98851,     0.98851,     0.98851,     0.98851,     0.98851,     0.98851,     0.98851,     0.98851,     0.98851,     0.98851,\n",
              "            0.98851,     0.98851,     0.98851,     0.98851,     0.98851,     0.98851,     0.98851,     0.98851,     0.98851,     0.98851,     0.98851,     0.98851,     0.98851,     0.98851,     0.98851,     0.98851,     0.98851,     0.98851,     0.98851,     0.98851,     0.98851,     0.98851,     0.98851,\n",
              "            0.98851,     0.98851,     0.98851,     0.98851,     0.98851,     0.98851,     0.98851,     0.98851,     0.98851,     0.98851,     0.98851,     0.98851,     0.98851,     0.98851,     0.98851,     0.98851,     0.98851,     0.98851,     0.98851,     0.98851,     0.98851,     0.98851,     0.98851,\n",
              "            0.98851,     0.98851,     0.98851,     0.98851,     0.98851,     0.98851,     0.98851,     0.98851,     0.98851,     0.98851,     0.98851,     0.98851,     0.98851,     0.98851,     0.98851,     0.98851,     0.98851,     0.98851,     0.98851,     0.98851,     0.98851,     0.98851,     0.98851,\n",
              "            0.98851,     0.98851,     0.98851,     0.98851,     0.98851,     0.98851,     0.98851,     0.98851,     0.98851,     0.98851,     0.98851,     0.98851,     0.98851,     0.98851,     0.98851,     0.98851,     0.98851,     0.98851,     0.98851,     0.98851,     0.98851,     0.98851,     0.98851,\n",
              "            0.76991,     0.76991,     0.76991,     0.76991,     0.76991,     0.76991,     0.76991,     0.76991,     0.76991,     0.76991,     0.76991,     0.38261,     0.38261,     0.38261,     0.38261,     0.38261,     0.38261,     0.38261,     0.38261,     0.38261,     0.38261,     0.38261,      0.3069,\n",
              "              0.279,      0.2511,      0.2232,      0.1953,      0.1674,      0.1395,      0.1116,    0.083699,      0.0558,      0.0279,           0]]), 'Recall', 'Precision'], [array([          0,    0.001001,    0.002002,    0.003003,    0.004004,    0.005005,    0.006006,    0.007007,    0.008008,    0.009009,     0.01001,    0.011011,    0.012012,    0.013013,    0.014014,    0.015015,    0.016016,    0.017017,    0.018018,    0.019019,     0.02002,    0.021021,    0.022022,    0.023023,\n",
              "          0.024024,    0.025025,    0.026026,    0.027027,    0.028028,    0.029029,     0.03003,    0.031031,    0.032032,    0.033033,    0.034034,    0.035035,    0.036036,    0.037037,    0.038038,    0.039039,     0.04004,    0.041041,    0.042042,    0.043043,    0.044044,    0.045045,    0.046046,    0.047047,\n",
              "          0.048048,    0.049049,     0.05005,    0.051051,    0.052052,    0.053053,    0.054054,    0.055055,    0.056056,    0.057057,    0.058058,    0.059059,     0.06006,    0.061061,    0.062062,    0.063063,    0.064064,    0.065065,    0.066066,    0.067067,    0.068068,    0.069069,     0.07007,    0.071071,\n",
              "          0.072072,    0.073073,    0.074074,    0.075075,    0.076076,    0.077077,    0.078078,    0.079079,     0.08008,    0.081081,    0.082082,    0.083083,    0.084084,    0.085085,    0.086086,    0.087087,    0.088088,    0.089089,     0.09009,    0.091091,    0.092092,    0.093093,    0.094094,    0.095095,\n",
              "          0.096096,    0.097097,    0.098098,    0.099099,      0.1001,      0.1011,      0.1021,      0.1031,      0.1041,     0.10511,     0.10611,     0.10711,     0.10811,     0.10911,     0.11011,     0.11111,     0.11211,     0.11311,     0.11411,     0.11512,     0.11612,     0.11712,     0.11812,     0.11912,\n",
              "           0.12012,     0.12112,     0.12212,     0.12312,     0.12412,     0.12513,     0.12613,     0.12713,     0.12813,     0.12913,     0.13013,     0.13113,     0.13213,     0.13313,     0.13413,     0.13514,     0.13614,     0.13714,     0.13814,     0.13914,     0.14014,     0.14114,     0.14214,     0.14314,\n",
              "           0.14414,     0.14515,     0.14615,     0.14715,     0.14815,     0.14915,     0.15015,     0.15115,     0.15215,     0.15315,     0.15415,     0.15516,     0.15616,     0.15716,     0.15816,     0.15916,     0.16016,     0.16116,     0.16216,     0.16316,     0.16416,     0.16517,     0.16617,     0.16717,\n",
              "           0.16817,     0.16917,     0.17017,     0.17117,     0.17217,     0.17317,     0.17417,     0.17518,     0.17618,     0.17718,     0.17818,     0.17918,     0.18018,     0.18118,     0.18218,     0.18318,     0.18418,     0.18519,     0.18619,     0.18719,     0.18819,     0.18919,     0.19019,     0.19119,\n",
              "           0.19219,     0.19319,     0.19419,      0.1952,      0.1962,      0.1972,      0.1982,      0.1992,      0.2002,      0.2012,      0.2022,      0.2032,      0.2042,     0.20521,     0.20621,     0.20721,     0.20821,     0.20921,     0.21021,     0.21121,     0.21221,     0.21321,     0.21421,     0.21522,\n",
              "           0.21622,     0.21722,     0.21822,     0.21922,     0.22022,     0.22122,     0.22222,     0.22322,     0.22422,     0.22523,     0.22623,     0.22723,     0.22823,     0.22923,     0.23023,     0.23123,     0.23223,     0.23323,     0.23423,     0.23524,     0.23624,     0.23724,     0.23824,     0.23924,\n",
              "           0.24024,     0.24124,     0.24224,     0.24324,     0.24424,     0.24525,     0.24625,     0.24725,     0.24825,     0.24925,     0.25025,     0.25125,     0.25225,     0.25325,     0.25425,     0.25526,     0.25626,     0.25726,     0.25826,     0.25926,     0.26026,     0.26126,     0.26226,     0.26326,\n",
              "           0.26426,     0.26527,     0.26627,     0.26727,     0.26827,     0.26927,     0.27027,     0.27127,     0.27227,     0.27327,     0.27427,     0.27528,     0.27628,     0.27728,     0.27828,     0.27928,     0.28028,     0.28128,     0.28228,     0.28328,     0.28428,     0.28529,     0.28629,     0.28729,\n",
              "           0.28829,     0.28929,     0.29029,     0.29129,     0.29229,     0.29329,     0.29429,      0.2953,      0.2963,      0.2973,      0.2983,      0.2993,      0.3003,      0.3013,      0.3023,      0.3033,      0.3043,     0.30531,     0.30631,     0.30731,     0.30831,     0.30931,     0.31031,     0.31131,\n",
              "           0.31231,     0.31331,     0.31431,     0.31532,     0.31632,     0.31732,     0.31832,     0.31932,     0.32032,     0.32132,     0.32232,     0.32332,     0.32432,     0.32533,     0.32633,     0.32733,     0.32833,     0.32933,     0.33033,     0.33133,     0.33233,     0.33333,     0.33433,     0.33534,\n",
              "           0.33634,     0.33734,     0.33834,     0.33934,     0.34034,     0.34134,     0.34234,     0.34334,     0.34434,     0.34535,     0.34635,     0.34735,     0.34835,     0.34935,     0.35035,     0.35135,     0.35235,     0.35335,     0.35435,     0.35536,     0.35636,     0.35736,     0.35836,     0.35936,\n",
              "           0.36036,     0.36136,     0.36236,     0.36336,     0.36436,     0.36537,     0.36637,     0.36737,     0.36837,     0.36937,     0.37037,     0.37137,     0.37237,     0.37337,     0.37437,     0.37538,     0.37638,     0.37738,     0.37838,     0.37938,     0.38038,     0.38138,     0.38238,     0.38338,\n",
              "           0.38438,     0.38539,     0.38639,     0.38739,     0.38839,     0.38939,     0.39039,     0.39139,     0.39239,     0.39339,     0.39439,      0.3954,      0.3964,      0.3974,      0.3984,      0.3994,      0.4004,      0.4014,      0.4024,      0.4034,      0.4044,     0.40541,     0.40641,     0.40741,\n",
              "           0.40841,     0.40941,     0.41041,     0.41141,     0.41241,     0.41341,     0.41441,     0.41542,     0.41642,     0.41742,     0.41842,     0.41942,     0.42042,     0.42142,     0.42242,     0.42342,     0.42442,     0.42543,     0.42643,     0.42743,     0.42843,     0.42943,     0.43043,     0.43143,\n",
              "           0.43243,     0.43343,     0.43443,     0.43544,     0.43644,     0.43744,     0.43844,     0.43944,     0.44044,     0.44144,     0.44244,     0.44344,     0.44444,     0.44545,     0.44645,     0.44745,     0.44845,     0.44945,     0.45045,     0.45145,     0.45245,     0.45345,     0.45445,     0.45546,\n",
              "           0.45646,     0.45746,     0.45846,     0.45946,     0.46046,     0.46146,     0.46246,     0.46346,     0.46446,     0.46547,     0.46647,     0.46747,     0.46847,     0.46947,     0.47047,     0.47147,     0.47247,     0.47347,     0.47447,     0.47548,     0.47648,     0.47748,     0.47848,     0.47948,\n",
              "           0.48048,     0.48148,     0.48248,     0.48348,     0.48448,     0.48549,     0.48649,     0.48749,     0.48849,     0.48949,     0.49049,     0.49149,     0.49249,     0.49349,     0.49449,      0.4955,      0.4965,      0.4975,      0.4985,      0.4995,      0.5005,      0.5015,      0.5025,      0.5035,\n",
              "            0.5045,     0.50551,     0.50651,     0.50751,     0.50851,     0.50951,     0.51051,     0.51151,     0.51251,     0.51351,     0.51451,     0.51552,     0.51652,     0.51752,     0.51852,     0.51952,     0.52052,     0.52152,     0.52252,     0.52352,     0.52452,     0.52553,     0.52653,     0.52753,\n",
              "           0.52853,     0.52953,     0.53053,     0.53153,     0.53253,     0.53353,     0.53453,     0.53554,     0.53654,     0.53754,     0.53854,     0.53954,     0.54054,     0.54154,     0.54254,     0.54354,     0.54454,     0.54555,     0.54655,     0.54755,     0.54855,     0.54955,     0.55055,     0.55155,\n",
              "           0.55255,     0.55355,     0.55455,     0.55556,     0.55656,     0.55756,     0.55856,     0.55956,     0.56056,     0.56156,     0.56256,     0.56356,     0.56456,     0.56557,     0.56657,     0.56757,     0.56857,     0.56957,     0.57057,     0.57157,     0.57257,     0.57357,     0.57457,     0.57558,\n",
              "           0.57658,     0.57758,     0.57858,     0.57958,     0.58058,     0.58158,     0.58258,     0.58358,     0.58458,     0.58559,     0.58659,     0.58759,     0.58859,     0.58959,     0.59059,     0.59159,     0.59259,     0.59359,     0.59459,      0.5956,      0.5966,      0.5976,      0.5986,      0.5996,\n",
              "            0.6006,      0.6016,      0.6026,      0.6036,      0.6046,     0.60561,     0.60661,     0.60761,     0.60861,     0.60961,     0.61061,     0.61161,     0.61261,     0.61361,     0.61461,     0.61562,     0.61662,     0.61762,     0.61862,     0.61962,     0.62062,     0.62162,     0.62262,     0.62362,\n",
              "           0.62462,     0.62563,     0.62663,     0.62763,     0.62863,     0.62963,     0.63063,     0.63163,     0.63263,     0.63363,     0.63463,     0.63564,     0.63664,     0.63764,     0.63864,     0.63964,     0.64064,     0.64164,     0.64264,     0.64364,     0.64464,     0.64565,     0.64665,     0.64765,\n",
              "           0.64865,     0.64965,     0.65065,     0.65165,     0.65265,     0.65365,     0.65465,     0.65566,     0.65666,     0.65766,     0.65866,     0.65966,     0.66066,     0.66166,     0.66266,     0.66366,     0.66466,     0.66567,     0.66667,     0.66767,     0.66867,     0.66967,     0.67067,     0.67167,\n",
              "           0.67267,     0.67367,     0.67467,     0.67568,     0.67668,     0.67768,     0.67868,     0.67968,     0.68068,     0.68168,     0.68268,     0.68368,     0.68468,     0.68569,     0.68669,     0.68769,     0.68869,     0.68969,     0.69069,     0.69169,     0.69269,     0.69369,     0.69469,      0.6957,\n",
              "            0.6967,      0.6977,      0.6987,      0.6997,      0.7007,      0.7017,      0.7027,      0.7037,      0.7047,     0.70571,     0.70671,     0.70771,     0.70871,     0.70971,     0.71071,     0.71171,     0.71271,     0.71371,     0.71471,     0.71572,     0.71672,     0.71772,     0.71872,     0.71972,\n",
              "           0.72072,     0.72172,     0.72272,     0.72372,     0.72472,     0.72573,     0.72673,     0.72773,     0.72873,     0.72973,     0.73073,     0.73173,     0.73273,     0.73373,     0.73473,     0.73574,     0.73674,     0.73774,     0.73874,     0.73974,     0.74074,     0.74174,     0.74274,     0.74374,\n",
              "           0.74474,     0.74575,     0.74675,     0.74775,     0.74875,     0.74975,     0.75075,     0.75175,     0.75275,     0.75375,     0.75475,     0.75576,     0.75676,     0.75776,     0.75876,     0.75976,     0.76076,     0.76176,     0.76276,     0.76376,     0.76476,     0.76577,     0.76677,     0.76777,\n",
              "           0.76877,     0.76977,     0.77077,     0.77177,     0.77277,     0.77377,     0.77477,     0.77578,     0.77678,     0.77778,     0.77878,     0.77978,     0.78078,     0.78178,     0.78278,     0.78378,     0.78478,     0.78579,     0.78679,     0.78779,     0.78879,     0.78979,     0.79079,     0.79179,\n",
              "           0.79279,     0.79379,     0.79479,      0.7958,      0.7968,      0.7978,      0.7988,      0.7998,      0.8008,      0.8018,      0.8028,      0.8038,      0.8048,     0.80581,     0.80681,     0.80781,     0.80881,     0.80981,     0.81081,     0.81181,     0.81281,     0.81381,     0.81481,     0.81582,\n",
              "           0.81682,     0.81782,     0.81882,     0.81982,     0.82082,     0.82182,     0.82282,     0.82382,     0.82482,     0.82583,     0.82683,     0.82783,     0.82883,     0.82983,     0.83083,     0.83183,     0.83283,     0.83383,     0.83483,     0.83584,     0.83684,     0.83784,     0.83884,     0.83984,\n",
              "           0.84084,     0.84184,     0.84284,     0.84384,     0.84484,     0.84585,     0.84685,     0.84785,     0.84885,     0.84985,     0.85085,     0.85185,     0.85285,     0.85385,     0.85485,     0.85586,     0.85686,     0.85786,     0.85886,     0.85986,     0.86086,     0.86186,     0.86286,     0.86386,\n",
              "           0.86486,     0.86587,     0.86687,     0.86787,     0.86887,     0.86987,     0.87087,     0.87187,     0.87287,     0.87387,     0.87487,     0.87588,     0.87688,     0.87788,     0.87888,     0.87988,     0.88088,     0.88188,     0.88288,     0.88388,     0.88488,     0.88589,     0.88689,     0.88789,\n",
              "           0.88889,     0.88989,     0.89089,     0.89189,     0.89289,     0.89389,     0.89489,      0.8959,      0.8969,      0.8979,      0.8989,      0.8999,      0.9009,      0.9019,      0.9029,      0.9039,      0.9049,     0.90591,     0.90691,     0.90791,     0.90891,     0.90991,     0.91091,     0.91191,\n",
              "           0.91291,     0.91391,     0.91491,     0.91592,     0.91692,     0.91792,     0.91892,     0.91992,     0.92092,     0.92192,     0.92292,     0.92392,     0.92492,     0.92593,     0.92693,     0.92793,     0.92893,     0.92993,     0.93093,     0.93193,     0.93293,     0.93393,     0.93493,     0.93594,\n",
              "           0.93694,     0.93794,     0.93894,     0.93994,     0.94094,     0.94194,     0.94294,     0.94394,     0.94494,     0.94595,     0.94695,     0.94795,     0.94895,     0.94995,     0.95095,     0.95195,     0.95295,     0.95395,     0.95495,     0.95596,     0.95696,     0.95796,     0.95896,     0.95996,\n",
              "           0.96096,     0.96196,     0.96296,     0.96396,     0.96496,     0.96597,     0.96697,     0.96797,     0.96897,     0.96997,     0.97097,     0.97197,     0.97297,     0.97397,     0.97497,     0.97598,     0.97698,     0.97798,     0.97898,     0.97998,     0.98098,     0.98198,     0.98298,     0.98398,\n",
              "           0.98498,     0.98599,     0.98699,     0.98799,     0.98899,     0.98999,     0.99099,     0.99199,     0.99299,     0.99399,     0.99499,       0.996,       0.997,       0.998,       0.999,           1]), array([[    0.47568,     0.47568,      0.5748,     0.64034,     0.67173,     0.70765,     0.72956,      0.7493,     0.77002,     0.78036,     0.78928,     0.80211,     0.81769,     0.82118,     0.82904,     0.83187,     0.83871,     0.84131,      0.8428,     0.84429,     0.84611,     0.84804,     0.85401,\n",
              "            0.85618,      0.8596,     0.86101,     0.86039,     0.85976,     0.85914,     0.85851,     0.85788,     0.85726,     0.85663,       0.856,     0.85614,     0.85689,     0.85764,     0.85839,     0.85914,     0.85989,     0.86404,     0.86573,     0.86722,      0.8687,     0.86957,     0.87043,\n",
              "             0.8713,     0.87217,     0.87303,     0.87767,     0.87798,     0.87829,      0.8786,     0.87891,     0.87922,     0.87953,     0.87984,     0.88015,     0.88046,     0.88077,     0.88107,     0.88138,     0.88169,       0.882,     0.88266,     0.88338,     0.88411,     0.88483,     0.88555,\n",
              "            0.88627,     0.88672,     0.88695,     0.88718,      0.8874,     0.88763,     0.88785,     0.88808,     0.88831,     0.88853,     0.88876,     0.88898,     0.88921,     0.88943,     0.88966,     0.88988,     0.89011,     0.89033,     0.89056,     0.89078,     0.89101,     0.89183,     0.89529,\n",
              "            0.90128,     0.90452,     0.90541,      0.9056,     0.90579,     0.90598,     0.90617,     0.90636,     0.90655,     0.90674,     0.90693,     0.90712,     0.90731,      0.9075,     0.90769,     0.90788,     0.90807,     0.90826,     0.90845,     0.90864,     0.90883,     0.90902,     0.90921,\n",
              "             0.9094,     0.90959,     0.90977,     0.90996,     0.91012,     0.91025,     0.91038,     0.91051,     0.91064,     0.91077,      0.9109,     0.91103,     0.91116,      0.9113,     0.91143,     0.91156,     0.91169,     0.91182,     0.91195,     0.91208,     0.91221,     0.91234,     0.91247,\n",
              "             0.9126,     0.91273,     0.91286,     0.91299,     0.91312,     0.91324,     0.91337,      0.9135,     0.91363,     0.91376,     0.91389,     0.91402,     0.91415,     0.91428,     0.91441,     0.91454,     0.91467,      0.9148,     0.91492,     0.91503,     0.91514,     0.91525,     0.91535,\n",
              "            0.91546,     0.91557,     0.91568,     0.91578,     0.91589,       0.916,     0.91611,     0.91621,     0.91632,     0.91643,     0.91654,     0.91664,     0.91675,     0.91686,     0.91697,     0.91707,     0.91718,     0.91729,      0.9174,      0.9175,     0.91761,     0.91772,     0.91782,\n",
              "            0.91793,     0.91804,     0.91815,     0.91825,     0.91836,     0.91847,     0.91857,     0.91868,     0.91879,      0.9189,       0.919,     0.91911,     0.91922,     0.91932,     0.91943,     0.91954,     0.91964,     0.91975,     0.92082,     0.92239,     0.92394,     0.92488,     0.92517,\n",
              "            0.92547,     0.92577,     0.92606,     0.92636,     0.92665,     0.92695,     0.92724,     0.92754,     0.92783,     0.92813,     0.92842,     0.92871,     0.92901,      0.9293,      0.9296,     0.93134,      0.9343,     0.93509,     0.93547,     0.93584,     0.93621,     0.93658,     0.93695,\n",
              "            0.93732,     0.93769,     0.93806,     0.93843,      0.9388,     0.93917,     0.93954,     0.94002,     0.94238,     0.94473,     0.94523,     0.94542,     0.94562,     0.94582,     0.94602,     0.94622,     0.94641,     0.94661,     0.94681,     0.94701,      0.9472,      0.9474,      0.9476,\n",
              "             0.9478,     0.94799,     0.94819,     0.94839,     0.94858,     0.94878,     0.94898,     0.94918,     0.94937,     0.94957,     0.94977,     0.94996,     0.95016,     0.95067,     0.95166,     0.95264,     0.95362,     0.95461,     0.95556,      0.9556,     0.95564,     0.95569,     0.95573,\n",
              "            0.95577,     0.95582,     0.95586,      0.9559,     0.95594,     0.95599,     0.95603,     0.95607,     0.95612,     0.95616,      0.9562,     0.95625,     0.95629,     0.95633,     0.95637,     0.95642,     0.95646,      0.9565,     0.95655,     0.95659,     0.95663,     0.95668,     0.95672,\n",
              "            0.95676,      0.9568,     0.95685,     0.95689,     0.95693,     0.95698,     0.95702,     0.95706,      0.9571,     0.95715,     0.95719,     0.95723,     0.95728,     0.95732,     0.95736,     0.95741,     0.95745,     0.95749,     0.95753,     0.95758,     0.95762,     0.95766,     0.95771,\n",
              "            0.95775,     0.95779,     0.95783,     0.95788,     0.95792,     0.95796,     0.95801,     0.95805,     0.95809,     0.95813,     0.95818,     0.95822,     0.95826,     0.95831,     0.95835,     0.95839,     0.95843,     0.95848,     0.95852,     0.95856,     0.95861,     0.95865,     0.95869,\n",
              "            0.95873,     0.95878,     0.95882,     0.95886,      0.9589,     0.95895,     0.95899,     0.95903,     0.95908,     0.95912,     0.95916,      0.9592,     0.95925,     0.95929,     0.95933,     0.95937,     0.95942,     0.95946,      0.9595,     0.95955,     0.95959,     0.95963,     0.95967,\n",
              "            0.95972,     0.95976,      0.9598,     0.95984,     0.95989,     0.95993,     0.95997,     0.96002,     0.96006,      0.9601,     0.96014,     0.96019,     0.96023,     0.96027,     0.96031,     0.96036,      0.9604,     0.96044,     0.96048,     0.96053,     0.96057,     0.96061,     0.96066,\n",
              "             0.9607,     0.96074,     0.96078,     0.96083,     0.96087,     0.96128,     0.96225,     0.96321,     0.96417,     0.96513,     0.96609,     0.96706,     0.96804,     0.96902,     0.96999,     0.97096,     0.97176,     0.97179,     0.97182,     0.97185,     0.97189,     0.97192,     0.97195,\n",
              "            0.97198,     0.97202,     0.97205,     0.97208,     0.97211,     0.97214,     0.97218,     0.97221,     0.97224,     0.97227,     0.97231,     0.97234,     0.97237,      0.9724,     0.97243,     0.97247,      0.9725,     0.97253,     0.97256,      0.9726,     0.97263,     0.97266,     0.97269,\n",
              "            0.97272,     0.97276,     0.97279,     0.97282,     0.97285,     0.97288,     0.97292,     0.97295,     0.97298,     0.97301,     0.97305,     0.97308,     0.97311,     0.97314,     0.97317,     0.97321,     0.97324,     0.97327,      0.9733,     0.97333,     0.97337,      0.9734,     0.97343,\n",
              "            0.97346,      0.9735,     0.97353,     0.97356,     0.97359,     0.97362,     0.97366,     0.97369,     0.97372,     0.97375,     0.97378,     0.97382,     0.97385,     0.97388,     0.97391,     0.97395,     0.97398,     0.97401,     0.97404,     0.97407,     0.97411,     0.97414,     0.97417,\n",
              "             0.9742,     0.97423,     0.97427,      0.9743,     0.97433,     0.97436,     0.97439,     0.97443,     0.97446,     0.97449,     0.97452,     0.97455,     0.97459,     0.97462,     0.97465,     0.97468,     0.97472,     0.97475,     0.97478,     0.97481,     0.97484,     0.97488,     0.97491,\n",
              "            0.97494,     0.97497,       0.975,     0.97504,     0.97507,      0.9751,     0.97513,     0.97516,      0.9752,     0.97523,     0.97526,     0.97529,     0.97532,     0.97536,     0.97539,     0.97542,     0.97545,     0.97548,     0.97552,     0.97555,     0.97558,     0.97561,     0.97564,\n",
              "            0.97568,     0.97571,     0.97574,     0.97577,      0.9758,     0.97584,     0.97587,      0.9759,     0.97593,     0.97596,       0.976,     0.97603,     0.97606,     0.97609,     0.97612,     0.97616,     0.97619,     0.97622,     0.97625,     0.97628,     0.97632,     0.97635,     0.97638,\n",
              "            0.97641,     0.97644,     0.97647,     0.97651,     0.97654,     0.97657,      0.9766,     0.97663,     0.97667,      0.9767,     0.97673,     0.97676,     0.97679,     0.97683,     0.97686,     0.97689,     0.97692,     0.97695,     0.97699,     0.97702,     0.97705,     0.97708,     0.97711,\n",
              "            0.97714,     0.97718,     0.97721,     0.97724,     0.97727,     0.97716,     0.97704,     0.97692,      0.9768,     0.97668,     0.97657,     0.97645,     0.97633,     0.97621,     0.97609,     0.97597,     0.97586,     0.97574,     0.97562,      0.9755,     0.97538,     0.97526,     0.97515,\n",
              "            0.97503,     0.97491,     0.97479,     0.97467,     0.97455,     0.97444,     0.97432,      0.9742,     0.97408,     0.97396,     0.97384,     0.97372,      0.9736,     0.97349,     0.97337,     0.97325,     0.97313,     0.97301,     0.97289,     0.97277,     0.97265,     0.97253,     0.97242,\n",
              "             0.9723,     0.97218,     0.97206,     0.97194,     0.97182,      0.9717,     0.97158,     0.97146,     0.97109,     0.97063,     0.97017,      0.9697,     0.96924,     0.96877,      0.9683,     0.96784,     0.96737,      0.9669,     0.96644,     0.96597,     0.96542,     0.96298,     0.96052,\n",
              "            0.94678,     0.94581,     0.94484,     0.94386,     0.94288,      0.9419,     0.94062,     0.93849,     0.93635,     0.93059,     0.92834,     0.92806,     0.92778,      0.9275,     0.92722,     0.92694,     0.92666,     0.92638,     0.92611,     0.92583,     0.92555,     0.92527,     0.92499,\n",
              "            0.92471,     0.92443,     0.92415,     0.92386,     0.92358,      0.9233,     0.92302,     0.92274,     0.92246,     0.92218,     0.92144,     0.92066,     0.91988,      0.9191,     0.91831,     0.91753,     0.91674,     0.91596,     0.91542,     0.91502,     0.91463,     0.91423,     0.91384,\n",
              "            0.91344,     0.91305,     0.91265,     0.91225,     0.91186,     0.91146,     0.91106,     0.91067,     0.91027,     0.90987,     0.90947,     0.90907,     0.90845,     0.90783,     0.90721,      0.9066,     0.90598,     0.90536,     0.90474,     0.90411,     0.90349,     0.90287,     0.90232,\n",
              "            0.90195,     0.90158,     0.90121,     0.90084,     0.90047,     0.90009,     0.89972,     0.89935,     0.89898,      0.8986,     0.89823,     0.89786,     0.89748,     0.89711,     0.89673,     0.89636,     0.89598,     0.89561,     0.89524,     0.89488,     0.89451,     0.89415,     0.89378,\n",
              "            0.89341,     0.89304,     0.89268,     0.89231,     0.89194,     0.89157,     0.89121,     0.89084,     0.89047,      0.8901,     0.88973,     0.88936,     0.88899,     0.88877,     0.88861,     0.88844,     0.88828,     0.88812,     0.88795,     0.88779,     0.88762,     0.88746,      0.8873,\n",
              "            0.88713,     0.88697,      0.8868,     0.88664,     0.88648,     0.88631,     0.88615,     0.88598,     0.88582,     0.88565,     0.88549,     0.88533,     0.88516,       0.885,     0.88483,     0.88467,      0.8845,     0.88434,     0.88417,     0.88401,     0.88384,     0.88368,     0.88351,\n",
              "            0.88335,     0.88318,     0.88302,     0.88285,     0.88269,     0.88252,     0.88236,     0.88219,     0.88202,     0.88114,     0.88004,     0.87894,     0.87784,     0.87673,     0.87563,     0.87343,     0.86981,     0.86557,      0.8607,     0.85774,     0.85476,     0.84598,     0.84408,\n",
              "            0.84217,     0.84026,     0.83907,     0.84094,     0.84279,     0.84314,     0.83927,     0.83628,     0.83524,     0.83419,     0.83315,      0.8321,     0.83105,        0.83,     0.82895,     0.82698,     0.82499,       0.823,     0.82104,     0.81944,     0.81783,     0.81622,      0.8146,\n",
              "            0.81217,     0.80673,     0.80468,     0.80377,     0.80285,     0.80193,     0.80101,     0.80009,     0.79917,     0.79825,     0.79732,     0.78677,     0.78434,      0.7819,     0.77843,     0.77412,     0.76347,     0.75994,     0.75639,     0.75322,     0.75023,     0.74723,     0.74586,\n",
              "            0.74504,     0.74421,     0.74338,     0.74256,     0.74173,      0.7409,     0.74007,     0.73924,      0.7384,      0.7372,     0.72747,     0.72539,     0.72331,     0.72122,     0.71807,     0.70982,      0.7079,     0.70598,     0.70405,     0.70211,     0.69885,     0.69232,     0.67922,\n",
              "            0.67249,     0.64989,     0.64568,     0.64144,     0.63718,     0.63289,     0.62857,     0.62422,     0.61861,     0.60504,     0.59572,     0.58001,     0.57408,     0.57115,      0.5682,     0.56525,     0.55552,     0.54814,     0.54205,      0.5261,     0.51772,     0.50923,     0.50207,\n",
              "            0.49689,     0.49167,     0.47431,     0.46537,     0.45856,     0.45193,     0.44847,       0.445,     0.44151,     0.43623,     0.42202,     0.40437,     0.39098,     0.38349,     0.35897,     0.34194,     0.30721,     0.29055,     0.27356,     0.24764,     0.20391,     0.19492,     0.18739,\n",
              "            0.17881,     0.16921,     0.15951,     0.14971,     0.10141,    0.042363,    0.031266,           0,           0,           0,           0,           0,           0,           0,           0,           0,           0,           0,           0,           0,           0,           0,           0,\n",
              "                  0,           0,           0,           0,           0,           0,           0,           0,           0,           0,           0,           0,           0,           0,           0,           0,           0,           0,           0,           0,           0,           0,           0,\n",
              "                  0,           0,           0,           0,           0,           0,           0,           0,           0,           0,           0,           0,           0,           0,           0,           0,           0,           0,           0,           0,           0,           0,           0,\n",
              "                  0,           0,           0,           0,           0,           0,           0,           0,           0,           0,           0]]), 'Confidence', 'F1'], [array([          0,    0.001001,    0.002002,    0.003003,    0.004004,    0.005005,    0.006006,    0.007007,    0.008008,    0.009009,     0.01001,    0.011011,    0.012012,    0.013013,    0.014014,    0.015015,    0.016016,    0.017017,    0.018018,    0.019019,     0.02002,    0.021021,    0.022022,    0.023023,\n",
              "          0.024024,    0.025025,    0.026026,    0.027027,    0.028028,    0.029029,     0.03003,    0.031031,    0.032032,    0.033033,    0.034034,    0.035035,    0.036036,    0.037037,    0.038038,    0.039039,     0.04004,    0.041041,    0.042042,    0.043043,    0.044044,    0.045045,    0.046046,    0.047047,\n",
              "          0.048048,    0.049049,     0.05005,    0.051051,    0.052052,    0.053053,    0.054054,    0.055055,    0.056056,    0.057057,    0.058058,    0.059059,     0.06006,    0.061061,    0.062062,    0.063063,    0.064064,    0.065065,    0.066066,    0.067067,    0.068068,    0.069069,     0.07007,    0.071071,\n",
              "          0.072072,    0.073073,    0.074074,    0.075075,    0.076076,    0.077077,    0.078078,    0.079079,     0.08008,    0.081081,    0.082082,    0.083083,    0.084084,    0.085085,    0.086086,    0.087087,    0.088088,    0.089089,     0.09009,    0.091091,    0.092092,    0.093093,    0.094094,    0.095095,\n",
              "          0.096096,    0.097097,    0.098098,    0.099099,      0.1001,      0.1011,      0.1021,      0.1031,      0.1041,     0.10511,     0.10611,     0.10711,     0.10811,     0.10911,     0.11011,     0.11111,     0.11211,     0.11311,     0.11411,     0.11512,     0.11612,     0.11712,     0.11812,     0.11912,\n",
              "           0.12012,     0.12112,     0.12212,     0.12312,     0.12412,     0.12513,     0.12613,     0.12713,     0.12813,     0.12913,     0.13013,     0.13113,     0.13213,     0.13313,     0.13413,     0.13514,     0.13614,     0.13714,     0.13814,     0.13914,     0.14014,     0.14114,     0.14214,     0.14314,\n",
              "           0.14414,     0.14515,     0.14615,     0.14715,     0.14815,     0.14915,     0.15015,     0.15115,     0.15215,     0.15315,     0.15415,     0.15516,     0.15616,     0.15716,     0.15816,     0.15916,     0.16016,     0.16116,     0.16216,     0.16316,     0.16416,     0.16517,     0.16617,     0.16717,\n",
              "           0.16817,     0.16917,     0.17017,     0.17117,     0.17217,     0.17317,     0.17417,     0.17518,     0.17618,     0.17718,     0.17818,     0.17918,     0.18018,     0.18118,     0.18218,     0.18318,     0.18418,     0.18519,     0.18619,     0.18719,     0.18819,     0.18919,     0.19019,     0.19119,\n",
              "           0.19219,     0.19319,     0.19419,      0.1952,      0.1962,      0.1972,      0.1982,      0.1992,      0.2002,      0.2012,      0.2022,      0.2032,      0.2042,     0.20521,     0.20621,     0.20721,     0.20821,     0.20921,     0.21021,     0.21121,     0.21221,     0.21321,     0.21421,     0.21522,\n",
              "           0.21622,     0.21722,     0.21822,     0.21922,     0.22022,     0.22122,     0.22222,     0.22322,     0.22422,     0.22523,     0.22623,     0.22723,     0.22823,     0.22923,     0.23023,     0.23123,     0.23223,     0.23323,     0.23423,     0.23524,     0.23624,     0.23724,     0.23824,     0.23924,\n",
              "           0.24024,     0.24124,     0.24224,     0.24324,     0.24424,     0.24525,     0.24625,     0.24725,     0.24825,     0.24925,     0.25025,     0.25125,     0.25225,     0.25325,     0.25425,     0.25526,     0.25626,     0.25726,     0.25826,     0.25926,     0.26026,     0.26126,     0.26226,     0.26326,\n",
              "           0.26426,     0.26527,     0.26627,     0.26727,     0.26827,     0.26927,     0.27027,     0.27127,     0.27227,     0.27327,     0.27427,     0.27528,     0.27628,     0.27728,     0.27828,     0.27928,     0.28028,     0.28128,     0.28228,     0.28328,     0.28428,     0.28529,     0.28629,     0.28729,\n",
              "           0.28829,     0.28929,     0.29029,     0.29129,     0.29229,     0.29329,     0.29429,      0.2953,      0.2963,      0.2973,      0.2983,      0.2993,      0.3003,      0.3013,      0.3023,      0.3033,      0.3043,     0.30531,     0.30631,     0.30731,     0.30831,     0.30931,     0.31031,     0.31131,\n",
              "           0.31231,     0.31331,     0.31431,     0.31532,     0.31632,     0.31732,     0.31832,     0.31932,     0.32032,     0.32132,     0.32232,     0.32332,     0.32432,     0.32533,     0.32633,     0.32733,     0.32833,     0.32933,     0.33033,     0.33133,     0.33233,     0.33333,     0.33433,     0.33534,\n",
              "           0.33634,     0.33734,     0.33834,     0.33934,     0.34034,     0.34134,     0.34234,     0.34334,     0.34434,     0.34535,     0.34635,     0.34735,     0.34835,     0.34935,     0.35035,     0.35135,     0.35235,     0.35335,     0.35435,     0.35536,     0.35636,     0.35736,     0.35836,     0.35936,\n",
              "           0.36036,     0.36136,     0.36236,     0.36336,     0.36436,     0.36537,     0.36637,     0.36737,     0.36837,     0.36937,     0.37037,     0.37137,     0.37237,     0.37337,     0.37437,     0.37538,     0.37638,     0.37738,     0.37838,     0.37938,     0.38038,     0.38138,     0.38238,     0.38338,\n",
              "           0.38438,     0.38539,     0.38639,     0.38739,     0.38839,     0.38939,     0.39039,     0.39139,     0.39239,     0.39339,     0.39439,      0.3954,      0.3964,      0.3974,      0.3984,      0.3994,      0.4004,      0.4014,      0.4024,      0.4034,      0.4044,     0.40541,     0.40641,     0.40741,\n",
              "           0.40841,     0.40941,     0.41041,     0.41141,     0.41241,     0.41341,     0.41441,     0.41542,     0.41642,     0.41742,     0.41842,     0.41942,     0.42042,     0.42142,     0.42242,     0.42342,     0.42442,     0.42543,     0.42643,     0.42743,     0.42843,     0.42943,     0.43043,     0.43143,\n",
              "           0.43243,     0.43343,     0.43443,     0.43544,     0.43644,     0.43744,     0.43844,     0.43944,     0.44044,     0.44144,     0.44244,     0.44344,     0.44444,     0.44545,     0.44645,     0.44745,     0.44845,     0.44945,     0.45045,     0.45145,     0.45245,     0.45345,     0.45445,     0.45546,\n",
              "           0.45646,     0.45746,     0.45846,     0.45946,     0.46046,     0.46146,     0.46246,     0.46346,     0.46446,     0.46547,     0.46647,     0.46747,     0.46847,     0.46947,     0.47047,     0.47147,     0.47247,     0.47347,     0.47447,     0.47548,     0.47648,     0.47748,     0.47848,     0.47948,\n",
              "           0.48048,     0.48148,     0.48248,     0.48348,     0.48448,     0.48549,     0.48649,     0.48749,     0.48849,     0.48949,     0.49049,     0.49149,     0.49249,     0.49349,     0.49449,      0.4955,      0.4965,      0.4975,      0.4985,      0.4995,      0.5005,      0.5015,      0.5025,      0.5035,\n",
              "            0.5045,     0.50551,     0.50651,     0.50751,     0.50851,     0.50951,     0.51051,     0.51151,     0.51251,     0.51351,     0.51451,     0.51552,     0.51652,     0.51752,     0.51852,     0.51952,     0.52052,     0.52152,     0.52252,     0.52352,     0.52452,     0.52553,     0.52653,     0.52753,\n",
              "           0.52853,     0.52953,     0.53053,     0.53153,     0.53253,     0.53353,     0.53453,     0.53554,     0.53654,     0.53754,     0.53854,     0.53954,     0.54054,     0.54154,     0.54254,     0.54354,     0.54454,     0.54555,     0.54655,     0.54755,     0.54855,     0.54955,     0.55055,     0.55155,\n",
              "           0.55255,     0.55355,     0.55455,     0.55556,     0.55656,     0.55756,     0.55856,     0.55956,     0.56056,     0.56156,     0.56256,     0.56356,     0.56456,     0.56557,     0.56657,     0.56757,     0.56857,     0.56957,     0.57057,     0.57157,     0.57257,     0.57357,     0.57457,     0.57558,\n",
              "           0.57658,     0.57758,     0.57858,     0.57958,     0.58058,     0.58158,     0.58258,     0.58358,     0.58458,     0.58559,     0.58659,     0.58759,     0.58859,     0.58959,     0.59059,     0.59159,     0.59259,     0.59359,     0.59459,      0.5956,      0.5966,      0.5976,      0.5986,      0.5996,\n",
              "            0.6006,      0.6016,      0.6026,      0.6036,      0.6046,     0.60561,     0.60661,     0.60761,     0.60861,     0.60961,     0.61061,     0.61161,     0.61261,     0.61361,     0.61461,     0.61562,     0.61662,     0.61762,     0.61862,     0.61962,     0.62062,     0.62162,     0.62262,     0.62362,\n",
              "           0.62462,     0.62563,     0.62663,     0.62763,     0.62863,     0.62963,     0.63063,     0.63163,     0.63263,     0.63363,     0.63463,     0.63564,     0.63664,     0.63764,     0.63864,     0.63964,     0.64064,     0.64164,     0.64264,     0.64364,     0.64464,     0.64565,     0.64665,     0.64765,\n",
              "           0.64865,     0.64965,     0.65065,     0.65165,     0.65265,     0.65365,     0.65465,     0.65566,     0.65666,     0.65766,     0.65866,     0.65966,     0.66066,     0.66166,     0.66266,     0.66366,     0.66466,     0.66567,     0.66667,     0.66767,     0.66867,     0.66967,     0.67067,     0.67167,\n",
              "           0.67267,     0.67367,     0.67467,     0.67568,     0.67668,     0.67768,     0.67868,     0.67968,     0.68068,     0.68168,     0.68268,     0.68368,     0.68468,     0.68569,     0.68669,     0.68769,     0.68869,     0.68969,     0.69069,     0.69169,     0.69269,     0.69369,     0.69469,      0.6957,\n",
              "            0.6967,      0.6977,      0.6987,      0.6997,      0.7007,      0.7017,      0.7027,      0.7037,      0.7047,     0.70571,     0.70671,     0.70771,     0.70871,     0.70971,     0.71071,     0.71171,     0.71271,     0.71371,     0.71471,     0.71572,     0.71672,     0.71772,     0.71872,     0.71972,\n",
              "           0.72072,     0.72172,     0.72272,     0.72372,     0.72472,     0.72573,     0.72673,     0.72773,     0.72873,     0.72973,     0.73073,     0.73173,     0.73273,     0.73373,     0.73473,     0.73574,     0.73674,     0.73774,     0.73874,     0.73974,     0.74074,     0.74174,     0.74274,     0.74374,\n",
              "           0.74474,     0.74575,     0.74675,     0.74775,     0.74875,     0.74975,     0.75075,     0.75175,     0.75275,     0.75375,     0.75475,     0.75576,     0.75676,     0.75776,     0.75876,     0.75976,     0.76076,     0.76176,     0.76276,     0.76376,     0.76476,     0.76577,     0.76677,     0.76777,\n",
              "           0.76877,     0.76977,     0.77077,     0.77177,     0.77277,     0.77377,     0.77477,     0.77578,     0.77678,     0.77778,     0.77878,     0.77978,     0.78078,     0.78178,     0.78278,     0.78378,     0.78478,     0.78579,     0.78679,     0.78779,     0.78879,     0.78979,     0.79079,     0.79179,\n",
              "           0.79279,     0.79379,     0.79479,      0.7958,      0.7968,      0.7978,      0.7988,      0.7998,      0.8008,      0.8018,      0.8028,      0.8038,      0.8048,     0.80581,     0.80681,     0.80781,     0.80881,     0.80981,     0.81081,     0.81181,     0.81281,     0.81381,     0.81481,     0.81582,\n",
              "           0.81682,     0.81782,     0.81882,     0.81982,     0.82082,     0.82182,     0.82282,     0.82382,     0.82482,     0.82583,     0.82683,     0.82783,     0.82883,     0.82983,     0.83083,     0.83183,     0.83283,     0.83383,     0.83483,     0.83584,     0.83684,     0.83784,     0.83884,     0.83984,\n",
              "           0.84084,     0.84184,     0.84284,     0.84384,     0.84484,     0.84585,     0.84685,     0.84785,     0.84885,     0.84985,     0.85085,     0.85185,     0.85285,     0.85385,     0.85485,     0.85586,     0.85686,     0.85786,     0.85886,     0.85986,     0.86086,     0.86186,     0.86286,     0.86386,\n",
              "           0.86486,     0.86587,     0.86687,     0.86787,     0.86887,     0.86987,     0.87087,     0.87187,     0.87287,     0.87387,     0.87487,     0.87588,     0.87688,     0.87788,     0.87888,     0.87988,     0.88088,     0.88188,     0.88288,     0.88388,     0.88488,     0.88589,     0.88689,     0.88789,\n",
              "           0.88889,     0.88989,     0.89089,     0.89189,     0.89289,     0.89389,     0.89489,      0.8959,      0.8969,      0.8979,      0.8989,      0.8999,      0.9009,      0.9019,      0.9029,      0.9039,      0.9049,     0.90591,     0.90691,     0.90791,     0.90891,     0.90991,     0.91091,     0.91191,\n",
              "           0.91291,     0.91391,     0.91491,     0.91592,     0.91692,     0.91792,     0.91892,     0.91992,     0.92092,     0.92192,     0.92292,     0.92392,     0.92492,     0.92593,     0.92693,     0.92793,     0.92893,     0.92993,     0.93093,     0.93193,     0.93293,     0.93393,     0.93493,     0.93594,\n",
              "           0.93694,     0.93794,     0.93894,     0.93994,     0.94094,     0.94194,     0.94294,     0.94394,     0.94494,     0.94595,     0.94695,     0.94795,     0.94895,     0.94995,     0.95095,     0.95195,     0.95295,     0.95395,     0.95495,     0.95596,     0.95696,     0.95796,     0.95896,     0.95996,\n",
              "           0.96096,     0.96196,     0.96296,     0.96396,     0.96496,     0.96597,     0.96697,     0.96797,     0.96897,     0.96997,     0.97097,     0.97197,     0.97297,     0.97397,     0.97497,     0.97598,     0.97698,     0.97798,     0.97898,     0.97998,     0.98098,     0.98198,     0.98298,     0.98398,\n",
              "           0.98498,     0.98599,     0.98699,     0.98799,     0.98899,     0.98999,     0.99099,     0.99199,     0.99299,     0.99399,     0.99499,       0.996,       0.997,       0.998,       0.999,           1]), array([[    0.31317,     0.31317,     0.40709,     0.47611,     0.51167,     0.55455,     0.58194,     0.60748,     0.63518,     0.64938,     0.66183,     0.68007,     0.70277,     0.70795,     0.71972,     0.72399,     0.73442,     0.73842,     0.74071,     0.74301,     0.74583,     0.74884,     0.75821,\n",
              "            0.76163,     0.76706,     0.76978,     0.76955,     0.76932,     0.76909,     0.76887,     0.76864,     0.76841,     0.76819,     0.76796,     0.76853,     0.76974,     0.77096,     0.77217,     0.77338,      0.7746,     0.78136,     0.78412,     0.78657,     0.78901,     0.79044,     0.79188,\n",
              "            0.79331,     0.79475,     0.79618,     0.80393,     0.80445,     0.80498,      0.8055,     0.80602,     0.80654,     0.80706,     0.80758,      0.8081,     0.80863,     0.80915,     0.80967,     0.81019,     0.81071,     0.81123,     0.81234,     0.81357,      0.8148,     0.81603,     0.81726,\n",
              "            0.81849,     0.81926,     0.81965,     0.82003,     0.82042,     0.82081,     0.82119,     0.82158,     0.82197,     0.82235,     0.82274,     0.82313,     0.82351,      0.8239,     0.82429,     0.82467,     0.82506,     0.82545,     0.82583,     0.82622,     0.82661,     0.82803,     0.83402,\n",
              "            0.84447,     0.85018,     0.85175,     0.85208,     0.85242,     0.85276,     0.85309,     0.85343,     0.85377,     0.85411,     0.85444,     0.85478,     0.85512,     0.85546,     0.85579,     0.85613,     0.85647,      0.8568,     0.85714,     0.85748,     0.85782,     0.85815,     0.85849,\n",
              "            0.85883,     0.85917,      0.8595,     0.85984,     0.86012,     0.86036,     0.86059,     0.86082,     0.86106,     0.86129,     0.86152,     0.86176,     0.86199,     0.86222,     0.86245,     0.86269,     0.86292,     0.86315,     0.86339,     0.86362,     0.86385,     0.86409,     0.86432,\n",
              "            0.86455,     0.86479,     0.86502,     0.86525,     0.86549,     0.86572,     0.86595,     0.86619,     0.86642,     0.86665,     0.86688,     0.86712,     0.86735,     0.86758,     0.86782,     0.86805,     0.86828,     0.86852,     0.86874,     0.86893,     0.86913,     0.86932,     0.86952,\n",
              "            0.86971,     0.86991,      0.8701,     0.87029,     0.87049,     0.87068,     0.87088,     0.87107,     0.87127,     0.87146,     0.87166,     0.87185,     0.87204,     0.87224,     0.87243,     0.87263,     0.87282,     0.87302,     0.87321,      0.8734,      0.8736,     0.87379,     0.87399,\n",
              "            0.87418,     0.87438,     0.87457,     0.87476,     0.87496,     0.87515,     0.87535,     0.87554,     0.87574,     0.87593,     0.87613,     0.87632,     0.87651,     0.87671,      0.8769,      0.8771,     0.87729,     0.87749,     0.87944,      0.8823,     0.88515,     0.88687,     0.88741,\n",
              "            0.88796,      0.8885,     0.88905,     0.88959,     0.89014,     0.89068,     0.89123,     0.89177,     0.89231,     0.89286,      0.8934,     0.89395,     0.89449,     0.89504,     0.89558,     0.89883,     0.90435,     0.90585,     0.90655,     0.90724,     0.90794,     0.90864,     0.90934,\n",
              "            0.91004,     0.91074,     0.91144,     0.91214,     0.91284,     0.91353,     0.91423,     0.91514,     0.91962,      0.9241,     0.92506,     0.92544,     0.92582,      0.9262,     0.92658,     0.92696,     0.92734,     0.92772,      0.9281,     0.92848,     0.92886,     0.92924,     0.92962,\n",
              "               0.93,     0.93038,     0.93076,     0.93113,     0.93151,     0.93189,     0.93227,     0.93265,     0.93303,     0.93341,     0.93379,     0.93417,     0.93455,     0.93554,     0.93746,     0.93937,     0.94129,      0.9432,     0.94506,     0.94514,     0.94523,     0.94531,     0.94539,\n",
              "            0.94548,     0.94556,     0.94565,     0.94573,     0.94582,      0.9459,     0.94598,     0.94607,     0.94615,     0.94624,     0.94632,     0.94641,     0.94649,     0.94657,     0.94666,     0.94674,     0.94683,     0.94691,       0.947,     0.94708,     0.94716,     0.94725,     0.94733,\n",
              "            0.94742,      0.9475,     0.94759,     0.94767,     0.94775,     0.94784,     0.94792,     0.94801,     0.94809,     0.94817,     0.94826,     0.94834,     0.94843,     0.94851,      0.9486,     0.94868,     0.94876,     0.94885,     0.94893,     0.94902,      0.9491,     0.94919,     0.94927,\n",
              "            0.94935,     0.94944,     0.94952,     0.94961,     0.94969,     0.94978,     0.94986,     0.94994,     0.95003,     0.95011,      0.9502,     0.95028,     0.95037,     0.95045,     0.95053,     0.95062,      0.9507,     0.95079,     0.95087,     0.95096,     0.95104,     0.95112,     0.95121,\n",
              "            0.95129,     0.95138,     0.95146,     0.95155,     0.95163,     0.95171,      0.9518,     0.95188,     0.95197,     0.95205,     0.95213,     0.95222,      0.9523,     0.95239,     0.95247,     0.95256,     0.95264,     0.95272,     0.95281,     0.95289,     0.95298,     0.95306,     0.95315,\n",
              "            0.95323,     0.95331,      0.9534,     0.95348,     0.95357,     0.95365,     0.95374,     0.95382,      0.9539,     0.95399,     0.95407,     0.95416,     0.95424,     0.95433,     0.95441,     0.95449,     0.95458,     0.95466,     0.95475,     0.95483,     0.95492,       0.955,     0.95508,\n",
              "            0.95517,     0.95525,     0.95534,     0.95542,      0.9555,     0.95632,     0.95823,     0.96015,     0.96206,     0.96398,     0.96589,     0.96784,      0.9698,     0.97175,     0.97371,     0.97567,     0.97728,     0.97735,     0.97741,     0.97748,     0.97755,     0.97761,     0.97768,\n",
              "            0.97774,     0.97781,     0.97787,     0.97794,       0.978,     0.97807,     0.97813,      0.9782,     0.97826,     0.97833,     0.97839,     0.97846,     0.97852,     0.97859,     0.97865,     0.97872,     0.97878,     0.97885,     0.97892,     0.97898,     0.97905,     0.97911,     0.97918,\n",
              "            0.97924,     0.97931,     0.97937,     0.97944,      0.9795,     0.97957,     0.97963,      0.9797,     0.97976,     0.97983,     0.97989,     0.97996,     0.98002,     0.98009,     0.98015,     0.98022,     0.98029,     0.98035,     0.98042,     0.98048,     0.98055,     0.98061,     0.98068,\n",
              "            0.98074,     0.98081,     0.98087,     0.98094,       0.981,     0.98107,     0.98113,      0.9812,     0.98126,     0.98133,     0.98139,     0.98146,     0.98152,     0.98159,     0.98166,     0.98172,     0.98179,     0.98185,     0.98192,     0.98198,     0.98205,     0.98211,     0.98218,\n",
              "            0.98224,     0.98231,     0.98237,     0.98244,      0.9825,     0.98257,     0.98263,      0.9827,     0.98276,     0.98283,     0.98289,     0.98296,     0.98303,     0.98309,     0.98316,     0.98322,     0.98329,     0.98335,     0.98342,     0.98348,     0.98355,     0.98361,     0.98368,\n",
              "            0.98374,     0.98381,     0.98387,     0.98394,       0.984,     0.98407,     0.98413,      0.9842,     0.98426,     0.98433,      0.9844,     0.98446,     0.98453,     0.98459,     0.98466,     0.98472,     0.98479,     0.98485,     0.98492,     0.98498,     0.98505,     0.98511,     0.98518,\n",
              "            0.98524,     0.98531,     0.98537,     0.98544,      0.9855,     0.98557,     0.98563,      0.9857,     0.98577,     0.98583,      0.9859,     0.98596,     0.98603,     0.98609,     0.98616,     0.98622,     0.98629,     0.98635,     0.98642,     0.98648,     0.98655,     0.98661,     0.98668,\n",
              "            0.98674,     0.98681,     0.98687,     0.98694,       0.987,     0.98707,     0.98714,      0.9872,     0.98727,     0.98733,      0.9874,     0.98746,     0.98753,     0.98759,     0.98766,     0.98772,     0.98779,     0.98785,     0.98792,     0.98798,     0.98805,     0.98811,     0.98818,\n",
              "            0.98824,     0.98831,     0.98837,     0.98844,     0.98851,      0.9885,      0.9885,      0.9885,     0.98849,     0.98849,     0.98849,     0.98849,     0.98848,     0.98848,     0.98848,     0.98848,     0.98847,     0.98847,     0.98847,     0.98847,     0.98846,     0.98846,     0.98846,\n",
              "            0.98845,     0.98845,     0.98845,     0.98845,     0.98844,     0.98844,     0.98844,     0.98844,     0.98843,     0.98843,     0.98843,     0.98842,     0.98842,     0.98842,     0.98842,     0.98841,     0.98841,     0.98841,     0.98841,      0.9884,      0.9884,      0.9884,     0.98839,\n",
              "            0.98839,     0.98839,     0.98839,     0.98838,     0.98838,     0.98838,     0.98838,     0.98837,     0.98836,     0.98835,     0.98834,     0.98833,     0.98832,     0.98831,      0.9883,     0.98829,     0.98828,     0.98827,     0.98826,     0.98825,     0.98823,     0.98818,     0.98812,\n",
              "            0.98779,     0.98777,     0.98774,     0.98772,      0.9877,     0.98767,     0.98764,     0.98759,     0.98754,     0.98739,     0.98734,     0.98733,     0.98732,     0.98731,     0.98731,      0.9873,     0.98729,     0.98729,     0.98728,     0.98727,     0.98727,     0.98726,     0.98725,\n",
              "            0.98724,     0.98724,     0.98723,     0.98722,     0.98722,     0.98721,      0.9872,     0.98719,     0.98719,     0.98718,     0.98716,     0.98714,     0.98712,      0.9871,     0.98708,     0.98706,     0.98704,     0.98702,     0.98701,       0.987,     0.98699,     0.98698,     0.98697,\n",
              "            0.98696,     0.98694,     0.98693,     0.98692,     0.98691,      0.9869,     0.98689,     0.98688,     0.98687,     0.98686,     0.98685,     0.98684,     0.98683,     0.98681,     0.98679,     0.98678,     0.98676,     0.98674,     0.98673,     0.98671,     0.98669,     0.98668,     0.98666,\n",
              "            0.98665,     0.98664,     0.98663,     0.98662,     0.98661,      0.9866,     0.98659,     0.98658,     0.98657,     0.98656,     0.98655,     0.98654,     0.98653,     0.98652,     0.98651,      0.9865,     0.98649,     0.98648,     0.98647,     0.98646,     0.98645,     0.98644,     0.98643,\n",
              "            0.98642,     0.98641,      0.9864,     0.98639,     0.98638,     0.98637,     0.98636,     0.98635,     0.98634,     0.98633,     0.98632,     0.98631,      0.9863,      0.9863,     0.98629,     0.98629,     0.98628,     0.98628,     0.98628,     0.98627,     0.98627,     0.98626,     0.98626,\n",
              "            0.98625,     0.98625,     0.98624,     0.98624,     0.98623,     0.98623,     0.98623,     0.98622,     0.98622,     0.98621,     0.98621,      0.9862,      0.9862,     0.98619,     0.98619,     0.98618,     0.98618,     0.98618,     0.98617,     0.98617,     0.98616,     0.98616,     0.98615,\n",
              "            0.98615,     0.98614,     0.98614,     0.98613,     0.98613,     0.98613,     0.98612,     0.98612,     0.98611,     0.98609,     0.98606,     0.98603,     0.98599,     0.98596,     0.98593,     0.98587,     0.98577,     0.98565,     0.98551,     0.98542,     0.98533,     0.98507,     0.98501,\n",
              "            0.98495,      0.9849,     0.98583,     0.99101,     0.99619,           1,           1,           1,           1,           1,           1,           1,           1,           1,           1,           1,           1,           1,           1,           1,           1,           1,           1,\n",
              "                  1,           1,           1,           1,           1,           1,           1,           1,           1,           1,           1,           1,           1,           1,           1,           1,           1,           1,           1,           1,           1,           1,           1,\n",
              "                  1,           1,           1,           1,           1,           1,           1,           1,           1,           1,           1,           1,           1,           1,           1,           1,           1,           1,           1,           1,           1,           1,           1,\n",
              "                  1,           1,           1,           1,           1,           1,           1,           1,           1,           1,           1,           1,           1,           1,           1,           1,           1,           1,           1,           1,           1,           1,           1,\n",
              "                  1,           1,           1,           1,           1,           1,           1,           1,           1,           1,           1,           1,           1,           1,           1,           1,           1,           1,           1,           1,           1,           1,           1,\n",
              "                  1,           1,           1,           1,           1,           1,           1,           1,           1,           1,           1,           1,           1,           1,           1,           1,           1,           1,           1,           1,           1,           1,           1,\n",
              "                  1,           1,           1,           1,           1,           1,           1,           1,           1,           1,           1,           1,           1,           1,           1,           1,           1,           1,           1,           1,           1,           1,           1,\n",
              "                  1,           1,           1,           1,           1,           1,           1,           1,           1,           1,           1,           1,           1,           1,           1,           1,           1,           1,           1,           1,           1,           1,           1,\n",
              "                  1,           1,           1,           1,           1,           1,           1,           1,           1,           1,           1]]), 'Confidence', 'Precision'], [array([          0,    0.001001,    0.002002,    0.003003,    0.004004,    0.005005,    0.006006,    0.007007,    0.008008,    0.009009,     0.01001,    0.011011,    0.012012,    0.013013,    0.014014,    0.015015,    0.016016,    0.017017,    0.018018,    0.019019,     0.02002,    0.021021,    0.022022,    0.023023,\n",
              "          0.024024,    0.025025,    0.026026,    0.027027,    0.028028,    0.029029,     0.03003,    0.031031,    0.032032,    0.033033,    0.034034,    0.035035,    0.036036,    0.037037,    0.038038,    0.039039,     0.04004,    0.041041,    0.042042,    0.043043,    0.044044,    0.045045,    0.046046,    0.047047,\n",
              "          0.048048,    0.049049,     0.05005,    0.051051,    0.052052,    0.053053,    0.054054,    0.055055,    0.056056,    0.057057,    0.058058,    0.059059,     0.06006,    0.061061,    0.062062,    0.063063,    0.064064,    0.065065,    0.066066,    0.067067,    0.068068,    0.069069,     0.07007,    0.071071,\n",
              "          0.072072,    0.073073,    0.074074,    0.075075,    0.076076,    0.077077,    0.078078,    0.079079,     0.08008,    0.081081,    0.082082,    0.083083,    0.084084,    0.085085,    0.086086,    0.087087,    0.088088,    0.089089,     0.09009,    0.091091,    0.092092,    0.093093,    0.094094,    0.095095,\n",
              "          0.096096,    0.097097,    0.098098,    0.099099,      0.1001,      0.1011,      0.1021,      0.1031,      0.1041,     0.10511,     0.10611,     0.10711,     0.10811,     0.10911,     0.11011,     0.11111,     0.11211,     0.11311,     0.11411,     0.11512,     0.11612,     0.11712,     0.11812,     0.11912,\n",
              "           0.12012,     0.12112,     0.12212,     0.12312,     0.12412,     0.12513,     0.12613,     0.12713,     0.12813,     0.12913,     0.13013,     0.13113,     0.13213,     0.13313,     0.13413,     0.13514,     0.13614,     0.13714,     0.13814,     0.13914,     0.14014,     0.14114,     0.14214,     0.14314,\n",
              "           0.14414,     0.14515,     0.14615,     0.14715,     0.14815,     0.14915,     0.15015,     0.15115,     0.15215,     0.15315,     0.15415,     0.15516,     0.15616,     0.15716,     0.15816,     0.15916,     0.16016,     0.16116,     0.16216,     0.16316,     0.16416,     0.16517,     0.16617,     0.16717,\n",
              "           0.16817,     0.16917,     0.17017,     0.17117,     0.17217,     0.17317,     0.17417,     0.17518,     0.17618,     0.17718,     0.17818,     0.17918,     0.18018,     0.18118,     0.18218,     0.18318,     0.18418,     0.18519,     0.18619,     0.18719,     0.18819,     0.18919,     0.19019,     0.19119,\n",
              "           0.19219,     0.19319,     0.19419,      0.1952,      0.1962,      0.1972,      0.1982,      0.1992,      0.2002,      0.2012,      0.2022,      0.2032,      0.2042,     0.20521,     0.20621,     0.20721,     0.20821,     0.20921,     0.21021,     0.21121,     0.21221,     0.21321,     0.21421,     0.21522,\n",
              "           0.21622,     0.21722,     0.21822,     0.21922,     0.22022,     0.22122,     0.22222,     0.22322,     0.22422,     0.22523,     0.22623,     0.22723,     0.22823,     0.22923,     0.23023,     0.23123,     0.23223,     0.23323,     0.23423,     0.23524,     0.23624,     0.23724,     0.23824,     0.23924,\n",
              "           0.24024,     0.24124,     0.24224,     0.24324,     0.24424,     0.24525,     0.24625,     0.24725,     0.24825,     0.24925,     0.25025,     0.25125,     0.25225,     0.25325,     0.25425,     0.25526,     0.25626,     0.25726,     0.25826,     0.25926,     0.26026,     0.26126,     0.26226,     0.26326,\n",
              "           0.26426,     0.26527,     0.26627,     0.26727,     0.26827,     0.26927,     0.27027,     0.27127,     0.27227,     0.27327,     0.27427,     0.27528,     0.27628,     0.27728,     0.27828,     0.27928,     0.28028,     0.28128,     0.28228,     0.28328,     0.28428,     0.28529,     0.28629,     0.28729,\n",
              "           0.28829,     0.28929,     0.29029,     0.29129,     0.29229,     0.29329,     0.29429,      0.2953,      0.2963,      0.2973,      0.2983,      0.2993,      0.3003,      0.3013,      0.3023,      0.3033,      0.3043,     0.30531,     0.30631,     0.30731,     0.30831,     0.30931,     0.31031,     0.31131,\n",
              "           0.31231,     0.31331,     0.31431,     0.31532,     0.31632,     0.31732,     0.31832,     0.31932,     0.32032,     0.32132,     0.32232,     0.32332,     0.32432,     0.32533,     0.32633,     0.32733,     0.32833,     0.32933,     0.33033,     0.33133,     0.33233,     0.33333,     0.33433,     0.33534,\n",
              "           0.33634,     0.33734,     0.33834,     0.33934,     0.34034,     0.34134,     0.34234,     0.34334,     0.34434,     0.34535,     0.34635,     0.34735,     0.34835,     0.34935,     0.35035,     0.35135,     0.35235,     0.35335,     0.35435,     0.35536,     0.35636,     0.35736,     0.35836,     0.35936,\n",
              "           0.36036,     0.36136,     0.36236,     0.36336,     0.36436,     0.36537,     0.36637,     0.36737,     0.36837,     0.36937,     0.37037,     0.37137,     0.37237,     0.37337,     0.37437,     0.37538,     0.37638,     0.37738,     0.37838,     0.37938,     0.38038,     0.38138,     0.38238,     0.38338,\n",
              "           0.38438,     0.38539,     0.38639,     0.38739,     0.38839,     0.38939,     0.39039,     0.39139,     0.39239,     0.39339,     0.39439,      0.3954,      0.3964,      0.3974,      0.3984,      0.3994,      0.4004,      0.4014,      0.4024,      0.4034,      0.4044,     0.40541,     0.40641,     0.40741,\n",
              "           0.40841,     0.40941,     0.41041,     0.41141,     0.41241,     0.41341,     0.41441,     0.41542,     0.41642,     0.41742,     0.41842,     0.41942,     0.42042,     0.42142,     0.42242,     0.42342,     0.42442,     0.42543,     0.42643,     0.42743,     0.42843,     0.42943,     0.43043,     0.43143,\n",
              "           0.43243,     0.43343,     0.43443,     0.43544,     0.43644,     0.43744,     0.43844,     0.43944,     0.44044,     0.44144,     0.44244,     0.44344,     0.44444,     0.44545,     0.44645,     0.44745,     0.44845,     0.44945,     0.45045,     0.45145,     0.45245,     0.45345,     0.45445,     0.45546,\n",
              "           0.45646,     0.45746,     0.45846,     0.45946,     0.46046,     0.46146,     0.46246,     0.46346,     0.46446,     0.46547,     0.46647,     0.46747,     0.46847,     0.46947,     0.47047,     0.47147,     0.47247,     0.47347,     0.47447,     0.47548,     0.47648,     0.47748,     0.47848,     0.47948,\n",
              "           0.48048,     0.48148,     0.48248,     0.48348,     0.48448,     0.48549,     0.48649,     0.48749,     0.48849,     0.48949,     0.49049,     0.49149,     0.49249,     0.49349,     0.49449,      0.4955,      0.4965,      0.4975,      0.4985,      0.4995,      0.5005,      0.5015,      0.5025,      0.5035,\n",
              "            0.5045,     0.50551,     0.50651,     0.50751,     0.50851,     0.50951,     0.51051,     0.51151,     0.51251,     0.51351,     0.51451,     0.51552,     0.51652,     0.51752,     0.51852,     0.51952,     0.52052,     0.52152,     0.52252,     0.52352,     0.52452,     0.52553,     0.52653,     0.52753,\n",
              "           0.52853,     0.52953,     0.53053,     0.53153,     0.53253,     0.53353,     0.53453,     0.53554,     0.53654,     0.53754,     0.53854,     0.53954,     0.54054,     0.54154,     0.54254,     0.54354,     0.54454,     0.54555,     0.54655,     0.54755,     0.54855,     0.54955,     0.55055,     0.55155,\n",
              "           0.55255,     0.55355,     0.55455,     0.55556,     0.55656,     0.55756,     0.55856,     0.55956,     0.56056,     0.56156,     0.56256,     0.56356,     0.56456,     0.56557,     0.56657,     0.56757,     0.56857,     0.56957,     0.57057,     0.57157,     0.57257,     0.57357,     0.57457,     0.57558,\n",
              "           0.57658,     0.57758,     0.57858,     0.57958,     0.58058,     0.58158,     0.58258,     0.58358,     0.58458,     0.58559,     0.58659,     0.58759,     0.58859,     0.58959,     0.59059,     0.59159,     0.59259,     0.59359,     0.59459,      0.5956,      0.5966,      0.5976,      0.5986,      0.5996,\n",
              "            0.6006,      0.6016,      0.6026,      0.6036,      0.6046,     0.60561,     0.60661,     0.60761,     0.60861,     0.60961,     0.61061,     0.61161,     0.61261,     0.61361,     0.61461,     0.61562,     0.61662,     0.61762,     0.61862,     0.61962,     0.62062,     0.62162,     0.62262,     0.62362,\n",
              "           0.62462,     0.62563,     0.62663,     0.62763,     0.62863,     0.62963,     0.63063,     0.63163,     0.63263,     0.63363,     0.63463,     0.63564,     0.63664,     0.63764,     0.63864,     0.63964,     0.64064,     0.64164,     0.64264,     0.64364,     0.64464,     0.64565,     0.64665,     0.64765,\n",
              "           0.64865,     0.64965,     0.65065,     0.65165,     0.65265,     0.65365,     0.65465,     0.65566,     0.65666,     0.65766,     0.65866,     0.65966,     0.66066,     0.66166,     0.66266,     0.66366,     0.66466,     0.66567,     0.66667,     0.66767,     0.66867,     0.66967,     0.67067,     0.67167,\n",
              "           0.67267,     0.67367,     0.67467,     0.67568,     0.67668,     0.67768,     0.67868,     0.67968,     0.68068,     0.68168,     0.68268,     0.68368,     0.68468,     0.68569,     0.68669,     0.68769,     0.68869,     0.68969,     0.69069,     0.69169,     0.69269,     0.69369,     0.69469,      0.6957,\n",
              "            0.6967,      0.6977,      0.6987,      0.6997,      0.7007,      0.7017,      0.7027,      0.7037,      0.7047,     0.70571,     0.70671,     0.70771,     0.70871,     0.70971,     0.71071,     0.71171,     0.71271,     0.71371,     0.71471,     0.71572,     0.71672,     0.71772,     0.71872,     0.71972,\n",
              "           0.72072,     0.72172,     0.72272,     0.72372,     0.72472,     0.72573,     0.72673,     0.72773,     0.72873,     0.72973,     0.73073,     0.73173,     0.73273,     0.73373,     0.73473,     0.73574,     0.73674,     0.73774,     0.73874,     0.73974,     0.74074,     0.74174,     0.74274,     0.74374,\n",
              "           0.74474,     0.74575,     0.74675,     0.74775,     0.74875,     0.74975,     0.75075,     0.75175,     0.75275,     0.75375,     0.75475,     0.75576,     0.75676,     0.75776,     0.75876,     0.75976,     0.76076,     0.76176,     0.76276,     0.76376,     0.76476,     0.76577,     0.76677,     0.76777,\n",
              "           0.76877,     0.76977,     0.77077,     0.77177,     0.77277,     0.77377,     0.77477,     0.77578,     0.77678,     0.77778,     0.77878,     0.77978,     0.78078,     0.78178,     0.78278,     0.78378,     0.78478,     0.78579,     0.78679,     0.78779,     0.78879,     0.78979,     0.79079,     0.79179,\n",
              "           0.79279,     0.79379,     0.79479,      0.7958,      0.7968,      0.7978,      0.7988,      0.7998,      0.8008,      0.8018,      0.8028,      0.8038,      0.8048,     0.80581,     0.80681,     0.80781,     0.80881,     0.80981,     0.81081,     0.81181,     0.81281,     0.81381,     0.81481,     0.81582,\n",
              "           0.81682,     0.81782,     0.81882,     0.81982,     0.82082,     0.82182,     0.82282,     0.82382,     0.82482,     0.82583,     0.82683,     0.82783,     0.82883,     0.82983,     0.83083,     0.83183,     0.83283,     0.83383,     0.83483,     0.83584,     0.83684,     0.83784,     0.83884,     0.83984,\n",
              "           0.84084,     0.84184,     0.84284,     0.84384,     0.84484,     0.84585,     0.84685,     0.84785,     0.84885,     0.84985,     0.85085,     0.85185,     0.85285,     0.85385,     0.85485,     0.85586,     0.85686,     0.85786,     0.85886,     0.85986,     0.86086,     0.86186,     0.86286,     0.86386,\n",
              "           0.86486,     0.86587,     0.86687,     0.86787,     0.86887,     0.86987,     0.87087,     0.87187,     0.87287,     0.87387,     0.87487,     0.87588,     0.87688,     0.87788,     0.87888,     0.87988,     0.88088,     0.88188,     0.88288,     0.88388,     0.88488,     0.88589,     0.88689,     0.88789,\n",
              "           0.88889,     0.88989,     0.89089,     0.89189,     0.89289,     0.89389,     0.89489,      0.8959,      0.8969,      0.8979,      0.8989,      0.8999,      0.9009,      0.9019,      0.9029,      0.9039,      0.9049,     0.90591,     0.90691,     0.90791,     0.90891,     0.90991,     0.91091,     0.91191,\n",
              "           0.91291,     0.91391,     0.91491,     0.91592,     0.91692,     0.91792,     0.91892,     0.91992,     0.92092,     0.92192,     0.92292,     0.92392,     0.92492,     0.92593,     0.92693,     0.92793,     0.92893,     0.92993,     0.93093,     0.93193,     0.93293,     0.93393,     0.93493,     0.93594,\n",
              "           0.93694,     0.93794,     0.93894,     0.93994,     0.94094,     0.94194,     0.94294,     0.94394,     0.94494,     0.94595,     0.94695,     0.94795,     0.94895,     0.94995,     0.95095,     0.95195,     0.95295,     0.95395,     0.95495,     0.95596,     0.95696,     0.95796,     0.95896,     0.95996,\n",
              "           0.96096,     0.96196,     0.96296,     0.96396,     0.96496,     0.96597,     0.96697,     0.96797,     0.96897,     0.96997,     0.97097,     0.97197,     0.97297,     0.97397,     0.97497,     0.97598,     0.97698,     0.97798,     0.97898,     0.97998,     0.98098,     0.98198,     0.98298,     0.98398,\n",
              "           0.98498,     0.98599,     0.98699,     0.98799,     0.98899,     0.98999,     0.99099,     0.99199,     0.99299,     0.99399,     0.99499,       0.996,       0.997,       0.998,       0.999,           1]), array([[    0.98876,     0.98876,     0.97753,     0.97753,     0.97753,     0.97753,     0.97753,     0.97753,     0.97753,     0.97753,     0.97753,     0.97753,     0.97753,     0.97753,     0.97753,     0.97753,     0.97753,     0.97753,     0.97753,     0.97753,     0.97753,     0.97753,     0.97753,\n",
              "            0.97753,     0.97753,     0.97679,     0.97555,      0.9743,     0.97306,     0.97182,     0.97057,     0.96933,     0.96809,     0.96684,     0.96629,     0.96629,     0.96629,     0.96629,     0.96629,     0.96629,     0.96629,     0.96629,     0.96629,     0.96629,     0.96629,     0.96629,\n",
              "            0.96629,     0.96629,     0.96629,     0.96629,     0.96629,     0.96629,     0.96629,     0.96629,     0.96629,     0.96629,     0.96629,     0.96629,     0.96629,     0.96629,     0.96629,     0.96629,     0.96629,     0.96629,     0.96629,     0.96629,     0.96629,     0.96629,     0.96629,\n",
              "            0.96629,     0.96629,     0.96629,     0.96629,     0.96629,     0.96629,     0.96629,     0.96629,     0.96629,     0.96629,     0.96629,     0.96629,     0.96629,     0.96629,     0.96629,     0.96629,     0.96629,     0.96629,     0.96629,     0.96629,     0.96629,     0.96629,     0.96629,\n",
              "            0.96629,     0.96629,     0.96629,     0.96629,     0.96629,     0.96629,     0.96629,     0.96629,     0.96629,     0.96629,     0.96629,     0.96629,     0.96629,     0.96629,     0.96629,     0.96629,     0.96629,     0.96629,     0.96629,     0.96629,     0.96629,     0.96629,     0.96629,\n",
              "            0.96629,     0.96629,     0.96629,     0.96629,     0.96629,     0.96629,     0.96629,     0.96629,     0.96629,     0.96629,     0.96629,     0.96629,     0.96629,     0.96629,     0.96629,     0.96629,     0.96629,     0.96629,     0.96629,     0.96629,     0.96629,     0.96629,     0.96629,\n",
              "            0.96629,     0.96629,     0.96629,     0.96629,     0.96629,     0.96629,     0.96629,     0.96629,     0.96629,     0.96629,     0.96629,     0.96629,     0.96629,     0.96629,     0.96629,     0.96629,     0.96629,     0.96629,     0.96629,     0.96629,     0.96629,     0.96629,     0.96629,\n",
              "            0.96629,     0.96629,     0.96629,     0.96629,     0.96629,     0.96629,     0.96629,     0.96629,     0.96629,     0.96629,     0.96629,     0.96629,     0.96629,     0.96629,     0.96629,     0.96629,     0.96629,     0.96629,     0.96629,     0.96629,     0.96629,     0.96629,     0.96629,\n",
              "            0.96629,     0.96629,     0.96629,     0.96629,     0.96629,     0.96629,     0.96629,     0.96629,     0.96629,     0.96629,     0.96629,     0.96629,     0.96629,     0.96629,     0.96629,     0.96629,     0.96629,     0.96629,     0.96629,     0.96629,     0.96629,     0.96629,     0.96629,\n",
              "            0.96629,     0.96629,     0.96629,     0.96629,     0.96629,     0.96629,     0.96629,     0.96629,     0.96629,     0.96629,     0.96629,     0.96629,     0.96629,     0.96629,     0.96629,     0.96629,     0.96629,     0.96629,     0.96629,     0.96629,     0.96629,     0.96629,     0.96629,\n",
              "            0.96629,     0.96629,     0.96629,     0.96629,     0.96629,     0.96629,     0.96629,     0.96629,     0.96629,     0.96629,     0.96629,     0.96629,     0.96629,     0.96629,     0.96629,     0.96629,     0.96629,     0.96629,     0.96629,     0.96629,     0.96629,     0.96629,     0.96629,\n",
              "            0.96629,     0.96629,     0.96629,     0.96629,     0.96629,     0.96629,     0.96629,     0.96629,     0.96629,     0.96629,     0.96629,     0.96629,     0.96629,     0.96629,     0.96629,     0.96629,     0.96629,     0.96629,     0.96629,     0.96629,     0.96629,     0.96629,     0.96629,\n",
              "            0.96629,     0.96629,     0.96629,     0.96629,     0.96629,     0.96629,     0.96629,     0.96629,     0.96629,     0.96629,     0.96629,     0.96629,     0.96629,     0.96629,     0.96629,     0.96629,     0.96629,     0.96629,     0.96629,     0.96629,     0.96629,     0.96629,     0.96629,\n",
              "            0.96629,     0.96629,     0.96629,     0.96629,     0.96629,     0.96629,     0.96629,     0.96629,     0.96629,     0.96629,     0.96629,     0.96629,     0.96629,     0.96629,     0.96629,     0.96629,     0.96629,     0.96629,     0.96629,     0.96629,     0.96629,     0.96629,     0.96629,\n",
              "            0.96629,     0.96629,     0.96629,     0.96629,     0.96629,     0.96629,     0.96629,     0.96629,     0.96629,     0.96629,     0.96629,     0.96629,     0.96629,     0.96629,     0.96629,     0.96629,     0.96629,     0.96629,     0.96629,     0.96629,     0.96629,     0.96629,     0.96629,\n",
              "            0.96629,     0.96629,     0.96629,     0.96629,     0.96629,     0.96629,     0.96629,     0.96629,     0.96629,     0.96629,     0.96629,     0.96629,     0.96629,     0.96629,     0.96629,     0.96629,     0.96629,     0.96629,     0.96629,     0.96629,     0.96629,     0.96629,     0.96629,\n",
              "            0.96629,     0.96629,     0.96629,     0.96629,     0.96629,     0.96629,     0.96629,     0.96629,     0.96629,     0.96629,     0.96629,     0.96629,     0.96629,     0.96629,     0.96629,     0.96629,     0.96629,     0.96629,     0.96629,     0.96629,     0.96629,     0.96629,     0.96629,\n",
              "            0.96629,     0.96629,     0.96629,     0.96629,     0.96629,     0.96629,     0.96629,     0.96629,     0.96629,     0.96629,     0.96629,     0.96629,     0.96629,     0.96629,     0.96629,     0.96629,     0.96629,     0.96629,     0.96629,     0.96629,     0.96629,     0.96629,     0.96629,\n",
              "            0.96629,     0.96629,     0.96629,     0.96629,     0.96629,     0.96629,     0.96629,     0.96629,     0.96629,     0.96629,     0.96629,     0.96629,     0.96629,     0.96629,     0.96629,     0.96629,     0.96629,     0.96629,     0.96629,     0.96629,     0.96629,     0.96629,     0.96629,\n",
              "            0.96629,     0.96629,     0.96629,     0.96629,     0.96629,     0.96629,     0.96629,     0.96629,     0.96629,     0.96629,     0.96629,     0.96629,     0.96629,     0.96629,     0.96629,     0.96629,     0.96629,     0.96629,     0.96629,     0.96629,     0.96629,     0.96629,     0.96629,\n",
              "            0.96629,     0.96629,     0.96629,     0.96629,     0.96629,     0.96629,     0.96629,     0.96629,     0.96629,     0.96629,     0.96629,     0.96629,     0.96629,     0.96629,     0.96629,     0.96629,     0.96629,     0.96629,     0.96629,     0.96629,     0.96629,     0.96629,     0.96629,\n",
              "            0.96629,     0.96629,     0.96629,     0.96629,     0.96629,     0.96629,     0.96629,     0.96629,     0.96629,     0.96629,     0.96629,     0.96629,     0.96629,     0.96629,     0.96629,     0.96629,     0.96629,     0.96629,     0.96629,     0.96629,     0.96629,     0.96629,     0.96629,\n",
              "            0.96629,     0.96629,     0.96629,     0.96629,     0.96629,     0.96629,     0.96629,     0.96629,     0.96629,     0.96629,     0.96629,     0.96629,     0.96629,     0.96629,     0.96629,     0.96629,     0.96629,     0.96629,     0.96629,     0.96629,     0.96629,     0.96629,     0.96629,\n",
              "            0.96629,     0.96629,     0.96629,     0.96629,     0.96629,     0.96629,     0.96629,     0.96629,     0.96629,     0.96629,     0.96629,     0.96629,     0.96629,     0.96629,     0.96629,     0.96629,     0.96629,     0.96629,     0.96629,     0.96629,     0.96629,     0.96629,     0.96629,\n",
              "            0.96629,     0.96629,     0.96629,     0.96629,     0.96629,     0.96629,     0.96629,     0.96629,     0.96629,     0.96629,     0.96629,     0.96629,     0.96629,     0.96629,     0.96629,     0.96629,     0.96629,     0.96629,     0.96629,     0.96629,     0.96629,     0.96629,     0.96629,\n",
              "            0.96629,     0.96629,     0.96629,     0.96629,     0.96629,     0.96607,     0.96584,     0.96561,     0.96538,     0.96515,     0.96493,      0.9647,     0.96447,     0.96424,     0.96401,     0.96379,     0.96356,     0.96333,      0.9631,     0.96287,     0.96265,     0.96242,     0.96219,\n",
              "            0.96196,     0.96173,     0.96151,     0.96128,     0.96105,     0.96082,     0.96059,     0.96036,     0.96014,     0.95991,     0.95968,     0.95945,     0.95922,       0.959,     0.95877,     0.95854,     0.95831,     0.95808,     0.95786,     0.95763,      0.9574,     0.95717,     0.95694,\n",
              "            0.95672,     0.95649,     0.95626,     0.95603,      0.9558,     0.95558,     0.95535,     0.95512,     0.95442,     0.95353,     0.95264,     0.95176,     0.95087,     0.94999,      0.9491,     0.94821,     0.94733,     0.94644,     0.94556,     0.94467,     0.94364,     0.93903,     0.93442,\n",
              "            0.90905,     0.90728,      0.9055,     0.90373,     0.90196,     0.90019,     0.89788,     0.89404,      0.8902,     0.87997,     0.87599,      0.8755,     0.87501,     0.87452,     0.87403,     0.87354,     0.87305,     0.87256,     0.87207,     0.87158,     0.87109,      0.8706,     0.87011,\n",
              "            0.86962,     0.86913,     0.86864,     0.86815,     0.86766,     0.86717,     0.86668,     0.86619,      0.8657,     0.86521,     0.86392,     0.86257,     0.86121,     0.85986,      0.8585,     0.85715,     0.85579,     0.85444,     0.85351,     0.85283,     0.85215,     0.85148,      0.8508,\n",
              "            0.85012,     0.84944,     0.84877,     0.84809,     0.84741,     0.84673,     0.84606,     0.84538,      0.8447,     0.84402,     0.84335,     0.84265,     0.84161,     0.84056,     0.83951,     0.83847,     0.83742,     0.83637,     0.83532,     0.83428,     0.83323,     0.83218,     0.83127,\n",
              "            0.83065,     0.83002,      0.8294,     0.82878,     0.82815,     0.82753,     0.82691,     0.82629,     0.82566,     0.82504,     0.82442,      0.8238,     0.82317,     0.82255,     0.82193,     0.82131,     0.82068,     0.82007,     0.81946,     0.81885,     0.81825,     0.81764,     0.81704,\n",
              "            0.81643,     0.81582,     0.81522,     0.81461,       0.814,      0.8134,     0.81279,     0.81219,     0.81158,     0.81097,     0.81037,     0.80976,     0.80916,     0.80879,     0.80853,     0.80826,     0.80799,     0.80772,     0.80746,     0.80719,     0.80692,     0.80665,     0.80638,\n",
              "            0.80612,     0.80585,     0.80558,     0.80531,     0.80504,     0.80478,     0.80451,     0.80424,     0.80397,     0.80371,     0.80344,     0.80317,      0.8029,     0.80263,     0.80237,      0.8021,     0.80183,     0.80156,     0.80129,     0.80103,     0.80076,     0.80049,     0.80022,\n",
              "            0.79996,     0.79969,     0.79942,     0.79915,     0.79888,     0.79862,     0.79835,     0.79808,     0.79781,     0.79638,     0.79461,     0.79284,     0.79106,     0.78929,     0.78752,     0.78402,     0.77826,     0.77157,     0.76395,     0.75935,     0.75474,     0.74131,     0.73843,\n",
              "            0.73555,     0.73267,     0.73034,     0.73034,     0.73034,     0.72882,     0.72306,     0.71862,     0.71709,     0.71555,     0.71401,     0.71248,     0.71094,     0.70941,     0.70787,       0.705,     0.70212,     0.69924,     0.69641,     0.69411,     0.69181,      0.6895,      0.6872,\n",
              "            0.68374,     0.67606,      0.6732,     0.67192,     0.67064,     0.66936,     0.66808,      0.6668,     0.66552,     0.66424,     0.66296,     0.64849,      0.6452,     0.64191,     0.63724,     0.63148,     0.61743,     0.61283,     0.60822,     0.60413,      0.6003,     0.59646,     0.59472,\n",
              "            0.59367,     0.59262,     0.59158,     0.59053,     0.58948,     0.58844,     0.58739,     0.58634,     0.58529,     0.58379,     0.57167,     0.56911,     0.56655,     0.56399,     0.56015,     0.55018,     0.54787,     0.54557,     0.54327,     0.54096,      0.5371,     0.52942,     0.51426,\n",
              "            0.50658,     0.48136,     0.47676,     0.47215,     0.46754,     0.46293,     0.45833,     0.45372,     0.44782,     0.43373,     0.42422,     0.40846,     0.40261,     0.39973,     0.39685,     0.39397,     0.38458,     0.37754,     0.37178,     0.35695,     0.34927,     0.34159,     0.33518,\n",
              "            0.33057,     0.32597,     0.31088,     0.30324,     0.29749,     0.29193,     0.28905,     0.28617,     0.28329,     0.27896,     0.26744,     0.25342,     0.24299,     0.23723,     0.21874,     0.20623,     0.18148,     0.16997,     0.15845,     0.14132,     0.11353,     0.10799,     0.10338,\n",
              "           0.098185,    0.092427,    0.086668,     0.08091,    0.053413,     0.02164,    0.015881,           0,           0,           0,           0,           0,           0,           0,           0,           0,           0,           0,           0,           0,           0,           0,           0,\n",
              "                  0,           0,           0,           0,           0,           0,           0,           0,           0,           0,           0,           0,           0,           0,           0,           0,           0,           0,           0,           0,           0,           0,           0,\n",
              "                  0,           0,           0,           0,           0,           0,           0,           0,           0,           0,           0,           0,           0,           0,           0,           0,           0,           0,           0,           0,           0,           0,           0,\n",
              "                  0,           0,           0,           0,           0,           0,           0,           0,           0,           0,           0]]), 'Confidence', 'Recall']]\n",
              "fitness: np.float64(0.8668219952617151)\n",
              "keys: ['metrics/precision(B)', 'metrics/recall(B)', 'metrics/mAP50(B)', 'metrics/mAP50-95(B)']\n",
              "maps: array([    0.85462])\n",
              "names: {0: 'needle'}\n",
              "nt_per_class: array([89])\n",
              "nt_per_image: array([89])\n",
              "results_dict: {'metrics/precision(B)': 0.9866132387297443, 'metrics/recall(B)': 0.9662921348314607, 'metrics/mAP50(B)': 0.9766687124519496, 'metrics/mAP50-95(B)': 0.8546168044628001, 'fitness': 0.8668219952617151}\n",
              "save_dir: PosixPath('runs/detect/needle_yolov11m')\n",
              "speed: {'preprocess': 0.45416469662812003, 'inference': 11.698908314610378, 'loss': 0.16417022472237836, 'postprocess': 4.899755438199453}\n",
              "stats: {'tp': [], 'conf': [], 'pred_cls': [], 'target_cls': [], 'target_img': []}\n",
              "task: 'detect'"
            ]
          },
          "metadata": {},
          "execution_count": 13
        }
      ]
    },
    {
      "cell_type": "markdown",
      "source": [
        "### Evaluation Metrics\n",
        "\n",
        "After training, we examined:\n",
        "\n",
        "Precision: How many predicted needles were correct\n",
        "Recall: How many real needles were detected\n",
        "mAP (mean Average Precision): Overall performance metric\n"
      ],
      "metadata": {
        "id": "q-LQGRFCV3Gr"
      }
    },
    {
      "cell_type": "code",
      "source": [
        "results = model.val()"
      ],
      "metadata": {
        "colab": {
          "base_uri": "https://localhost:8080/"
        },
        "id": "h2jPuEqkRHcq",
        "outputId": "30aa3d78-d149-4fdb-f3ef-d08f68369414"
      },
      "execution_count": 14,
      "outputs": [
        {
          "output_type": "stream",
          "name": "stdout",
          "text": [
            "Ultralytics 8.3.184 🚀 Python-3.12.11 torch-2.8.0+cu126 CUDA:0 (Tesla T4, 15095MiB)\n",
            "YOLO11m summary (fused): 125 layers, 20,030,803 parameters, 0 gradients, 67.6 GFLOPs\n",
            "\u001b[34m\u001b[1mval: \u001b[0mFast image access ✅ (ping: 0.3±0.1 ms, read: 13.1±9.1 MB/s, size: 24.0 KB)\n"
          ]
        },
        {
          "output_type": "stream",
          "name": "stderr",
          "text": [
            "\u001b[34m\u001b[1mval: \u001b[0mScanning /content/drive/MyDrive/Needle_detection/valid/labels.cache... 89 images, 0 backgrounds, 0 corrupt: 100%|██████████| 89/89 [00:00<?, ?it/s]\n",
            "                 Class     Images  Instances      Box(P          R      mAP50  mAP50-95): 100%|██████████| 12/12 [00:03<00:00,  3.25it/s]\n"
          ]
        },
        {
          "output_type": "stream",
          "name": "stdout",
          "text": [
            "                   all         89         89      0.987      0.966      0.977      0.858\n",
            "Speed: 1.8ms preprocess, 28.5ms inference, 0.0ms loss, 4.0ms postprocess per image\n",
            "Results saved to \u001b[1mruns/detect/needle_yolov11m2\u001b[0m\n"
          ]
        }
      ]
    },
    {
      "cell_type": "code",
      "source": [
        "print(\"mAP@0.5:0.95:\", results.box.map)\n",
        "print(\"mAP@0.5:\", results.box.map50)\n",
        "print(\"Precision:\", results.box.mp)\n",
        "print(\"Recall:\", results.box.mr)\n",
        "print(\"Mean F1 Score:\", sum(results.box.f1) / len(results.box.f1))"
      ],
      "metadata": {
        "colab": {
          "base_uri": "https://localhost:8080/"
        },
        "id": "4B3rQqk7Rcno",
        "outputId": "a760fe32-7cd1-4660-a9da-18b6c4dc020f"
      },
      "execution_count": 16,
      "outputs": [
        {
          "output_type": "stream",
          "name": "stdout",
          "text": [
            "mAP@0.5:0.95: 0.858459419372903\n",
            "mAP@0.5: 0.9767122288632782\n",
            "Precision: 0.9866682821568139\n",
            "Recall: 0.9662921348314607\n",
            "Mean F1 Score: 0.9763739115676321\n"
          ]
        }
      ]
    },
    {
      "cell_type": "markdown",
      "source": [
        "### Inference & Test Results\n",
        "\n",
        "I used the best model (best.pt) to run predictions on the test set.\n",
        "Outputs were saved with bounding boxes in runs/detect/predict/.\n",
        "\n",
        "I visually inspected predictions to confirm:\n",
        "\n",
        "*   The majority of boxes align correctly with the needle locations\n",
        "*   I still need to familiarize myself more with ultrasound images to better identify false positives or subtle detection errors."
      ],
      "metadata": {
        "id": "Kr2b33oTXEZp"
      }
    },
    {
      "cell_type": "code",
      "source": [
        "model = YOLO('runs/detect/needle_yolov11m/weights/best.pt')"
      ],
      "metadata": {
        "id": "UC8QQm7uTzh6"
      },
      "execution_count": 17,
      "outputs": []
    },
    {
      "cell_type": "code",
      "source": [
        "model.predict(source=\"test/images\", save=True, save_txt=True, conf=0.25)\n"
      ],
      "metadata": {
        "colab": {
          "base_uri": "https://localhost:8080/"
        },
        "collapsed": true,
        "id": "f_ro4RxgRZln",
        "outputId": "b6a98608-9c1a-43e4-eba5-b14299dd8422"
      },
      "execution_count": 18,
      "outputs": [
        {
          "output_type": "stream",
          "name": "stdout",
          "text": [
            "\n",
            "image 1/43 /content/drive/MyDrive/Needle_detection/test/images/106_jpg.rf.3749b86f8a5b0b995698d013dbd755a6.jpg: 640x640 1 needle, 36.9ms\n",
            "image 2/43 /content/drive/MyDrive/Needle_detection/test/images/109_jpg.rf.7d9ff837c6ccf36427f02744ebe7aeda.jpg: 640x640 1 needle, 36.9ms\n",
            "image 3/43 /content/drive/MyDrive/Needle_detection/test/images/110_jpg.rf.3e895e083ce4939253c4cbcda0568367.jpg: 640x640 1 needle, 37.0ms\n",
            "image 4/43 /content/drive/MyDrive/Needle_detection/test/images/116_jpg.rf.076b0658d3f485deaec5b84f98e10853.jpg: 640x640 1 needle, 36.9ms\n",
            "image 5/43 /content/drive/MyDrive/Needle_detection/test/images/126_jpg.rf.850e6180cd5c8f76f0f47eedc6428315.jpg: 640x640 1 needle, 36.9ms\n",
            "image 6/43 /content/drive/MyDrive/Needle_detection/test/images/129_jpg.rf.e9b90fe9bc4b9430db631f26548fe2de.jpg: 640x640 1 needle, 36.9ms\n",
            "image 7/43 /content/drive/MyDrive/Needle_detection/test/images/142_jpg.rf.7bc081b37cc7cee4180c93d8f4a0a15d.jpg: 640x640 1 needle, 36.9ms\n",
            "image 8/43 /content/drive/MyDrive/Needle_detection/test/images/143_jpg.rf.4d03cd1e412751d6de0381d4f4b68f36.jpg: 640x640 1 needle, 36.9ms\n",
            "image 9/43 /content/drive/MyDrive/Needle_detection/test/images/151_jpg.rf.8726cb0135dd85f98e4f573e61aeacca.jpg: 640x640 1 needle, 36.9ms\n",
            "image 10/43 /content/drive/MyDrive/Needle_detection/test/images/152_jpg.rf.c50c1fc0223e912ba91bdee12a6bb53b.jpg: 640x640 1 needle, 36.9ms\n",
            "image 11/43 /content/drive/MyDrive/Needle_detection/test/images/163_jpg.rf.16809385a2615ed0ebef29063159f199.jpg: 640x640 1 needle, 36.9ms\n",
            "image 12/43 /content/drive/MyDrive/Needle_detection/test/images/165_jpg.rf.6871b1e9d38692666efaf4630aa5db3f.jpg: 640x640 1 needle, 37.0ms\n",
            "image 13/43 /content/drive/MyDrive/Needle_detection/test/images/166_jpg.rf.2e99dfd568ab0942e9a36d54a4564799.jpg: 640x640 1 needle, 36.9ms\n",
            "image 14/43 /content/drive/MyDrive/Needle_detection/test/images/181_jpg.rf.5c342d82b39e5364942b8535d8f989bb.jpg: 640x640 1 needle, 36.9ms\n",
            "image 15/43 /content/drive/MyDrive/Needle_detection/test/images/182_jpg.rf.46d73743f22b1e43584c365ad4fe846a.jpg: 640x640 1 needle, 36.9ms\n",
            "image 16/43 /content/drive/MyDrive/Needle_detection/test/images/186_jpg.rf.8adc34be15600579478e1174361362df.jpg: 640x640 1 needle, 36.9ms\n",
            "image 17/43 /content/drive/MyDrive/Needle_detection/test/images/187_jpg.rf.5de3dd7c8bb70019437e6f9de89a2aa6.jpg: 640x640 1 needle, 36.9ms\n",
            "image 18/43 /content/drive/MyDrive/Needle_detection/test/images/193_jpg.rf.ef659ebfccd956663964e9d03871d89e.jpg: 640x640 1 needle, 36.9ms\n",
            "image 19/43 /content/drive/MyDrive/Needle_detection/test/images/203_jpg.rf.0c9594b5f297904e8b5dd20dc35f0bef.jpg: 640x640 2 needles, 36.9ms\n",
            "image 20/43 /content/drive/MyDrive/Needle_detection/test/images/203_jpg.rf.ea9b8d4d1791952ffbba06b5c538791e.jpg: 640x640 1 needle, 36.9ms\n",
            "image 21/43 /content/drive/MyDrive/Needle_detection/test/images/208_jpg.rf.53504f01edf4526747013119fd7e79e9.jpg: 640x640 1 needle, 37.6ms\n",
            "image 22/43 /content/drive/MyDrive/Needle_detection/test/images/24_jpg.rf.1ebd69e49c1fd81019ed329a936c850c.jpg: 640x640 1 needle, 36.9ms\n",
            "image 23/43 /content/drive/MyDrive/Needle_detection/test/images/258_jpg.rf.50bd3714415bdf7fde2258cbefbb7fd1.jpg: 640x640 1 needle, 36.9ms\n",
            "image 24/43 /content/drive/MyDrive/Needle_detection/test/images/276_jpg.rf.3276387f8b8c8445b1eebe4704d253d7.jpg: 640x640 1 needle, 36.9ms\n",
            "image 25/43 /content/drive/MyDrive/Needle_detection/test/images/299_jpg.rf.5e05499d7ba348aa3cfd76cdc76b8544.jpg: 640x640 1 needle, 36.9ms\n",
            "image 26/43 /content/drive/MyDrive/Needle_detection/test/images/303_jpg.rf.cb03c349bd72f9f6331e8062ddfad909.jpg: 640x640 1 needle, 36.9ms\n",
            "image 27/43 /content/drive/MyDrive/Needle_detection/test/images/314_jpg.rf.beeb4789cd4e0705c1de74829f508d02.jpg: 640x640 1 needle, 36.9ms\n",
            "image 28/43 /content/drive/MyDrive/Needle_detection/test/images/63_jpg.rf.89ba470eac4f734ed65a478d5a0e397a.jpg: 640x640 1 needle, 36.9ms\n",
            "image 29/43 /content/drive/MyDrive/Needle_detection/test/images/643_jpg.rf.edff5d0a8cc9551725c5bae0b94ea7e9.jpg: 640x640 1 needle, 36.9ms\n",
            "image 30/43 /content/drive/MyDrive/Needle_detection/test/images/664_jpg.rf.deb3ca8719eee2320f4a0c9ba0cf8456.jpg: 640x640 1 needle, 36.9ms\n",
            "image 31/43 /content/drive/MyDrive/Needle_detection/test/images/700_jpg.rf.72cbd9e6117b22e7b28418d5b7fa2bd3.jpg: 640x640 1 needle, 36.9ms\n",
            "image 32/43 /content/drive/MyDrive/Needle_detection/test/images/705_jpg.rf.6d32e74daaba3fc55007c5cf0c220a8e.jpg: 640x640 1 needle, 36.9ms\n",
            "image 33/43 /content/drive/MyDrive/Needle_detection/test/images/727_jpg.rf.be5f32a0ee6aad09f916db9ee83b4439.jpg: 640x640 1 needle, 37.0ms\n",
            "image 34/43 /content/drive/MyDrive/Needle_detection/test/images/731_jpg.rf.ff8eb71d0dd08df5ffe70c45c1bdc26e.jpg: 640x640 1 needle, 37.0ms\n",
            "image 35/43 /content/drive/MyDrive/Needle_detection/test/images/92_jpg.rf.f254d7766e6c16ec2199357ba3b597c8.jpg: 640x640 1 needle, 36.9ms\n",
            "image 36/43 /content/drive/MyDrive/Needle_detection/test/images/97_jpg.rf.3e9fe3d149e0af8500db2b3a40f66bd5.jpg: 640x640 1 needle, 36.9ms\n",
            "image 37/43 /content/drive/MyDrive/Needle_detection/test/images/9_jpg.rf.e53cfec85664b2006ed650c1a1e42b1d.jpg: 640x640 1 needle, 36.9ms\n",
            "image 38/43 /content/drive/MyDrive/Needle_detection/test/images/avi_153_jpg.rf.1a26338165f29bb1f881f4dc830493f4.jpg: 640x640 1 needle, 36.9ms\n",
            "image 39/43 /content/drive/MyDrive/Needle_detection/test/images/avi_25_jpg.rf.8f0e6e625bedfd32e4a4696ba9f21df7.jpg: 640x640 2 needles, 36.9ms\n",
            "image 40/43 /content/drive/MyDrive/Needle_detection/test/images/avi_50_jpg.rf.9df415ddef8238c69e542d9698aa68cf.jpg: 640x640 1 needle, 37.7ms\n",
            "image 41/43 /content/drive/MyDrive/Needle_detection/test/images/avi_66_jpg.rf.8e506f04aa5f000f567bfa2bc0645d72.jpg: 640x640 2 needles, 37.0ms\n",
            "image 42/43 /content/drive/MyDrive/Needle_detection/test/images/avi_80_jpg.rf.edb537d34710dcc93f764d1d496eacaf.jpg: 640x640 1 needle, 37.0ms\n",
            "image 43/43 /content/drive/MyDrive/Needle_detection/test/images/avi_91_jpg.rf.4b18fe0e02e22a147f422c946eca0fe9.jpg: 640x640 1 needle, 36.9ms\n",
            "Speed: 2.1ms preprocess, 36.9ms inference, 1.8ms postprocess per image at shape (1, 3, 640, 640)\n",
            "Results saved to \u001b[1mruns/detect/predict\u001b[0m\n",
            "43 labels saved to runs/detect/predict/labels\n"
          ]
        },
        {
          "output_type": "execute_result",
          "data": {
            "text/plain": [
              "[ultralytics.engine.results.Results object with attributes:\n",
              " \n",
              " boxes: ultralytics.engine.results.Boxes object\n",
              " keypoints: None\n",
              " masks: None\n",
              " names: {0: 'needle'}\n",
              " obb: None\n",
              " orig_img: array([[[0, 0, 0],\n",
              "         [0, 0, 0],\n",
              "         [0, 0, 0],\n",
              "         ...,\n",
              "         [0, 0, 0],\n",
              "         [0, 0, 0],\n",
              "         [0, 0, 0]],\n",
              " \n",
              "        [[0, 0, 0],\n",
              "         [0, 0, 0],\n",
              "         [0, 0, 0],\n",
              "         ...,\n",
              "         [0, 0, 0],\n",
              "         [0, 0, 0],\n",
              "         [0, 0, 0]],\n",
              " \n",
              "        [[0, 0, 0],\n",
              "         [0, 0, 0],\n",
              "         [0, 0, 0],\n",
              "         ...,\n",
              "         [0, 0, 0],\n",
              "         [0, 0, 0],\n",
              "         [0, 0, 0]],\n",
              " \n",
              "        ...,\n",
              " \n",
              "        [[0, 0, 0],\n",
              "         [0, 0, 0],\n",
              "         [0, 0, 0],\n",
              "         ...,\n",
              "         [0, 0, 0],\n",
              "         [0, 0, 0],\n",
              "         [0, 0, 0]],\n",
              " \n",
              "        [[0, 0, 0],\n",
              "         [0, 0, 0],\n",
              "         [0, 0, 0],\n",
              "         ...,\n",
              "         [0, 0, 0],\n",
              "         [0, 0, 0],\n",
              "         [0, 0, 0]],\n",
              " \n",
              "        [[0, 0, 0],\n",
              "         [0, 0, 0],\n",
              "         [0, 0, 0],\n",
              "         ...,\n",
              "         [0, 0, 0],\n",
              "         [0, 0, 0],\n",
              "         [0, 0, 0]]], dtype=uint8)\n",
              " orig_shape: (640, 640)\n",
              " path: '/content/drive/MyDrive/Needle_detection/test/images/106_jpg.rf.3749b86f8a5b0b995698d013dbd755a6.jpg'\n",
              " probs: None\n",
              " save_dir: 'runs/detect/predict'\n",
              " speed: {'preprocess': 2.5474369999756163, 'inference': 36.945025000022724, 'postprocess': 3.1062719999681576},\n",
              " ultralytics.engine.results.Results object with attributes:\n",
              " \n",
              " boxes: ultralytics.engine.results.Boxes object\n",
              " keypoints: None\n",
              " masks: None\n",
              " names: {0: 'needle'}\n",
              " obb: None\n",
              " orig_img: array([[[ 1,  4,  2],\n",
              "         [ 1,  4,  2],\n",
              "         [ 0,  2,  0],\n",
              "         ...,\n",
              "         [14, 14, 14],\n",
              "         [ 0,  0,  0],\n",
              "         [ 0,  0,  0]],\n",
              " \n",
              "        [[ 0,  3,  1],\n",
              "         [ 1,  4,  2],\n",
              "         [ 0,  2,  0],\n",
              "         ...,\n",
              "         [16, 16, 16],\n",
              "         [ 3,  3,  3],\n",
              "         [ 3,  3,  3]],\n",
              " \n",
              "        [[ 0,  2,  0],\n",
              "         [ 1,  4,  2],\n",
              "         [ 1,  4,  2],\n",
              "         ...,\n",
              "         [18, 18, 18],\n",
              "         [ 6,  6,  6],\n",
              "         [ 7,  7,  7]],\n",
              " \n",
              "        ...,\n",
              " \n",
              "        [[ 3,  3,  3],\n",
              "         [ 1,  1,  1],\n",
              "         [17, 17, 17],\n",
              "         ...,\n",
              "         [40, 43, 41],\n",
              "         [ 8, 11,  9],\n",
              "         [ 6,  9,  7]],\n",
              " \n",
              "        [[ 1,  1,  1],\n",
              "         [ 0,  0,  0],\n",
              "         [17, 17, 17],\n",
              "         ...,\n",
              "         [58, 61, 59],\n",
              "         [23, 26, 24],\n",
              "         [20, 23, 21]],\n",
              " \n",
              "        [[ 0,  0,  0],\n",
              "         [ 0,  0,  0],\n",
              "         [17, 17, 17],\n",
              "         ...,\n",
              "         [59, 62, 60],\n",
              "         [24, 27, 25],\n",
              "         [20, 23, 21]]], dtype=uint8)\n",
              " orig_shape: (640, 640)\n",
              " path: '/content/drive/MyDrive/Needle_detection/test/images/109_jpg.rf.7d9ff837c6ccf36427f02744ebe7aeda.jpg'\n",
              " probs: None\n",
              " save_dir: 'runs/detect/predict'\n",
              " speed: {'preprocess': 2.592124999864609, 'inference': 36.92942299994684, 'postprocess': 1.8753079998532485},\n",
              " ultralytics.engine.results.Results object with attributes:\n",
              " \n",
              " boxes: ultralytics.engine.results.Boxes object\n",
              " keypoints: None\n",
              " masks: None\n",
              " names: {0: 'needle'}\n",
              " obb: None\n",
              " orig_img: array([[[0, 0, 0],\n",
              "         [0, 0, 0],\n",
              "         [0, 0, 0],\n",
              "         ...,\n",
              "         [0, 0, 0],\n",
              "         [0, 0, 0],\n",
              "         [0, 0, 0]],\n",
              " \n",
              "        [[0, 0, 0],\n",
              "         [0, 0, 0],\n",
              "         [0, 0, 0],\n",
              "         ...,\n",
              "         [0, 0, 0],\n",
              "         [0, 0, 0],\n",
              "         [0, 0, 0]],\n",
              " \n",
              "        [[0, 0, 0],\n",
              "         [0, 0, 0],\n",
              "         [0, 0, 0],\n",
              "         ...,\n",
              "         [0, 0, 0],\n",
              "         [0, 0, 0],\n",
              "         [0, 0, 0]],\n",
              " \n",
              "        ...,\n",
              " \n",
              "        [[0, 0, 0],\n",
              "         [0, 0, 0],\n",
              "         [0, 0, 0],\n",
              "         ...,\n",
              "         [0, 0, 0],\n",
              "         [0, 0, 0],\n",
              "         [0, 0, 0]],\n",
              " \n",
              "        [[0, 0, 0],\n",
              "         [0, 0, 0],\n",
              "         [0, 0, 0],\n",
              "         ...,\n",
              "         [0, 0, 0],\n",
              "         [0, 0, 0],\n",
              "         [0, 0, 0]],\n",
              " \n",
              "        [[0, 0, 0],\n",
              "         [0, 0, 0],\n",
              "         [0, 0, 0],\n",
              "         ...,\n",
              "         [0, 0, 0],\n",
              "         [0, 0, 0],\n",
              "         [0, 0, 0]]], dtype=uint8)\n",
              " orig_shape: (640, 640)\n",
              " path: '/content/drive/MyDrive/Needle_detection/test/images/110_jpg.rf.3e895e083ce4939253c4cbcda0568367.jpg'\n",
              " probs: None\n",
              " save_dir: 'runs/detect/predict'\n",
              " speed: {'preprocess': 2.502667999578989, 'inference': 36.989274000006844, 'postprocess': 2.4721429999772226},\n",
              " ultralytics.engine.results.Results object with attributes:\n",
              " \n",
              " boxes: ultralytics.engine.results.Boxes object\n",
              " keypoints: None\n",
              " masks: None\n",
              " names: {0: 'needle'}\n",
              " obb: None\n",
              " orig_img: array([[[ 0,  1,  0],\n",
              "         [ 0,  1,  0],\n",
              "         [19, 22, 20],\n",
              "         ...,\n",
              "         [78, 81, 79],\n",
              "         [22, 25, 23],\n",
              "         [25, 28, 26]],\n",
              " \n",
              "        [[ 0,  3,  1],\n",
              "         [ 0,  1,  0],\n",
              "         [18, 21, 19],\n",
              "         ...,\n",
              "         [81, 84, 82],\n",
              "         [26, 29, 27],\n",
              "         [28, 31, 29]],\n",
              " \n",
              "        [[ 3,  6,  4],\n",
              "         [ 0,  1,  0],\n",
              "         [19, 22, 20],\n",
              "         ...,\n",
              "         [82, 85, 83],\n",
              "         [27, 30, 28],\n",
              "         [28, 31, 29]],\n",
              " \n",
              "        ...,\n",
              " \n",
              "        [[ 0,  2,  0],\n",
              "         [ 0,  1,  0],\n",
              "         [ 0,  1,  0],\n",
              "         ...,\n",
              "         [ 3,  6,  4],\n",
              "         [ 0,  3,  1],\n",
              "         [ 0,  2,  0]],\n",
              " \n",
              "        [[ 0,  2,  0],\n",
              "         [ 0,  1,  0],\n",
              "         [ 0,  1,  0],\n",
              "         ...,\n",
              "         [ 5,  8,  6],\n",
              "         [ 2,  5,  3],\n",
              "         [ 1,  4,  2]],\n",
              " \n",
              "        [[ 0,  2,  0],\n",
              "         [ 0,  1,  0],\n",
              "         [ 0,  1,  0],\n",
              "         ...,\n",
              "         [ 6,  9,  7],\n",
              "         [ 3,  6,  4],\n",
              "         [ 2,  5,  3]]], dtype=uint8)\n",
              " orig_shape: (640, 640)\n",
              " path: '/content/drive/MyDrive/Needle_detection/test/images/116_jpg.rf.076b0658d3f485deaec5b84f98e10853.jpg'\n",
              " probs: None\n",
              " save_dir: 'runs/detect/predict'\n",
              " speed: {'preprocess': 1.888758999939455, 'inference': 36.90688999995473, 'postprocess': 1.642537999941851},\n",
              " ultralytics.engine.results.Results object with attributes:\n",
              " \n",
              " boxes: ultralytics.engine.results.Boxes object\n",
              " keypoints: None\n",
              " masks: None\n",
              " names: {0: 'needle'}\n",
              " obb: None\n",
              " orig_img: array([[[ 0,  1,  0],\n",
              "         [ 0,  1,  0],\n",
              "         [22, 25, 23],\n",
              "         ...,\n",
              "         [78, 81, 79],\n",
              "         [21, 24, 22],\n",
              "         [20, 23, 21]],\n",
              " \n",
              "        [[ 0,  1,  0],\n",
              "         [ 0,  2,  0],\n",
              "         [21, 24, 22],\n",
              "         ...,\n",
              "         [81, 84, 82],\n",
              "         [25, 28, 26],\n",
              "         [25, 28, 26]],\n",
              " \n",
              "        [[ 2,  5,  3],\n",
              "         [ 0,  1,  0],\n",
              "         [21, 24, 22],\n",
              "         ...,\n",
              "         [81, 84, 82],\n",
              "         [27, 30, 28],\n",
              "         [26, 29, 27]],\n",
              " \n",
              "        ...,\n",
              " \n",
              "        [[ 0,  2,  0],\n",
              "         [ 0,  1,  0],\n",
              "         [ 7, 10,  8],\n",
              "         ...,\n",
              "         [ 7,  7,  7],\n",
              "         [ 2,  2,  2],\n",
              "         [ 0,  0,  0]],\n",
              " \n",
              "        [[ 0,  3,  1],\n",
              "         [ 0,  1,  0],\n",
              "         [ 6,  9,  7],\n",
              "         ...,\n",
              "         [ 6,  6,  6],\n",
              "         [ 2,  2,  2],\n",
              "         [ 0,  0,  0]],\n",
              " \n",
              "        [[ 0,  3,  1],\n",
              "         [ 0,  1,  0],\n",
              "         [ 5,  8,  6],\n",
              "         ...,\n",
              "         [ 6,  6,  6],\n",
              "         [ 2,  2,  2],\n",
              "         [ 1,  1,  1]]], dtype=uint8)\n",
              " orig_shape: (640, 640)\n",
              " path: '/content/drive/MyDrive/Needle_detection/test/images/126_jpg.rf.850e6180cd5c8f76f0f47eedc6428315.jpg'\n",
              " probs: None\n",
              " save_dir: 'runs/detect/predict'\n",
              " speed: {'preprocess': 1.6796330000943271, 'inference': 36.88450599975113, 'postprocess': 1.5863719995650172},\n",
              " ultralytics.engine.results.Results object with attributes:\n",
              " \n",
              " boxes: ultralytics.engine.results.Boxes object\n",
              " keypoints: None\n",
              " masks: None\n",
              " names: {0: 'needle'}\n",
              " obb: None\n",
              " orig_img: array([[[ 0,  1,  0],\n",
              "         [ 0,  1,  0],\n",
              "         [18, 21, 19],\n",
              "         ...,\n",
              "         [81, 84, 82],\n",
              "         [25, 28, 26],\n",
              "         [24, 27, 25]],\n",
              " \n",
              "        [[ 0,  3,  1],\n",
              "         [ 0,  1,  0],\n",
              "         [18, 21, 19],\n",
              "         ...,\n",
              "         [82, 85, 83],\n",
              "         [24, 27, 25],\n",
              "         [20, 23, 21]],\n",
              " \n",
              "        [[ 2,  5,  3],\n",
              "         [ 0,  1,  0],\n",
              "         [19, 22, 20],\n",
              "         ...,\n",
              "         [80, 83, 81],\n",
              "         [21, 24, 22],\n",
              "         [16, 19, 17]],\n",
              " \n",
              "        ...,\n",
              " \n",
              "        [[ 0,  3,  1],\n",
              "         [ 0,  3,  1],\n",
              "         [ 1,  4,  2],\n",
              "         ...,\n",
              "         [ 1,  4,  2],\n",
              "         [ 0,  3,  1],\n",
              "         [ 0,  2,  0]],\n",
              " \n",
              "        [[ 0,  3,  1],\n",
              "         [ 1,  4,  2],\n",
              "         [ 3,  6,  4],\n",
              "         ...,\n",
              "         [ 1,  4,  2],\n",
              "         [ 0,  2,  0],\n",
              "         [ 0,  1,  0]],\n",
              " \n",
              "        [[ 0,  2,  0],\n",
              "         [ 1,  4,  2],\n",
              "         [ 4,  7,  5],\n",
              "         ...,\n",
              "         [ 0,  3,  1],\n",
              "         [ 0,  2,  0],\n",
              "         [ 0,  1,  0]]], dtype=uint8)\n",
              " orig_shape: (640, 640)\n",
              " path: '/content/drive/MyDrive/Needle_detection/test/images/129_jpg.rf.e9b90fe9bc4b9430db631f26548fe2de.jpg'\n",
              " probs: None\n",
              " save_dir: 'runs/detect/predict'\n",
              " speed: {'preprocess': 1.8487010001990711, 'inference': 36.89773799987961, 'postprocess': 1.6259470003205934},\n",
              " ultralytics.engine.results.Results object with attributes:\n",
              " \n",
              " boxes: ultralytics.engine.results.Boxes object\n",
              " keypoints: None\n",
              " masks: None\n",
              " names: {0: 'needle'}\n",
              " obb: None\n",
              " orig_img: array([[[ 2,  5,  3],\n",
              "         [ 5,  8,  6],\n",
              "         [ 4,  7,  5],\n",
              "         ...,\n",
              "         [14, 14, 14],\n",
              "         [ 5,  5,  5],\n",
              "         [ 0,  0,  0]],\n",
              " \n",
              "        [[ 0,  3,  1],\n",
              "         [ 3,  6,  4],\n",
              "         [ 3,  6,  4],\n",
              "         ...,\n",
              "         [16, 16, 16],\n",
              "         [ 8,  8,  8],\n",
              "         [ 2,  2,  2]],\n",
              " \n",
              "        [[ 0,  1,  0],\n",
              "         [ 1,  4,  2],\n",
              "         [ 2,  5,  3],\n",
              "         ...,\n",
              "         [17, 17, 17],\n",
              "         [10, 10, 10],\n",
              "         [ 6,  6,  6]],\n",
              " \n",
              "        ...,\n",
              " \n",
              "        [[ 3,  3,  3],\n",
              "         [ 1,  1,  1],\n",
              "         [17, 17, 17],\n",
              "         ...,\n",
              "         [47, 50, 48],\n",
              "         [16, 19, 17],\n",
              "         [15, 18, 16]],\n",
              " \n",
              "        [[ 1,  1,  1],\n",
              "         [ 0,  0,  0],\n",
              "         [17, 17, 17],\n",
              "         ...,\n",
              "         [51, 54, 52],\n",
              "         [19, 22, 20],\n",
              "         [17, 20, 18]],\n",
              " \n",
              "        [[ 0,  0,  0],\n",
              "         [ 0,  0,  0],\n",
              "         [17, 17, 17],\n",
              "         ...,\n",
              "         [54, 57, 55],\n",
              "         [21, 24, 22],\n",
              "         [19, 22, 20]]], dtype=uint8)\n",
              " orig_shape: (640, 640)\n",
              " path: '/content/drive/MyDrive/Needle_detection/test/images/142_jpg.rf.7bc081b37cc7cee4180c93d8f4a0a15d.jpg'\n",
              " probs: None\n",
              " save_dir: 'runs/detect/predict'\n",
              " speed: {'preprocess': 1.8258179998156265, 'inference': 36.89995399963664, 'postprocess': 1.6430299997409747},\n",
              " ultralytics.engine.results.Results object with attributes:\n",
              " \n",
              " boxes: ultralytics.engine.results.Boxes object\n",
              " keypoints: None\n",
              " masks: None\n",
              " names: {0: 'needle'}\n",
              " obb: None\n",
              " orig_img: array([[[ 0,  2,  0],\n",
              "         [ 0,  1,  0],\n",
              "         [16, 19, 17],\n",
              "         ...,\n",
              "         [81, 84, 82],\n",
              "         [24, 27, 25],\n",
              "         [25, 28, 26]],\n",
              " \n",
              "        [[ 2,  5,  3],\n",
              "         [ 0,  1,  0],\n",
              "         [16, 19, 17],\n",
              "         ...,\n",
              "         [81, 84, 82],\n",
              "         [25, 28, 26],\n",
              "         [26, 29, 27]],\n",
              " \n",
              "        [[ 5,  8,  6],\n",
              "         [ 0,  2,  0],\n",
              "         [18, 21, 19],\n",
              "         ...,\n",
              "         [79, 82, 80],\n",
              "         [24, 27, 25],\n",
              "         [25, 28, 26]],\n",
              " \n",
              "        ...,\n",
              " \n",
              "        [[ 0,  0,  0],\n",
              "         [ 0,  0,  0],\n",
              "         [ 1,  1,  1],\n",
              "         ...,\n",
              "         [11, 14, 12],\n",
              "         [ 5,  8,  6],\n",
              "         [ 2,  5,  3]],\n",
              " \n",
              "        [[ 0,  0,  0],\n",
              "         [ 0,  0,  0],\n",
              "         [ 1,  1,  1],\n",
              "         ...,\n",
              "         [14, 17, 15],\n",
              "         [10, 13, 11],\n",
              "         [ 7, 10,  8]],\n",
              " \n",
              "        [[ 0,  0,  0],\n",
              "         [ 0,  0,  0],\n",
              "         [ 1,  1,  1],\n",
              "         ...,\n",
              "         [15, 18, 16],\n",
              "         [12, 15, 13],\n",
              "         [10, 13, 11]]], dtype=uint8)\n",
              " orig_shape: (640, 640)\n",
              " path: '/content/drive/MyDrive/Needle_detection/test/images/143_jpg.rf.4d03cd1e412751d6de0381d4f4b68f36.jpg'\n",
              " probs: None\n",
              " save_dir: 'runs/detect/predict'\n",
              " speed: {'preprocess': 1.8974149998030043, 'inference': 36.929406999661296, 'postprocess': 1.867285999651358},\n",
              " ultralytics.engine.results.Results object with attributes:\n",
              " \n",
              " boxes: ultralytics.engine.results.Boxes object\n",
              " keypoints: None\n",
              " masks: None\n",
              " names: {0: 'needle'}\n",
              " obb: None\n",
              " orig_img: array([[[ 0,  1,  0],\n",
              "         [ 0,  2,  0],\n",
              "         [18, 21, 19],\n",
              "         ...,\n",
              "         [84, 87, 85],\n",
              "         [24, 27, 25],\n",
              "         [22, 25, 23]],\n",
              " \n",
              "        [[ 0,  1,  0],\n",
              "         [ 0,  2,  0],\n",
              "         [18, 21, 19],\n",
              "         ...,\n",
              "         [86, 89, 87],\n",
              "         [28, 31, 29],\n",
              "         [27, 30, 28]],\n",
              " \n",
              "        [[ 1,  4,  2],\n",
              "         [ 0,  2,  0],\n",
              "         [20, 23, 21],\n",
              "         ...,\n",
              "         [85, 88, 86],\n",
              "         [29, 32, 30],\n",
              "         [29, 32, 30]],\n",
              " \n",
              "        ...,\n",
              " \n",
              "        [[ 0,  0,  0],\n",
              "         [ 0,  0,  0],\n",
              "         [ 0,  0,  0],\n",
              "         ...,\n",
              "         [ 7, 10,  8],\n",
              "         [ 5,  8,  6],\n",
              "         [ 3,  6,  4]],\n",
              " \n",
              "        [[ 0,  0,  0],\n",
              "         [ 0,  0,  0],\n",
              "         [ 0,  0,  0],\n",
              "         ...,\n",
              "         [ 9, 12, 10],\n",
              "         [ 7, 10,  8],\n",
              "         [ 6,  9,  7]],\n",
              " \n",
              "        [[ 0,  0,  0],\n",
              "         [ 0,  0,  0],\n",
              "         [ 0,  0,  0],\n",
              "         ...,\n",
              "         [11, 14, 12],\n",
              "         [ 9, 12, 10],\n",
              "         [ 7, 10,  8]]], dtype=uint8)\n",
              " orig_shape: (640, 640)\n",
              " path: '/content/drive/MyDrive/Needle_detection/test/images/151_jpg.rf.8726cb0135dd85f98e4f573e61aeacca.jpg'\n",
              " probs: None\n",
              " save_dir: 'runs/detect/predict'\n",
              " speed: {'preprocess': 1.7276419998779602, 'inference': 36.90082200000688, 'postprocess': 1.6129069999806234},\n",
              " ultralytics.engine.results.Results object with attributes:\n",
              " \n",
              " boxes: ultralytics.engine.results.Boxes object\n",
              " keypoints: None\n",
              " masks: None\n",
              " names: {0: 'needle'}\n",
              " obb: None\n",
              " orig_img: array([[[0, 0, 0],\n",
              "         [0, 0, 0],\n",
              "         [0, 0, 0],\n",
              "         ...,\n",
              "         [0, 0, 0],\n",
              "         [0, 0, 0],\n",
              "         [0, 0, 0]],\n",
              " \n",
              "        [[0, 0, 0],\n",
              "         [0, 0, 0],\n",
              "         [0, 0, 0],\n",
              "         ...,\n",
              "         [0, 0, 0],\n",
              "         [0, 0, 0],\n",
              "         [0, 0, 0]],\n",
              " \n",
              "        [[0, 0, 0],\n",
              "         [0, 0, 0],\n",
              "         [0, 0, 0],\n",
              "         ...,\n",
              "         [0, 0, 0],\n",
              "         [0, 0, 0],\n",
              "         [0, 0, 0]],\n",
              " \n",
              "        ...,\n",
              " \n",
              "        [[0, 0, 0],\n",
              "         [0, 0, 0],\n",
              "         [0, 0, 0],\n",
              "         ...,\n",
              "         [0, 0, 0],\n",
              "         [0, 0, 0],\n",
              "         [0, 0, 0]],\n",
              " \n",
              "        [[0, 0, 0],\n",
              "         [0, 0, 0],\n",
              "         [0, 0, 0],\n",
              "         ...,\n",
              "         [0, 0, 0],\n",
              "         [0, 0, 0],\n",
              "         [0, 0, 0]],\n",
              " \n",
              "        [[0, 0, 0],\n",
              "         [0, 0, 0],\n",
              "         [0, 0, 0],\n",
              "         ...,\n",
              "         [0, 0, 0],\n",
              "         [0, 0, 0],\n",
              "         [0, 0, 0]]], dtype=uint8)\n",
              " orig_shape: (640, 640)\n",
              " path: '/content/drive/MyDrive/Needle_detection/test/images/152_jpg.rf.c50c1fc0223e912ba91bdee12a6bb53b.jpg'\n",
              " probs: None\n",
              " save_dir: 'runs/detect/predict'\n",
              " speed: {'preprocess': 1.7026410000653414, 'inference': 36.926300000232004, 'postprocess': 1.7714030000206549},\n",
              " ultralytics.engine.results.Results object with attributes:\n",
              " \n",
              " boxes: ultralytics.engine.results.Boxes object\n",
              " keypoints: None\n",
              " masks: None\n",
              " names: {0: 'needle'}\n",
              " obb: None\n",
              " orig_img: array([[[0, 0, 0],\n",
              "         [0, 0, 0],\n",
              "         [0, 0, 0],\n",
              "         ...,\n",
              "         [0, 0, 0],\n",
              "         [0, 0, 0],\n",
              "         [0, 0, 0]],\n",
              " \n",
              "        [[0, 0, 0],\n",
              "         [0, 0, 0],\n",
              "         [0, 0, 0],\n",
              "         ...,\n",
              "         [0, 0, 0],\n",
              "         [0, 0, 0],\n",
              "         [0, 0, 0]],\n",
              " \n",
              "        [[0, 0, 0],\n",
              "         [0, 0, 0],\n",
              "         [0, 0, 0],\n",
              "         ...,\n",
              "         [0, 0, 0],\n",
              "         [0, 0, 0],\n",
              "         [0, 0, 0]],\n",
              " \n",
              "        ...,\n",
              " \n",
              "        [[0, 0, 0],\n",
              "         [0, 0, 0],\n",
              "         [0, 0, 0],\n",
              "         ...,\n",
              "         [0, 0, 0],\n",
              "         [0, 0, 0],\n",
              "         [0, 0, 0]],\n",
              " \n",
              "        [[0, 0, 0],\n",
              "         [0, 0, 0],\n",
              "         [0, 0, 0],\n",
              "         ...,\n",
              "         [0, 0, 0],\n",
              "         [0, 0, 0],\n",
              "         [0, 0, 0]],\n",
              " \n",
              "        [[0, 0, 0],\n",
              "         [0, 0, 0],\n",
              "         [0, 0, 0],\n",
              "         ...,\n",
              "         [0, 0, 0],\n",
              "         [0, 0, 0],\n",
              "         [0, 0, 0]]], dtype=uint8)\n",
              " orig_shape: (640, 640)\n",
              " path: '/content/drive/MyDrive/Needle_detection/test/images/163_jpg.rf.16809385a2615ed0ebef29063159f199.jpg'\n",
              " probs: None\n",
              " save_dir: 'runs/detect/predict'\n",
              " speed: {'preprocess': 1.6974970003502676, 'inference': 36.88648699971964, 'postprocess': 1.55732099983652},\n",
              " ultralytics.engine.results.Results object with attributes:\n",
              " \n",
              " boxes: ultralytics.engine.results.Boxes object\n",
              " keypoints: None\n",
              " masks: None\n",
              " names: {0: 'needle'}\n",
              " obb: None\n",
              " orig_img: array([[[0, 0, 0],\n",
              "         [0, 0, 0],\n",
              "         [0, 0, 0],\n",
              "         ...,\n",
              "         [0, 0, 0],\n",
              "         [0, 0, 0],\n",
              "         [0, 0, 0]],\n",
              " \n",
              "        [[0, 0, 0],\n",
              "         [0, 0, 0],\n",
              "         [0, 0, 0],\n",
              "         ...,\n",
              "         [0, 0, 0],\n",
              "         [0, 0, 0],\n",
              "         [0, 0, 0]],\n",
              " \n",
              "        [[0, 0, 0],\n",
              "         [0, 0, 0],\n",
              "         [0, 0, 0],\n",
              "         ...,\n",
              "         [0, 0, 0],\n",
              "         [0, 0, 0],\n",
              "         [0, 0, 0]],\n",
              " \n",
              "        ...,\n",
              " \n",
              "        [[0, 0, 0],\n",
              "         [0, 0, 0],\n",
              "         [0, 0, 0],\n",
              "         ...,\n",
              "         [0, 0, 0],\n",
              "         [0, 0, 0],\n",
              "         [0, 0, 0]],\n",
              " \n",
              "        [[0, 0, 0],\n",
              "         [0, 0, 0],\n",
              "         [0, 0, 0],\n",
              "         ...,\n",
              "         [0, 0, 0],\n",
              "         [0, 0, 0],\n",
              "         [0, 0, 0]],\n",
              " \n",
              "        [[0, 0, 0],\n",
              "         [0, 0, 0],\n",
              "         [0, 0, 0],\n",
              "         ...,\n",
              "         [0, 0, 0],\n",
              "         [0, 0, 0],\n",
              "         [0, 0, 0]]], dtype=uint8)\n",
              " orig_shape: (640, 640)\n",
              " path: '/content/drive/MyDrive/Needle_detection/test/images/165_jpg.rf.6871b1e9d38692666efaf4630aa5db3f.jpg'\n",
              " probs: None\n",
              " save_dir: 'runs/detect/predict'\n",
              " speed: {'preprocess': 2.0681609998973727, 'inference': 36.952146000203356, 'postprocess': 1.628866999908496},\n",
              " ultralytics.engine.results.Results object with attributes:\n",
              " \n",
              " boxes: ultralytics.engine.results.Boxes object\n",
              " keypoints: None\n",
              " masks: None\n",
              " names: {0: 'needle'}\n",
              " obb: None\n",
              " orig_img: array([[[0, 0, 0],\n",
              "         [0, 0, 0],\n",
              "         [0, 0, 0],\n",
              "         ...,\n",
              "         [0, 0, 0],\n",
              "         [0, 0, 0],\n",
              "         [0, 0, 0]],\n",
              " \n",
              "        [[0, 0, 0],\n",
              "         [0, 0, 0],\n",
              "         [0, 0, 0],\n",
              "         ...,\n",
              "         [0, 0, 0],\n",
              "         [0, 0, 0],\n",
              "         [0, 0, 0]],\n",
              " \n",
              "        [[0, 0, 0],\n",
              "         [0, 0, 0],\n",
              "         [0, 0, 0],\n",
              "         ...,\n",
              "         [0, 0, 0],\n",
              "         [0, 0, 0],\n",
              "         [0, 0, 0]],\n",
              " \n",
              "        ...,\n",
              " \n",
              "        [[0, 0, 0],\n",
              "         [0, 0, 0],\n",
              "         [0, 0, 0],\n",
              "         ...,\n",
              "         [0, 0, 0],\n",
              "         [0, 0, 0],\n",
              "         [0, 0, 0]],\n",
              " \n",
              "        [[0, 0, 0],\n",
              "         [0, 0, 0],\n",
              "         [0, 0, 0],\n",
              "         ...,\n",
              "         [0, 0, 0],\n",
              "         [0, 0, 0],\n",
              "         [0, 0, 0]],\n",
              " \n",
              "        [[0, 0, 0],\n",
              "         [0, 0, 0],\n",
              "         [0, 0, 0],\n",
              "         ...,\n",
              "         [0, 0, 0],\n",
              "         [0, 0, 0],\n",
              "         [0, 0, 0]]], dtype=uint8)\n",
              " orig_shape: (640, 640)\n",
              " path: '/content/drive/MyDrive/Needle_detection/test/images/166_jpg.rf.2e99dfd568ab0942e9a36d54a4564799.jpg'\n",
              " probs: None\n",
              " save_dir: 'runs/detect/predict'\n",
              " speed: {'preprocess': 1.759338999818283, 'inference': 36.872826000035275, 'postprocess': 1.5902580003057665},\n",
              " ultralytics.engine.results.Results object with attributes:\n",
              " \n",
              " boxes: ultralytics.engine.results.Boxes object\n",
              " keypoints: None\n",
              " masks: None\n",
              " names: {0: 'needle'}\n",
              " obb: None\n",
              " orig_img: array([[[ 1,  4,  2],\n",
              "         [ 2,  5,  3],\n",
              "         [19, 22, 20],\n",
              "         ...,\n",
              "         [90, 93, 91],\n",
              "         [30, 33, 31],\n",
              "         [29, 32, 30]],\n",
              " \n",
              "        [[ 1,  4,  2],\n",
              "         [ 0,  3,  1],\n",
              "         [17, 20, 18],\n",
              "         ...,\n",
              "         [85, 88, 86],\n",
              "         [26, 29, 27],\n",
              "         [25, 28, 26]],\n",
              " \n",
              "        [[ 1,  4,  2],\n",
              "         [ 0,  1,  0],\n",
              "         [18, 21, 19],\n",
              "         ...,\n",
              "         [80, 83, 81],\n",
              "         [22, 25, 23],\n",
              "         [21, 24, 22]],\n",
              " \n",
              "        ...,\n",
              " \n",
              "        [[ 0,  3,  1],\n",
              "         [ 7, 10,  8],\n",
              "         [15, 18, 16],\n",
              "         ...,\n",
              "         [ 6,  9,  7],\n",
              "         [ 2,  5,  3],\n",
              "         [ 0,  3,  1]],\n",
              " \n",
              "        [[ 0,  1,  0],\n",
              "         [ 0,  1,  0],\n",
              "         [ 0,  2,  0],\n",
              "         ...,\n",
              "         [ 7, 10,  8],\n",
              "         [ 1,  4,  2],\n",
              "         [ 0,  1,  0]],\n",
              " \n",
              "        [[ 1,  4,  2],\n",
              "         [ 1,  4,  2],\n",
              "         [ 0,  1,  0],\n",
              "         ...,\n",
              "         [ 7, 10,  8],\n",
              "         [ 1,  4,  2],\n",
              "         [ 0,  1,  0]]], dtype=uint8)\n",
              " orig_shape: (640, 640)\n",
              " path: '/content/drive/MyDrive/Needle_detection/test/images/181_jpg.rf.5c342d82b39e5364942b8535d8f989bb.jpg'\n",
              " probs: None\n",
              " save_dir: 'runs/detect/predict'\n",
              " speed: {'preprocess': 1.7414039998584485, 'inference': 36.90252499973212, 'postprocess': 1.7538470001454698},\n",
              " ultralytics.engine.results.Results object with attributes:\n",
              " \n",
              " boxes: ultralytics.engine.results.Boxes object\n",
              " keypoints: None\n",
              " masks: None\n",
              " names: {0: 'needle'}\n",
              " obb: None\n",
              " orig_img: array([[[ 0,  1,  0],\n",
              "         [ 0,  1,  0],\n",
              "         [18, 21, 19],\n",
              "         ...,\n",
              "         [83, 86, 84],\n",
              "         [27, 30, 28],\n",
              "         [29, 32, 30]],\n",
              " \n",
              "        [[ 0,  2,  0],\n",
              "         [ 0,  1,  0],\n",
              "         [17, 20, 18],\n",
              "         ...,\n",
              "         [84, 87, 85],\n",
              "         [29, 32, 30],\n",
              "         [31, 34, 32]],\n",
              " \n",
              "        [[ 4,  7,  5],\n",
              "         [ 0,  2,  0],\n",
              "         [19, 22, 20],\n",
              "         ...,\n",
              "         [83, 86, 84],\n",
              "         [29, 32, 30],\n",
              "         [31, 34, 32]],\n",
              " \n",
              "        ...,\n",
              " \n",
              "        [[ 2,  5,  3],\n",
              "         [ 6,  9,  7],\n",
              "         [10, 13, 11],\n",
              "         ...,\n",
              "         [ 0,  2,  0],\n",
              "         [ 0,  2,  0],\n",
              "         [ 0,  2,  0]],\n",
              " \n",
              "        [[ 0,  1,  0],\n",
              "         [ 0,  1,  0],\n",
              "         [ 0,  3,  1],\n",
              "         ...,\n",
              "         [ 0,  2,  0],\n",
              "         [ 0,  2,  0],\n",
              "         [ 0,  2,  0]],\n",
              " \n",
              "        [[ 0,  2,  0],\n",
              "         [ 2,  5,  3],\n",
              "         [ 3,  6,  4],\n",
              "         ...,\n",
              "         [ 0,  2,  0],\n",
              "         [ 0,  2,  0],\n",
              "         [ 0,  2,  0]]], dtype=uint8)\n",
              " orig_shape: (640, 640)\n",
              " path: '/content/drive/MyDrive/Needle_detection/test/images/182_jpg.rf.46d73743f22b1e43584c365ad4fe846a.jpg'\n",
              " probs: None\n",
              " save_dir: 'runs/detect/predict'\n",
              " speed: {'preprocess': 1.8049230002361583, 'inference': 36.891818000185594, 'postprocess': 1.5860140001677792},\n",
              " ultralytics.engine.results.Results object with attributes:\n",
              " \n",
              " boxes: ultralytics.engine.results.Boxes object\n",
              " keypoints: None\n",
              " masks: None\n",
              " names: {0: 'needle'}\n",
              " obb: None\n",
              " orig_img: array([[[ 0,  1,  0],\n",
              "         [ 3,  6,  4],\n",
              "         [25, 28, 26],\n",
              "         ...,\n",
              "         [76, 79, 77],\n",
              "         [21, 24, 22],\n",
              "         [24, 27, 25]],\n",
              " \n",
              "        [[ 0,  1,  0],\n",
              "         [ 1,  4,  2],\n",
              "         [21, 24, 22],\n",
              "         ...,\n",
              "         [81, 84, 82],\n",
              "         [25, 28, 26],\n",
              "         [26, 29, 27]],\n",
              " \n",
              "        [[ 0,  2,  0],\n",
              "         [ 0,  1,  0],\n",
              "         [19, 22, 20],\n",
              "         ...,\n",
              "         [84, 87, 85],\n",
              "         [26, 29, 27],\n",
              "         [25, 28, 26]],\n",
              " \n",
              "        ...,\n",
              " \n",
              "        [[ 0,  2,  0],\n",
              "         [ 3,  6,  4],\n",
              "         [ 4,  7,  5],\n",
              "         ...,\n",
              "         [ 3,  6,  4],\n",
              "         [ 1,  4,  2],\n",
              "         [ 0,  3,  1]],\n",
              " \n",
              "        [[ 0,  2,  0],\n",
              "         [ 2,  5,  3],\n",
              "         [ 4,  7,  5],\n",
              "         ...,\n",
              "         [ 5,  8,  6],\n",
              "         [ 3,  6,  4],\n",
              "         [ 2,  5,  3]],\n",
              " \n",
              "        [[ 0,  1,  0],\n",
              "         [ 1,  4,  2],\n",
              "         [ 3,  6,  4],\n",
              "         ...,\n",
              "         [ 5,  8,  6],\n",
              "         [ 4,  7,  5],\n",
              "         [ 3,  6,  4]]], dtype=uint8)\n",
              " orig_shape: (640, 640)\n",
              " path: '/content/drive/MyDrive/Needle_detection/test/images/186_jpg.rf.8adc34be15600579478e1174361362df.jpg'\n",
              " probs: None\n",
              " save_dir: 'runs/detect/predict'\n",
              " speed: {'preprocess': 1.7038709997905244, 'inference': 36.90916200002903, 'postprocess': 1.5656679997846368},\n",
              " ultralytics.engine.results.Results object with attributes:\n",
              " \n",
              " boxes: ultralytics.engine.results.Boxes object\n",
              " keypoints: None\n",
              " masks: None\n",
              " names: {0: 'needle'}\n",
              " obb: None\n",
              " orig_img: array([[[ 0,  1,  0],\n",
              "         [ 0,  3,  1],\n",
              "         [21, 24, 22],\n",
              "         ...,\n",
              "         [86, 89, 87],\n",
              "         [32, 35, 33],\n",
              "         [31, 34, 32]],\n",
              " \n",
              "        [[ 0,  2,  0],\n",
              "         [ 0,  1,  0],\n",
              "         [19, 22, 20],\n",
              "         ...,\n",
              "         [85, 88, 86],\n",
              "         [29, 32, 30],\n",
              "         [27, 30, 28]],\n",
              " \n",
              "        [[ 0,  2,  0],\n",
              "         [ 0,  1,  0],\n",
              "         [19, 22, 20],\n",
              "         ...,\n",
              "         [84, 87, 85],\n",
              "         [27, 30, 28],\n",
              "         [23, 26, 24]],\n",
              " \n",
              "        ...,\n",
              " \n",
              "        [[ 0,  1,  0],\n",
              "         [ 0,  2,  0],\n",
              "         [ 0,  2,  0],\n",
              "         ...,\n",
              "         [ 8, 11,  9],\n",
              "         [ 2,  5,  3],\n",
              "         [ 1,  4,  2]],\n",
              " \n",
              "        [[ 0,  2,  0],\n",
              "         [ 0,  2,  0],\n",
              "         [ 0,  2,  0],\n",
              "         ...,\n",
              "         [ 6,  9,  7],\n",
              "         [ 0,  3,  1],\n",
              "         [ 0,  2,  0]],\n",
              " \n",
              "        [[ 0,  2,  0],\n",
              "         [ 0,  2,  0],\n",
              "         [ 0,  2,  0],\n",
              "         ...,\n",
              "         [ 6,  9,  7],\n",
              "         [ 0,  3,  1],\n",
              "         [ 0,  1,  0]]], dtype=uint8)\n",
              " orig_shape: (640, 640)\n",
              " path: '/content/drive/MyDrive/Needle_detection/test/images/187_jpg.rf.5de3dd7c8bb70019437e6f9de89a2aa6.jpg'\n",
              " probs: None\n",
              " save_dir: 'runs/detect/predict'\n",
              " speed: {'preprocess': 1.8662789998415974, 'inference': 36.90943299989158, 'postprocess': 1.6662770003676997},\n",
              " ultralytics.engine.results.Results object with attributes:\n",
              " \n",
              " boxes: ultralytics.engine.results.Boxes object\n",
              " keypoints: None\n",
              " masks: None\n",
              " names: {0: 'needle'}\n",
              " obb: None\n",
              " orig_img: array([[[0, 0, 0],\n",
              "         [0, 0, 0],\n",
              "         [0, 0, 0],\n",
              "         ...,\n",
              "         [0, 0, 0],\n",
              "         [0, 0, 0],\n",
              "         [0, 0, 0]],\n",
              " \n",
              "        [[0, 0, 0],\n",
              "         [0, 0, 0],\n",
              "         [0, 0, 0],\n",
              "         ...,\n",
              "         [0, 0, 0],\n",
              "         [0, 0, 0],\n",
              "         [0, 0, 0]],\n",
              " \n",
              "        [[0, 0, 0],\n",
              "         [0, 0, 0],\n",
              "         [0, 0, 0],\n",
              "         ...,\n",
              "         [0, 0, 0],\n",
              "         [0, 0, 0],\n",
              "         [0, 0, 0]],\n",
              " \n",
              "        ...,\n",
              " \n",
              "        [[0, 0, 0],\n",
              "         [0, 0, 0],\n",
              "         [0, 0, 0],\n",
              "         ...,\n",
              "         [0, 0, 0],\n",
              "         [0, 0, 0],\n",
              "         [0, 0, 0]],\n",
              " \n",
              "        [[0, 0, 0],\n",
              "         [0, 0, 0],\n",
              "         [0, 0, 0],\n",
              "         ...,\n",
              "         [0, 0, 0],\n",
              "         [0, 0, 0],\n",
              "         [0, 0, 0]],\n",
              " \n",
              "        [[0, 0, 0],\n",
              "         [0, 0, 0],\n",
              "         [0, 0, 0],\n",
              "         ...,\n",
              "         [0, 0, 0],\n",
              "         [0, 0, 0],\n",
              "         [0, 0, 0]]], dtype=uint8)\n",
              " orig_shape: (640, 640)\n",
              " path: '/content/drive/MyDrive/Needle_detection/test/images/193_jpg.rf.ef659ebfccd956663964e9d03871d89e.jpg'\n",
              " probs: None\n",
              " save_dir: 'runs/detect/predict'\n",
              " speed: {'preprocess': 1.6966620000857802, 'inference': 36.88272699992012, 'postprocess': 1.5858459996707097},\n",
              " ultralytics.engine.results.Results object with attributes:\n",
              " \n",
              " boxes: ultralytics.engine.results.Boxes object\n",
              " keypoints: None\n",
              " masks: None\n",
              " names: {0: 'needle'}\n",
              " obb: None\n",
              " orig_img: array([[[ 2,  5,  3],\n",
              "         [ 0,  2,  0],\n",
              "         [14, 17, 15],\n",
              "         ...,\n",
              "         [81, 84, 82],\n",
              "         [22, 25, 23],\n",
              "         [20, 23, 21]],\n",
              " \n",
              "        [[ 1,  4,  2],\n",
              "         [ 0,  2,  0],\n",
              "         [17, 20, 18],\n",
              "         ...,\n",
              "         [84, 87, 85],\n",
              "         [26, 29, 27],\n",
              "         [25, 28, 26]],\n",
              " \n",
              "        [[ 0,  3,  1],\n",
              "         [ 0,  2,  0],\n",
              "         [22, 25, 23],\n",
              "         ...,\n",
              "         [84, 87, 85],\n",
              "         [27, 30, 28],\n",
              "         [26, 29, 27]],\n",
              " \n",
              "        ...,\n",
              " \n",
              "        [[ 0,  1,  0],\n",
              "         [ 3,  6,  4],\n",
              "         [22, 25, 23],\n",
              "         ...,\n",
              "         [ 0,  0,  0],\n",
              "         [ 1,  1,  1],\n",
              "         [ 1,  1,  1]],\n",
              " \n",
              "        [[ 0,  1,  0],\n",
              "         [ 3,  6,  4],\n",
              "         [23, 26, 24],\n",
              "         ...,\n",
              "         [ 0,  0,  0],\n",
              "         [ 1,  1,  1],\n",
              "         [ 2,  2,  2]],\n",
              " \n",
              "        [[ 0,  1,  0],\n",
              "         [ 3,  6,  4],\n",
              "         [23, 26, 24],\n",
              "         ...,\n",
              "         [ 0,  0,  0],\n",
              "         [ 0,  0,  0],\n",
              "         [ 2,  2,  2]]], dtype=uint8)\n",
              " orig_shape: (640, 640)\n",
              " path: '/content/drive/MyDrive/Needle_detection/test/images/203_jpg.rf.0c9594b5f297904e8b5dd20dc35f0bef.jpg'\n",
              " probs: None\n",
              " save_dir: 'runs/detect/predict'\n",
              " speed: {'preprocess': 2.464296999733051, 'inference': 36.91444000014599, 'postprocess': 2.308041999640409},\n",
              " ultralytics.engine.results.Results object with attributes:\n",
              " \n",
              " boxes: ultralytics.engine.results.Boxes object\n",
              " keypoints: None\n",
              " masks: None\n",
              " names: {0: 'needle'}\n",
              " obb: None\n",
              " orig_img: array([[[0, 0, 0],\n",
              "         [0, 0, 0],\n",
              "         [0, 0, 0],\n",
              "         ...,\n",
              "         [0, 0, 0],\n",
              "         [0, 0, 0],\n",
              "         [0, 0, 0]],\n",
              " \n",
              "        [[0, 0, 0],\n",
              "         [0, 0, 0],\n",
              "         [0, 0, 0],\n",
              "         ...,\n",
              "         [0, 0, 0],\n",
              "         [0, 0, 0],\n",
              "         [0, 0, 0]],\n",
              " \n",
              "        [[0, 0, 0],\n",
              "         [0, 0, 0],\n",
              "         [0, 0, 0],\n",
              "         ...,\n",
              "         [0, 0, 0],\n",
              "         [0, 0, 0],\n",
              "         [0, 0, 0]],\n",
              " \n",
              "        ...,\n",
              " \n",
              "        [[0, 0, 0],\n",
              "         [0, 0, 0],\n",
              "         [0, 0, 0],\n",
              "         ...,\n",
              "         [0, 0, 0],\n",
              "         [0, 0, 0],\n",
              "         [0, 0, 0]],\n",
              " \n",
              "        [[0, 0, 0],\n",
              "         [0, 0, 0],\n",
              "         [0, 0, 0],\n",
              "         ...,\n",
              "         [0, 0, 0],\n",
              "         [0, 0, 0],\n",
              "         [0, 0, 0]],\n",
              " \n",
              "        [[0, 0, 0],\n",
              "         [0, 0, 0],\n",
              "         [0, 0, 0],\n",
              "         ...,\n",
              "         [0, 0, 0],\n",
              "         [0, 0, 0],\n",
              "         [0, 0, 0]]], dtype=uint8)\n",
              " orig_shape: (640, 640)\n",
              " path: '/content/drive/MyDrive/Needle_detection/test/images/203_jpg.rf.ea9b8d4d1791952ffbba06b5c538791e.jpg'\n",
              " probs: None\n",
              " save_dir: 'runs/detect/predict'\n",
              " speed: {'preprocess': 2.3059549998833972, 'inference': 36.92981299991516, 'postprocess': 2.082432999941375},\n",
              " ultralytics.engine.results.Results object with attributes:\n",
              " \n",
              " boxes: ultralytics.engine.results.Boxes object\n",
              " keypoints: None\n",
              " masks: None\n",
              " names: {0: 'needle'}\n",
              " obb: None\n",
              " orig_img: array([[[0, 0, 0],\n",
              "         [0, 0, 0],\n",
              "         [0, 0, 0],\n",
              "         ...,\n",
              "         [0, 0, 0],\n",
              "         [0, 0, 0],\n",
              "         [0, 0, 0]],\n",
              " \n",
              "        [[0, 0, 0],\n",
              "         [0, 0, 0],\n",
              "         [0, 0, 0],\n",
              "         ...,\n",
              "         [0, 0, 0],\n",
              "         [0, 0, 0],\n",
              "         [0, 0, 0]],\n",
              " \n",
              "        [[0, 0, 0],\n",
              "         [0, 0, 0],\n",
              "         [0, 0, 0],\n",
              "         ...,\n",
              "         [0, 0, 0],\n",
              "         [0, 0, 0],\n",
              "         [0, 0, 0]],\n",
              " \n",
              "        ...,\n",
              " \n",
              "        [[0, 0, 0],\n",
              "         [0, 0, 0],\n",
              "         [0, 0, 0],\n",
              "         ...,\n",
              "         [0, 0, 0],\n",
              "         [0, 0, 0],\n",
              "         [0, 0, 0]],\n",
              " \n",
              "        [[0, 0, 0],\n",
              "         [0, 0, 0],\n",
              "         [0, 0, 0],\n",
              "         ...,\n",
              "         [0, 0, 0],\n",
              "         [0, 0, 0],\n",
              "         [0, 0, 0]],\n",
              " \n",
              "        [[0, 0, 0],\n",
              "         [0, 0, 0],\n",
              "         [0, 0, 0],\n",
              "         ...,\n",
              "         [0, 0, 0],\n",
              "         [0, 0, 0],\n",
              "         [0, 0, 0]]], dtype=uint8)\n",
              " orig_shape: (640, 640)\n",
              " path: '/content/drive/MyDrive/Needle_detection/test/images/208_jpg.rf.53504f01edf4526747013119fd7e79e9.jpg'\n",
              " probs: None\n",
              " save_dir: 'runs/detect/predict'\n",
              " speed: {'preprocess': 2.3037609998937114, 'inference': 37.630538000030356, 'postprocess': 2.3763540002619266},\n",
              " ultralytics.engine.results.Results object with attributes:\n",
              " \n",
              " boxes: ultralytics.engine.results.Boxes object\n",
              " keypoints: None\n",
              " masks: None\n",
              " names: {0: 'needle'}\n",
              " obb: None\n",
              " orig_img: array([[[0, 0, 0],\n",
              "         [0, 0, 0],\n",
              "         [0, 0, 0],\n",
              "         ...,\n",
              "         [0, 0, 0],\n",
              "         [0, 0, 0],\n",
              "         [0, 0, 0]],\n",
              " \n",
              "        [[0, 0, 0],\n",
              "         [0, 0, 0],\n",
              "         [0, 0, 0],\n",
              "         ...,\n",
              "         [0, 0, 0],\n",
              "         [0, 0, 0],\n",
              "         [0, 0, 0]],\n",
              " \n",
              "        [[0, 0, 0],\n",
              "         [0, 0, 0],\n",
              "         [0, 0, 0],\n",
              "         ...,\n",
              "         [0, 0, 0],\n",
              "         [0, 0, 0],\n",
              "         [0, 0, 0]],\n",
              " \n",
              "        ...,\n",
              " \n",
              "        [[0, 0, 0],\n",
              "         [0, 0, 0],\n",
              "         [0, 0, 0],\n",
              "         ...,\n",
              "         [0, 0, 0],\n",
              "         [0, 0, 0],\n",
              "         [0, 0, 0]],\n",
              " \n",
              "        [[0, 0, 0],\n",
              "         [0, 0, 0],\n",
              "         [0, 0, 0],\n",
              "         ...,\n",
              "         [0, 0, 0],\n",
              "         [0, 0, 0],\n",
              "         [0, 0, 0]],\n",
              " \n",
              "        [[0, 0, 0],\n",
              "         [0, 0, 0],\n",
              "         [0, 0, 0],\n",
              "         ...,\n",
              "         [0, 0, 0],\n",
              "         [0, 0, 0],\n",
              "         [0, 0, 0]]], dtype=uint8)\n",
              " orig_shape: (640, 640)\n",
              " path: '/content/drive/MyDrive/Needle_detection/test/images/24_jpg.rf.1ebd69e49c1fd81019ed329a936c850c.jpg'\n",
              " probs: None\n",
              " save_dir: 'runs/detect/predict'\n",
              " speed: {'preprocess': 1.737821000006079, 'inference': 36.886556000354176, 'postprocess': 1.6072549997261376},\n",
              " ultralytics.engine.results.Results object with attributes:\n",
              " \n",
              " boxes: ultralytics.engine.results.Boxes object\n",
              " keypoints: None\n",
              " masks: None\n",
              " names: {0: 'needle'}\n",
              " obb: None\n",
              " orig_img: array([[[0, 0, 0],\n",
              "         [0, 0, 0],\n",
              "         [0, 0, 0],\n",
              "         ...,\n",
              "         [0, 0, 0],\n",
              "         [0, 0, 0],\n",
              "         [0, 0, 0]],\n",
              " \n",
              "        [[0, 0, 0],\n",
              "         [0, 0, 0],\n",
              "         [0, 0, 0],\n",
              "         ...,\n",
              "         [0, 0, 0],\n",
              "         [0, 0, 0],\n",
              "         [0, 0, 0]],\n",
              " \n",
              "        [[0, 0, 0],\n",
              "         [0, 0, 0],\n",
              "         [0, 0, 0],\n",
              "         ...,\n",
              "         [0, 0, 0],\n",
              "         [0, 0, 0],\n",
              "         [0, 0, 0]],\n",
              " \n",
              "        ...,\n",
              " \n",
              "        [[0, 0, 0],\n",
              "         [0, 0, 0],\n",
              "         [0, 0, 0],\n",
              "         ...,\n",
              "         [0, 0, 0],\n",
              "         [0, 0, 0],\n",
              "         [0, 0, 0]],\n",
              " \n",
              "        [[0, 0, 0],\n",
              "         [0, 0, 0],\n",
              "         [0, 0, 0],\n",
              "         ...,\n",
              "         [0, 0, 0],\n",
              "         [0, 0, 0],\n",
              "         [0, 0, 0]],\n",
              " \n",
              "        [[0, 0, 0],\n",
              "         [0, 0, 0],\n",
              "         [0, 0, 0],\n",
              "         ...,\n",
              "         [0, 0, 0],\n",
              "         [0, 0, 0],\n",
              "         [0, 0, 0]]], dtype=uint8)\n",
              " orig_shape: (640, 640)\n",
              " path: '/content/drive/MyDrive/Needle_detection/test/images/258_jpg.rf.50bd3714415bdf7fde2258cbefbb7fd1.jpg'\n",
              " probs: None\n",
              " save_dir: 'runs/detect/predict'\n",
              " speed: {'preprocess': 1.844320999680349, 'inference': 36.94293699982154, 'postprocess': 1.6230659998655028},\n",
              " ultralytics.engine.results.Results object with attributes:\n",
              " \n",
              " boxes: ultralytics.engine.results.Boxes object\n",
              " keypoints: None\n",
              " masks: None\n",
              " names: {0: 'needle'}\n",
              " obb: None\n",
              " orig_img: array([[[ 0,  2,  0],\n",
              "         [ 2,  5,  3],\n",
              "         [21, 24, 22],\n",
              "         ...,\n",
              "         [88, 91, 89],\n",
              "         [25, 28, 26],\n",
              "         [31, 34, 32]],\n",
              " \n",
              "        [[ 0,  1,  0],\n",
              "         [ 0,  2,  0],\n",
              "         [21, 24, 22],\n",
              "         ...,\n",
              "         [92, 95, 93],\n",
              "         [29, 32, 30],\n",
              "         [35, 38, 36]],\n",
              " \n",
              "        [[ 0,  1,  0],\n",
              "         [ 0,  1,  0],\n",
              "         [24, 27, 25],\n",
              "         ...,\n",
              "         [95, 98, 96],\n",
              "         [31, 34, 32],\n",
              "         [35, 38, 36]],\n",
              " \n",
              "        ...,\n",
              " \n",
              "        [[ 2,  2,  2],\n",
              "         [ 3,  3,  3],\n",
              "         [ 3,  3,  3],\n",
              "         ...,\n",
              "         [11, 14, 12],\n",
              "         [ 4,  7,  5],\n",
              "         [ 0,  3,  1]],\n",
              " \n",
              "        [[ 2,  2,  2],\n",
              "         [ 3,  3,  3],\n",
              "         [ 2,  2,  2],\n",
              "         ...,\n",
              "         [12, 15, 13],\n",
              "         [ 5,  8,  6],\n",
              "         [ 1,  4,  2]],\n",
              " \n",
              "        [[ 2,  2,  2],\n",
              "         [ 3,  3,  3],\n",
              "         [ 1,  1,  1],\n",
              "         ...,\n",
              "         [11, 14, 12],\n",
              "         [ 5,  8,  6],\n",
              "         [ 2,  5,  3]]], dtype=uint8)\n",
              " orig_shape: (640, 640)\n",
              " path: '/content/drive/MyDrive/Needle_detection/test/images/276_jpg.rf.3276387f8b8c8445b1eebe4704d253d7.jpg'\n",
              " probs: None\n",
              " save_dir: 'runs/detect/predict'\n",
              " speed: {'preprocess': 1.7403280003236432, 'inference': 36.915161999786505, 'postprocess': 1.5184029998636106},\n",
              " ultralytics.engine.results.Results object with attributes:\n",
              " \n",
              " boxes: ultralytics.engine.results.Boxes object\n",
              " keypoints: None\n",
              " masks: None\n",
              " names: {0: 'needle'}\n",
              " obb: None\n",
              " orig_img: array([[[0, 0, 0],\n",
              "         [0, 0, 0],\n",
              "         [0, 0, 0],\n",
              "         ...,\n",
              "         [0, 0, 0],\n",
              "         [0, 0, 0],\n",
              "         [0, 0, 0]],\n",
              " \n",
              "        [[0, 0, 0],\n",
              "         [0, 0, 0],\n",
              "         [0, 0, 0],\n",
              "         ...,\n",
              "         [0, 0, 0],\n",
              "         [0, 0, 0],\n",
              "         [0, 0, 0]],\n",
              " \n",
              "        [[0, 0, 0],\n",
              "         [0, 0, 0],\n",
              "         [0, 0, 0],\n",
              "         ...,\n",
              "         [0, 0, 0],\n",
              "         [0, 0, 0],\n",
              "         [0, 0, 0]],\n",
              " \n",
              "        ...,\n",
              " \n",
              "        [[0, 0, 0],\n",
              "         [0, 0, 0],\n",
              "         [0, 0, 0],\n",
              "         ...,\n",
              "         [0, 0, 0],\n",
              "         [0, 0, 0],\n",
              "         [0, 0, 0]],\n",
              " \n",
              "        [[0, 0, 0],\n",
              "         [0, 0, 0],\n",
              "         [0, 0, 0],\n",
              "         ...,\n",
              "         [0, 0, 0],\n",
              "         [0, 0, 0],\n",
              "         [0, 0, 0]],\n",
              " \n",
              "        [[0, 0, 0],\n",
              "         [0, 0, 0],\n",
              "         [0, 0, 0],\n",
              "         ...,\n",
              "         [0, 0, 0],\n",
              "         [0, 0, 0],\n",
              "         [0, 0, 0]]], dtype=uint8)\n",
              " orig_shape: (640, 640)\n",
              " path: '/content/drive/MyDrive/Needle_detection/test/images/299_jpg.rf.5e05499d7ba348aa3cfd76cdc76b8544.jpg'\n",
              " probs: None\n",
              " save_dir: 'runs/detect/predict'\n",
              " speed: {'preprocess': 1.8954219999613997, 'inference': 36.906209000335366, 'postprocess': 1.5197590000752825},\n",
              " ultralytics.engine.results.Results object with attributes:\n",
              " \n",
              " boxes: ultralytics.engine.results.Boxes object\n",
              " keypoints: None\n",
              " masks: None\n",
              " names: {0: 'needle'}\n",
              " obb: None\n",
              " orig_img: array([[[0, 0, 0],\n",
              "         [0, 0, 0],\n",
              "         [0, 0, 0],\n",
              "         ...,\n",
              "         [0, 0, 0],\n",
              "         [0, 0, 0],\n",
              "         [0, 0, 0]],\n",
              " \n",
              "        [[0, 0, 0],\n",
              "         [0, 0, 0],\n",
              "         [0, 0, 0],\n",
              "         ...,\n",
              "         [0, 0, 0],\n",
              "         [0, 0, 0],\n",
              "         [0, 0, 0]],\n",
              " \n",
              "        [[0, 0, 0],\n",
              "         [0, 0, 0],\n",
              "         [0, 0, 0],\n",
              "         ...,\n",
              "         [0, 0, 0],\n",
              "         [0, 0, 0],\n",
              "         [0, 0, 0]],\n",
              " \n",
              "        ...,\n",
              " \n",
              "        [[0, 0, 0],\n",
              "         [0, 0, 0],\n",
              "         [0, 0, 0],\n",
              "         ...,\n",
              "         [0, 0, 0],\n",
              "         [0, 0, 0],\n",
              "         [0, 0, 0]],\n",
              " \n",
              "        [[0, 0, 0],\n",
              "         [0, 0, 0],\n",
              "         [0, 0, 0],\n",
              "         ...,\n",
              "         [0, 0, 0],\n",
              "         [0, 0, 0],\n",
              "         [0, 0, 0]],\n",
              " \n",
              "        [[0, 0, 0],\n",
              "         [0, 0, 0],\n",
              "         [0, 0, 0],\n",
              "         ...,\n",
              "         [0, 0, 0],\n",
              "         [0, 0, 0],\n",
              "         [0, 0, 0]]], dtype=uint8)\n",
              " orig_shape: (640, 640)\n",
              " path: '/content/drive/MyDrive/Needle_detection/test/images/303_jpg.rf.cb03c349bd72f9f6331e8062ddfad909.jpg'\n",
              " probs: None\n",
              " save_dir: 'runs/detect/predict'\n",
              " speed: {'preprocess': 1.741941000091174, 'inference': 36.90977099995507, 'postprocess': 1.6029739999794401},\n",
              " ultralytics.engine.results.Results object with attributes:\n",
              " \n",
              " boxes: ultralytics.engine.results.Boxes object\n",
              " keypoints: None\n",
              " masks: None\n",
              " names: {0: 'needle'}\n",
              " obb: None\n",
              " orig_img: array([[[0, 0, 0],\n",
              "         [0, 0, 0],\n",
              "         [0, 0, 0],\n",
              "         ...,\n",
              "         [0, 0, 0],\n",
              "         [0, 0, 0],\n",
              "         [0, 0, 0]],\n",
              " \n",
              "        [[0, 0, 0],\n",
              "         [0, 0, 0],\n",
              "         [0, 0, 0],\n",
              "         ...,\n",
              "         [0, 0, 0],\n",
              "         [0, 0, 0],\n",
              "         [0, 0, 0]],\n",
              " \n",
              "        [[0, 0, 0],\n",
              "         [0, 0, 0],\n",
              "         [0, 0, 0],\n",
              "         ...,\n",
              "         [0, 0, 0],\n",
              "         [0, 0, 0],\n",
              "         [0, 0, 0]],\n",
              " \n",
              "        ...,\n",
              " \n",
              "        [[0, 0, 0],\n",
              "         [0, 0, 0],\n",
              "         [0, 0, 0],\n",
              "         ...,\n",
              "         [0, 0, 0],\n",
              "         [0, 0, 0],\n",
              "         [0, 0, 0]],\n",
              " \n",
              "        [[0, 0, 0],\n",
              "         [0, 0, 0],\n",
              "         [0, 0, 0],\n",
              "         ...,\n",
              "         [0, 0, 0],\n",
              "         [0, 0, 0],\n",
              "         [0, 0, 0]],\n",
              " \n",
              "        [[0, 0, 0],\n",
              "         [0, 0, 0],\n",
              "         [0, 0, 0],\n",
              "         ...,\n",
              "         [0, 0, 0],\n",
              "         [0, 0, 0],\n",
              "         [0, 0, 0]]], dtype=uint8)\n",
              " orig_shape: (640, 640)\n",
              " path: '/content/drive/MyDrive/Needle_detection/test/images/314_jpg.rf.beeb4789cd4e0705c1de74829f508d02.jpg'\n",
              " probs: None\n",
              " save_dir: 'runs/detect/predict'\n",
              " speed: {'preprocess': 1.8138239997824712, 'inference': 36.89545999986876, 'postprocess': 1.6673109998919244},\n",
              " ultralytics.engine.results.Results object with attributes:\n",
              " \n",
              " boxes: ultralytics.engine.results.Boxes object\n",
              " keypoints: None\n",
              " masks: None\n",
              " names: {0: 'needle'}\n",
              " obb: None\n",
              " orig_img: array([[[ 0,  3,  1],\n",
              "         [ 0,  1,  0],\n",
              "         [11, 14, 12],\n",
              "         ...,\n",
              "         [57, 60, 58],\n",
              "         [15, 18, 16],\n",
              "         [17, 20, 18]],\n",
              " \n",
              "        [[ 2,  5,  3],\n",
              "         [ 0,  2,  0],\n",
              "         [13, 16, 14],\n",
              "         ...,\n",
              "         [61, 64, 62],\n",
              "         [18, 21, 19],\n",
              "         [19, 22, 20]],\n",
              " \n",
              "        [[ 1,  4,  2],\n",
              "         [ 0,  3,  1],\n",
              "         [15, 18, 16],\n",
              "         ...,\n",
              "         [63, 66, 64],\n",
              "         [18, 21, 19],\n",
              "         [19, 22, 20]],\n",
              " \n",
              "        ...,\n",
              " \n",
              "        [[ 1,  1,  1],\n",
              "         [ 1,  1,  1],\n",
              "         [ 1,  1,  1],\n",
              "         ...,\n",
              "         [ 0,  2,  0],\n",
              "         [ 0,  2,  0],\n",
              "         [ 0,  2,  0]],\n",
              " \n",
              "        [[ 1,  1,  1],\n",
              "         [ 1,  1,  1],\n",
              "         [ 1,  1,  1],\n",
              "         ...,\n",
              "         [ 0,  3,  1],\n",
              "         [ 0,  2,  0],\n",
              "         [ 0,  2,  0]],\n",
              " \n",
              "        [[ 1,  1,  1],\n",
              "         [ 1,  1,  1],\n",
              "         [ 1,  1,  1],\n",
              "         ...,\n",
              "         [ 1,  4,  2],\n",
              "         [ 0,  2,  0],\n",
              "         [ 0,  1,  0]]], dtype=uint8)\n",
              " orig_shape: (640, 640)\n",
              " path: '/content/drive/MyDrive/Needle_detection/test/images/63_jpg.rf.89ba470eac4f734ed65a478d5a0e397a.jpg'\n",
              " probs: None\n",
              " save_dir: 'runs/detect/predict'\n",
              " speed: {'preprocess': 1.7782439999791677, 'inference': 36.887328999910096, 'postprocess': 1.6036809997785895},\n",
              " ultralytics.engine.results.Results object with attributes:\n",
              " \n",
              " boxes: ultralytics.engine.results.Boxes object\n",
              " keypoints: None\n",
              " masks: None\n",
              " names: {0: 'needle'}\n",
              " obb: None\n",
              " orig_img: array([[[0, 0, 0],\n",
              "         [0, 0, 0],\n",
              "         [0, 0, 0],\n",
              "         ...,\n",
              "         [0, 0, 0],\n",
              "         [0, 0, 0],\n",
              "         [0, 0, 0]],\n",
              " \n",
              "        [[0, 0, 0],\n",
              "         [0, 0, 0],\n",
              "         [0, 0, 0],\n",
              "         ...,\n",
              "         [0, 0, 0],\n",
              "         [0, 0, 0],\n",
              "         [0, 0, 0]],\n",
              " \n",
              "        [[0, 0, 0],\n",
              "         [0, 0, 0],\n",
              "         [0, 0, 0],\n",
              "         ...,\n",
              "         [0, 0, 0],\n",
              "         [0, 0, 0],\n",
              "         [0, 0, 0]],\n",
              " \n",
              "        ...,\n",
              " \n",
              "        [[0, 0, 0],\n",
              "         [0, 0, 0],\n",
              "         [0, 0, 0],\n",
              "         ...,\n",
              "         [0, 0, 0],\n",
              "         [0, 0, 0],\n",
              "         [0, 0, 0]],\n",
              " \n",
              "        [[0, 0, 0],\n",
              "         [0, 0, 0],\n",
              "         [0, 0, 0],\n",
              "         ...,\n",
              "         [0, 0, 0],\n",
              "         [0, 0, 0],\n",
              "         [0, 0, 0]],\n",
              " \n",
              "        [[0, 0, 0],\n",
              "         [0, 0, 0],\n",
              "         [0, 0, 0],\n",
              "         ...,\n",
              "         [0, 0, 0],\n",
              "         [0, 0, 0],\n",
              "         [0, 0, 0]]], dtype=uint8)\n",
              " orig_shape: (640, 640)\n",
              " path: '/content/drive/MyDrive/Needle_detection/test/images/643_jpg.rf.edff5d0a8cc9551725c5bae0b94ea7e9.jpg'\n",
              " probs: None\n",
              " save_dir: 'runs/detect/predict'\n",
              " speed: {'preprocess': 1.7715230001158488, 'inference': 36.899348000133614, 'postprocess': 1.5838730000723444},\n",
              " ultralytics.engine.results.Results object with attributes:\n",
              " \n",
              " boxes: ultralytics.engine.results.Boxes object\n",
              " keypoints: None\n",
              " masks: None\n",
              " names: {0: 'needle'}\n",
              " obb: None\n",
              " orig_img: array([[[0, 0, 0],\n",
              "         [0, 0, 0],\n",
              "         [0, 0, 0],\n",
              "         ...,\n",
              "         [0, 0, 0],\n",
              "         [0, 0, 0],\n",
              "         [0, 0, 0]],\n",
              " \n",
              "        [[0, 0, 0],\n",
              "         [0, 0, 0],\n",
              "         [0, 0, 0],\n",
              "         ...,\n",
              "         [0, 0, 0],\n",
              "         [0, 0, 0],\n",
              "         [0, 0, 0]],\n",
              " \n",
              "        [[0, 0, 0],\n",
              "         [0, 0, 0],\n",
              "         [0, 0, 0],\n",
              "         ...,\n",
              "         [0, 0, 0],\n",
              "         [0, 0, 0],\n",
              "         [0, 0, 0]],\n",
              " \n",
              "        ...,\n",
              " \n",
              "        [[0, 0, 0],\n",
              "         [0, 0, 0],\n",
              "         [0, 0, 0],\n",
              "         ...,\n",
              "         [0, 0, 0],\n",
              "         [0, 0, 0],\n",
              "         [0, 0, 0]],\n",
              " \n",
              "        [[0, 0, 0],\n",
              "         [0, 0, 0],\n",
              "         [0, 0, 0],\n",
              "         ...,\n",
              "         [0, 0, 0],\n",
              "         [0, 0, 0],\n",
              "         [0, 0, 0]],\n",
              " \n",
              "        [[0, 0, 0],\n",
              "         [0, 0, 0],\n",
              "         [0, 0, 0],\n",
              "         ...,\n",
              "         [0, 0, 0],\n",
              "         [0, 0, 0],\n",
              "         [0, 0, 0]]], dtype=uint8)\n",
              " orig_shape: (640, 640)\n",
              " path: '/content/drive/MyDrive/Needle_detection/test/images/664_jpg.rf.deb3ca8719eee2320f4a0c9ba0cf8456.jpg'\n",
              " probs: None\n",
              " save_dir: 'runs/detect/predict'\n",
              " speed: {'preprocess': 2.8974860001653724, 'inference': 36.93972600012785, 'postprocess': 1.5187499998319254},\n",
              " ultralytics.engine.results.Results object with attributes:\n",
              " \n",
              " boxes: ultralytics.engine.results.Boxes object\n",
              " keypoints: None\n",
              " masks: None\n",
              " names: {0: 'needle'}\n",
              " obb: None\n",
              " orig_img: array([[[0, 0, 0],\n",
              "         [0, 0, 0],\n",
              "         [0, 0, 0],\n",
              "         ...,\n",
              "         [0, 0, 0],\n",
              "         [0, 0, 0],\n",
              "         [0, 0, 0]],\n",
              " \n",
              "        [[0, 0, 0],\n",
              "         [0, 0, 0],\n",
              "         [0, 0, 0],\n",
              "         ...,\n",
              "         [0, 0, 0],\n",
              "         [0, 0, 0],\n",
              "         [0, 0, 0]],\n",
              " \n",
              "        [[0, 0, 0],\n",
              "         [0, 0, 0],\n",
              "         [0, 0, 0],\n",
              "         ...,\n",
              "         [0, 0, 0],\n",
              "         [0, 0, 0],\n",
              "         [0, 0, 0]],\n",
              " \n",
              "        ...,\n",
              " \n",
              "        [[0, 0, 0],\n",
              "         [0, 0, 0],\n",
              "         [0, 0, 0],\n",
              "         ...,\n",
              "         [0, 0, 0],\n",
              "         [0, 0, 0],\n",
              "         [0, 0, 0]],\n",
              " \n",
              "        [[0, 0, 0],\n",
              "         [0, 0, 0],\n",
              "         [0, 0, 0],\n",
              "         ...,\n",
              "         [0, 0, 0],\n",
              "         [0, 0, 0],\n",
              "         [0, 0, 0]],\n",
              " \n",
              "        [[0, 0, 0],\n",
              "         [0, 0, 0],\n",
              "         [0, 0, 0],\n",
              "         ...,\n",
              "         [0, 0, 0],\n",
              "         [0, 0, 0],\n",
              "         [0, 0, 0]]], dtype=uint8)\n",
              " orig_shape: (640, 640)\n",
              " path: '/content/drive/MyDrive/Needle_detection/test/images/700_jpg.rf.72cbd9e6117b22e7b28418d5b7fa2bd3.jpg'\n",
              " probs: None\n",
              " save_dir: 'runs/detect/predict'\n",
              " speed: {'preprocess': 2.871304000109376, 'inference': 36.90153700017618, 'postprocess': 1.6698489998816513},\n",
              " ultralytics.engine.results.Results object with attributes:\n",
              " \n",
              " boxes: ultralytics.engine.results.Boxes object\n",
              " keypoints: None\n",
              " masks: None\n",
              " names: {0: 'needle'}\n",
              " obb: None\n",
              " orig_img: array([[[0, 0, 0],\n",
              "         [0, 0, 0],\n",
              "         [0, 0, 0],\n",
              "         ...,\n",
              "         [0, 0, 0],\n",
              "         [0, 0, 0],\n",
              "         [0, 0, 0]],\n",
              " \n",
              "        [[0, 0, 0],\n",
              "         [0, 0, 0],\n",
              "         [0, 0, 0],\n",
              "         ...,\n",
              "         [0, 0, 0],\n",
              "         [0, 0, 0],\n",
              "         [0, 0, 0]],\n",
              " \n",
              "        [[0, 0, 0],\n",
              "         [0, 0, 0],\n",
              "         [0, 0, 0],\n",
              "         ...,\n",
              "         [0, 0, 0],\n",
              "         [0, 0, 0],\n",
              "         [0, 0, 0]],\n",
              " \n",
              "        ...,\n",
              " \n",
              "        [[0, 0, 0],\n",
              "         [0, 0, 0],\n",
              "         [0, 0, 0],\n",
              "         ...,\n",
              "         [0, 0, 0],\n",
              "         [0, 0, 0],\n",
              "         [0, 0, 0]],\n",
              " \n",
              "        [[0, 0, 0],\n",
              "         [0, 0, 0],\n",
              "         [0, 0, 0],\n",
              "         ...,\n",
              "         [0, 0, 0],\n",
              "         [0, 0, 0],\n",
              "         [0, 0, 0]],\n",
              " \n",
              "        [[0, 0, 0],\n",
              "         [0, 0, 0],\n",
              "         [0, 0, 0],\n",
              "         ...,\n",
              "         [0, 0, 0],\n",
              "         [0, 0, 0],\n",
              "         [0, 0, 0]]], dtype=uint8)\n",
              " orig_shape: (640, 640)\n",
              " path: '/content/drive/MyDrive/Needle_detection/test/images/705_jpg.rf.6d32e74daaba3fc55007c5cf0c220a8e.jpg'\n",
              " probs: None\n",
              " save_dir: 'runs/detect/predict'\n",
              " speed: {'preprocess': 2.911431000029552, 'inference': 36.90896799980692, 'postprocess': 1.6433599998890713},\n",
              " ultralytics.engine.results.Results object with attributes:\n",
              " \n",
              " boxes: ultralytics.engine.results.Boxes object\n",
              " keypoints: None\n",
              " masks: None\n",
              " names: {0: 'needle'}\n",
              " obb: None\n",
              " orig_img: array([[[0, 0, 0],\n",
              "         [0, 0, 0],\n",
              "         [0, 0, 0],\n",
              "         ...,\n",
              "         [0, 0, 0],\n",
              "         [0, 0, 0],\n",
              "         [0, 0, 0]],\n",
              " \n",
              "        [[0, 0, 0],\n",
              "         [0, 0, 0],\n",
              "         [0, 0, 0],\n",
              "         ...,\n",
              "         [0, 0, 0],\n",
              "         [0, 0, 0],\n",
              "         [0, 0, 0]],\n",
              " \n",
              "        [[0, 0, 0],\n",
              "         [0, 0, 0],\n",
              "         [0, 0, 0],\n",
              "         ...,\n",
              "         [0, 0, 0],\n",
              "         [0, 0, 0],\n",
              "         [0, 0, 0]],\n",
              " \n",
              "        ...,\n",
              " \n",
              "        [[0, 0, 0],\n",
              "         [0, 0, 0],\n",
              "         [0, 0, 0],\n",
              "         ...,\n",
              "         [0, 0, 0],\n",
              "         [0, 0, 0],\n",
              "         [0, 0, 0]],\n",
              " \n",
              "        [[0, 0, 0],\n",
              "         [0, 0, 0],\n",
              "         [0, 0, 0],\n",
              "         ...,\n",
              "         [0, 0, 0],\n",
              "         [0, 0, 0],\n",
              "         [0, 0, 0]],\n",
              " \n",
              "        [[0, 0, 0],\n",
              "         [0, 0, 0],\n",
              "         [0, 0, 0],\n",
              "         ...,\n",
              "         [0, 0, 0],\n",
              "         [0, 0, 0],\n",
              "         [0, 0, 0]]], dtype=uint8)\n",
              " orig_shape: (640, 640)\n",
              " path: '/content/drive/MyDrive/Needle_detection/test/images/727_jpg.rf.be5f32a0ee6aad09f916db9ee83b4439.jpg'\n",
              " probs: None\n",
              " save_dir: 'runs/detect/predict'\n",
              " speed: {'preprocess': 2.7613520001068537, 'inference': 36.96015100013028, 'postprocess': 1.5924039998935768},\n",
              " ultralytics.engine.results.Results object with attributes:\n",
              " \n",
              " boxes: ultralytics.engine.results.Boxes object\n",
              " keypoints: None\n",
              " masks: None\n",
              " names: {0: 'needle'}\n",
              " obb: None\n",
              " orig_img: array([[[0, 0, 0],\n",
              "         [0, 0, 0],\n",
              "         [0, 0, 0],\n",
              "         ...,\n",
              "         [0, 0, 0],\n",
              "         [0, 0, 0],\n",
              "         [0, 0, 0]],\n",
              " \n",
              "        [[0, 0, 0],\n",
              "         [0, 0, 0],\n",
              "         [0, 0, 0],\n",
              "         ...,\n",
              "         [0, 0, 0],\n",
              "         [0, 0, 0],\n",
              "         [0, 0, 0]],\n",
              " \n",
              "        [[0, 0, 0],\n",
              "         [0, 0, 0],\n",
              "         [0, 0, 0],\n",
              "         ...,\n",
              "         [0, 0, 0],\n",
              "         [0, 0, 0],\n",
              "         [0, 0, 0]],\n",
              " \n",
              "        ...,\n",
              " \n",
              "        [[0, 0, 0],\n",
              "         [0, 0, 0],\n",
              "         [0, 0, 0],\n",
              "         ...,\n",
              "         [0, 0, 0],\n",
              "         [0, 0, 0],\n",
              "         [0, 0, 0]],\n",
              " \n",
              "        [[0, 0, 0],\n",
              "         [0, 0, 0],\n",
              "         [0, 0, 0],\n",
              "         ...,\n",
              "         [0, 0, 0],\n",
              "         [0, 0, 0],\n",
              "         [0, 0, 0]],\n",
              " \n",
              "        [[0, 0, 0],\n",
              "         [0, 0, 0],\n",
              "         [0, 0, 0],\n",
              "         ...,\n",
              "         [0, 0, 0],\n",
              "         [0, 0, 0],\n",
              "         [0, 0, 0]]], dtype=uint8)\n",
              " orig_shape: (640, 640)\n",
              " path: '/content/drive/MyDrive/Needle_detection/test/images/731_jpg.rf.ff8eb71d0dd08df5ffe70c45c1bdc26e.jpg'\n",
              " probs: None\n",
              " save_dir: 'runs/detect/predict'\n",
              " speed: {'preprocess': 3.4688129999267403, 'inference': 36.981601000206865, 'postprocess': 1.58114999976533},\n",
              " ultralytics.engine.results.Results object with attributes:\n",
              " \n",
              " boxes: ultralytics.engine.results.Boxes object\n",
              " keypoints: None\n",
              " masks: None\n",
              " names: {0: 'needle'}\n",
              " obb: None\n",
              " orig_img: array([[[0, 0, 0],\n",
              "         [0, 0, 0],\n",
              "         [0, 0, 0],\n",
              "         ...,\n",
              "         [0, 0, 0],\n",
              "         [0, 0, 0],\n",
              "         [0, 0, 0]],\n",
              " \n",
              "        [[0, 0, 0],\n",
              "         [0, 0, 0],\n",
              "         [0, 0, 0],\n",
              "         ...,\n",
              "         [0, 0, 0],\n",
              "         [0, 0, 0],\n",
              "         [0, 0, 0]],\n",
              " \n",
              "        [[0, 0, 0],\n",
              "         [0, 0, 0],\n",
              "         [0, 0, 0],\n",
              "         ...,\n",
              "         [0, 0, 0],\n",
              "         [0, 0, 0],\n",
              "         [0, 0, 0]],\n",
              " \n",
              "        ...,\n",
              " \n",
              "        [[0, 0, 0],\n",
              "         [0, 0, 0],\n",
              "         [0, 0, 0],\n",
              "         ...,\n",
              "         [0, 0, 0],\n",
              "         [0, 0, 0],\n",
              "         [0, 0, 0]],\n",
              " \n",
              "        [[0, 0, 0],\n",
              "         [0, 0, 0],\n",
              "         [0, 0, 0],\n",
              "         ...,\n",
              "         [0, 0, 0],\n",
              "         [0, 0, 0],\n",
              "         [0, 0, 0]],\n",
              " \n",
              "        [[0, 0, 0],\n",
              "         [0, 0, 0],\n",
              "         [0, 0, 0],\n",
              "         ...,\n",
              "         [0, 0, 0],\n",
              "         [0, 0, 0],\n",
              "         [0, 0, 0]]], dtype=uint8)\n",
              " orig_shape: (640, 640)\n",
              " path: '/content/drive/MyDrive/Needle_detection/test/images/92_jpg.rf.f254d7766e6c16ec2199357ba3b597c8.jpg'\n",
              " probs: None\n",
              " save_dir: 'runs/detect/predict'\n",
              " speed: {'preprocess': 2.8007150003759307, 'inference': 36.88562899969838, 'postprocess': 1.9844429998556734},\n",
              " ultralytics.engine.results.Results object with attributes:\n",
              " \n",
              " boxes: ultralytics.engine.results.Boxes object\n",
              " keypoints: None\n",
              " masks: None\n",
              " names: {0: 'needle'}\n",
              " obb: None\n",
              " orig_img: array([[[0, 0, 0],\n",
              "         [0, 0, 0],\n",
              "         [0, 0, 0],\n",
              "         ...,\n",
              "         [0, 0, 0],\n",
              "         [0, 0, 0],\n",
              "         [0, 0, 0]],\n",
              " \n",
              "        [[0, 0, 0],\n",
              "         [0, 0, 0],\n",
              "         [0, 0, 0],\n",
              "         ...,\n",
              "         [0, 0, 0],\n",
              "         [0, 0, 0],\n",
              "         [0, 0, 0]],\n",
              " \n",
              "        [[0, 0, 0],\n",
              "         [0, 0, 0],\n",
              "         [0, 0, 0],\n",
              "         ...,\n",
              "         [0, 0, 0],\n",
              "         [0, 0, 0],\n",
              "         [0, 0, 0]],\n",
              " \n",
              "        ...,\n",
              " \n",
              "        [[0, 0, 0],\n",
              "         [0, 0, 0],\n",
              "         [0, 0, 0],\n",
              "         ...,\n",
              "         [0, 0, 0],\n",
              "         [0, 0, 0],\n",
              "         [0, 0, 0]],\n",
              " \n",
              "        [[0, 0, 0],\n",
              "         [0, 0, 0],\n",
              "         [0, 0, 0],\n",
              "         ...,\n",
              "         [0, 0, 0],\n",
              "         [0, 0, 0],\n",
              "         [0, 0, 0]],\n",
              " \n",
              "        [[0, 0, 0],\n",
              "         [0, 0, 0],\n",
              "         [0, 0, 0],\n",
              "         ...,\n",
              "         [0, 0, 0],\n",
              "         [0, 0, 0],\n",
              "         [0, 0, 0]]], dtype=uint8)\n",
              " orig_shape: (640, 640)\n",
              " path: '/content/drive/MyDrive/Needle_detection/test/images/97_jpg.rf.3e9fe3d149e0af8500db2b3a40f66bd5.jpg'\n",
              " probs: None\n",
              " save_dir: 'runs/detect/predict'\n",
              " speed: {'preprocess': 2.084070999899268, 'inference': 36.888196999825595, 'postprocess': 1.5937510002004274},\n",
              " ultralytics.engine.results.Results object with attributes:\n",
              " \n",
              " boxes: ultralytics.engine.results.Boxes object\n",
              " keypoints: None\n",
              " masks: None\n",
              " names: {0: 'needle'}\n",
              " obb: None\n",
              " orig_img: array([[[0, 0, 0],\n",
              "         [0, 0, 0],\n",
              "         [0, 0, 0],\n",
              "         ...,\n",
              "         [0, 0, 0],\n",
              "         [0, 0, 0],\n",
              "         [0, 0, 0]],\n",
              " \n",
              "        [[0, 0, 0],\n",
              "         [0, 0, 0],\n",
              "         [0, 0, 0],\n",
              "         ...,\n",
              "         [0, 0, 0],\n",
              "         [0, 0, 0],\n",
              "         [0, 0, 0]],\n",
              " \n",
              "        [[0, 0, 0],\n",
              "         [0, 0, 0],\n",
              "         [0, 0, 0],\n",
              "         ...,\n",
              "         [0, 0, 0],\n",
              "         [0, 0, 0],\n",
              "         [0, 0, 0]],\n",
              " \n",
              "        ...,\n",
              " \n",
              "        [[0, 0, 0],\n",
              "         [0, 0, 0],\n",
              "         [0, 0, 0],\n",
              "         ...,\n",
              "         [0, 0, 0],\n",
              "         [0, 0, 0],\n",
              "         [0, 0, 0]],\n",
              " \n",
              "        [[0, 0, 0],\n",
              "         [0, 0, 0],\n",
              "         [0, 0, 0],\n",
              "         ...,\n",
              "         [0, 0, 0],\n",
              "         [0, 0, 0],\n",
              "         [0, 0, 0]],\n",
              " \n",
              "        [[0, 0, 0],\n",
              "         [0, 0, 0],\n",
              "         [0, 0, 0],\n",
              "         ...,\n",
              "         [0, 0, 0],\n",
              "         [0, 0, 0],\n",
              "         [0, 0, 0]]], dtype=uint8)\n",
              " orig_shape: (640, 640)\n",
              " path: '/content/drive/MyDrive/Needle_detection/test/images/9_jpg.rf.e53cfec85664b2006ed650c1a1e42b1d.jpg'\n",
              " probs: None\n",
              " save_dir: 'runs/detect/predict'\n",
              " speed: {'preprocess': 2.066940000077011, 'inference': 36.915129000135494, 'postprocess': 1.64521299984699},\n",
              " ultralytics.engine.results.Results object with attributes:\n",
              " \n",
              " boxes: ultralytics.engine.results.Boxes object\n",
              " keypoints: None\n",
              " masks: None\n",
              " names: {0: 'needle'}\n",
              " obb: None\n",
              " orig_img: array([[[  4,   4,   4],\n",
              "         [  2,   2,   2],\n",
              "         [  0,   0,   0],\n",
              "         ...,\n",
              "         [  5,   5,   5],\n",
              "         [  0,   0,   0],\n",
              "         [  0,   0,   0]],\n",
              " \n",
              "        [[  3,   3,   3],\n",
              "         [  3,   3,   3],\n",
              "         [  3,   3,   3],\n",
              "         ...,\n",
              "         [  9,   9,   9],\n",
              "         [  0,   0,   0],\n",
              "         [  1,   1,   1]],\n",
              " \n",
              "        [[100, 100, 100],\n",
              "         [101, 101, 101],\n",
              "         [100, 100, 100],\n",
              "         ...,\n",
              "         [ 11,  11,  11],\n",
              "         [  2,   2,   2],\n",
              "         [  5,   5,   5]],\n",
              " \n",
              "        ...,\n",
              " \n",
              "        [[ 17,  17,  17],\n",
              "         [ 14,  14,  14],\n",
              "         [ 10,  10,  10],\n",
              "         ...,\n",
              "         [  1,   1,   1],\n",
              "         [  3,   3,   3],\n",
              "         [  2,   2,   2]],\n",
              " \n",
              "        [[ 11,  11,  11],\n",
              "         [  9,   9,   9],\n",
              "         [  7,   7,   7],\n",
              "         ...,\n",
              "         [  0,   0,   0],\n",
              "         [  2,   2,   2],\n",
              "         [  3,   3,   3]],\n",
              " \n",
              "        [[  9,   9,   9],\n",
              "         [  9,   9,   9],\n",
              "         [  9,   9,   9],\n",
              "         ...,\n",
              "         [  0,   0,   0],\n",
              "         [  0,   0,   0],\n",
              "         [  1,   1,   1]]], dtype=uint8)\n",
              " orig_shape: (640, 640)\n",
              " path: '/content/drive/MyDrive/Needle_detection/test/images/avi_153_jpg.rf.1a26338165f29bb1f881f4dc830493f4.jpg'\n",
              " probs: None\n",
              " save_dir: 'runs/detect/predict'\n",
              " speed: {'preprocess': 2.0767910000358825, 'inference': 36.892133000037575, 'postprocess': 1.5888709999671846},\n",
              " ultralytics.engine.results.Results object with attributes:\n",
              " \n",
              " boxes: ultralytics.engine.results.Boxes object\n",
              " keypoints: None\n",
              " masks: None\n",
              " names: {0: 'needle'}\n",
              " obb: None\n",
              " orig_img: array([[[ 8,  8,  8],\n",
              "         [ 0,  0,  0],\n",
              "         [ 0,  0,  0],\n",
              "         ...,\n",
              "         [ 3,  3,  3],\n",
              "         [ 0,  0,  0],\n",
              "         [ 0,  0,  0]],\n",
              " \n",
              "        [[ 0,  0,  0],\n",
              "         [ 0,  0,  0],\n",
              "         [ 3,  3,  3],\n",
              "         ...,\n",
              "         [ 6,  6,  6],\n",
              "         [ 0,  0,  0],\n",
              "         [ 7,  7,  7]],\n",
              " \n",
              "        [[78, 78, 78],\n",
              "         [81, 81, 81],\n",
              "         [78, 78, 78],\n",
              "         ...,\n",
              "         [ 6,  6,  6],\n",
              "         [ 0,  0,  0],\n",
              "         [ 5,  5,  5]],\n",
              " \n",
              "        ...,\n",
              " \n",
              "        [[ 0,  0,  0],\n",
              "         [ 0,  0,  0],\n",
              "         [ 0,  0,  0],\n",
              "         ...,\n",
              "         [ 0,  0,  0],\n",
              "         [ 0,  0,  0],\n",
              "         [ 0,  0,  0]],\n",
              " \n",
              "        [[ 0,  0,  0],\n",
              "         [ 0,  0,  0],\n",
              "         [ 0,  0,  0],\n",
              "         ...,\n",
              "         [ 0,  0,  0],\n",
              "         [ 0,  0,  0],\n",
              "         [ 0,  0,  0]],\n",
              " \n",
              "        [[ 0,  0,  0],\n",
              "         [ 0,  0,  0],\n",
              "         [ 0,  0,  0],\n",
              "         ...,\n",
              "         [ 0,  0,  0],\n",
              "         [ 0,  0,  0],\n",
              "         [ 0,  0,  0]]], dtype=uint8)\n",
              " orig_shape: (640, 640)\n",
              " path: '/content/drive/MyDrive/Needle_detection/test/images/avi_25_jpg.rf.8f0e6e625bedfd32e4a4696ba9f21df7.jpg'\n",
              " probs: None\n",
              " save_dir: 'runs/detect/predict'\n",
              " speed: {'preprocess': 2.7294190003885888, 'inference': 36.9350679998206, 'postprocess': 2.0019970002067566},\n",
              " ultralytics.engine.results.Results object with attributes:\n",
              " \n",
              " boxes: ultralytics.engine.results.Boxes object\n",
              " keypoints: None\n",
              " masks: None\n",
              " names: {0: 'needle'}\n",
              " obb: None\n",
              " orig_img: array([[[ 1,  1,  1],\n",
              "         [ 1,  1,  1],\n",
              "         [ 0,  0,  0],\n",
              "         ...,\n",
              "         [ 6,  6,  6],\n",
              "         [ 0,  0,  0],\n",
              "         [ 4,  4,  4]],\n",
              " \n",
              "        [[ 2,  2,  2],\n",
              "         [ 3,  3,  3],\n",
              "         [ 4,  4,  4],\n",
              "         ...,\n",
              "         [ 4,  4,  4],\n",
              "         [ 0,  0,  0],\n",
              "         [10, 10, 10]],\n",
              " \n",
              "        [[85, 85, 85],\n",
              "         [81, 81, 81],\n",
              "         [75, 75, 75],\n",
              "         ...,\n",
              "         [ 2,  2,  2],\n",
              "         [ 0,  0,  0],\n",
              "         [ 8,  8,  8]],\n",
              " \n",
              "        ...,\n",
              " \n",
              "        [[ 0,  0,  0],\n",
              "         [ 0,  0,  0],\n",
              "         [ 0,  0,  0],\n",
              "         ...,\n",
              "         [ 0,  0,  0],\n",
              "         [ 0,  0,  0],\n",
              "         [ 0,  0,  0]],\n",
              " \n",
              "        [[ 0,  0,  0],\n",
              "         [ 0,  0,  0],\n",
              "         [ 0,  0,  0],\n",
              "         ...,\n",
              "         [ 0,  0,  0],\n",
              "         [ 0,  0,  0],\n",
              "         [ 0,  0,  0]],\n",
              " \n",
              "        [[ 0,  0,  0],\n",
              "         [ 0,  0,  0],\n",
              "         [ 0,  0,  0],\n",
              "         ...,\n",
              "         [ 0,  0,  0],\n",
              "         [ 0,  0,  0],\n",
              "         [ 0,  0,  0]]], dtype=uint8)\n",
              " orig_shape: (640, 640)\n",
              " path: '/content/drive/MyDrive/Needle_detection/test/images/avi_50_jpg.rf.9df415ddef8238c69e542d9698aa68cf.jpg'\n",
              " probs: None\n",
              " save_dir: 'runs/detect/predict'\n",
              " speed: {'preprocess': 2.8124899999966146, 'inference': 37.65265699985321, 'postprocess': 2.3101580000002286},\n",
              " ultralytics.engine.results.Results object with attributes:\n",
              " \n",
              " boxes: ultralytics.engine.results.Boxes object\n",
              " keypoints: None\n",
              " masks: None\n",
              " names: {0: 'needle'}\n",
              " obb: None\n",
              " orig_img: array([[[ 0,  0,  0],\n",
              "         [ 0,  0,  0],\n",
              "         [ 0,  0,  0],\n",
              "         ...,\n",
              "         [ 8,  8,  8],\n",
              "         [ 0,  0,  0],\n",
              "         [ 1,  1,  1]],\n",
              " \n",
              "        [[ 5,  5,  5],\n",
              "         [ 5,  5,  5],\n",
              "         [ 4,  4,  4],\n",
              "         ...,\n",
              "         [ 7,  7,  7],\n",
              "         [ 0,  0,  0],\n",
              "         [ 0,  0,  0]],\n",
              " \n",
              "        [[98, 98, 98],\n",
              "         [98, 98, 98],\n",
              "         [96, 96, 96],\n",
              "         ...,\n",
              "         [ 7,  7,  7],\n",
              "         [ 0,  0,  0],\n",
              "         [ 2,  2,  2]],\n",
              " \n",
              "        ...,\n",
              " \n",
              "        [[59, 59, 59],\n",
              "         [61, 61, 61],\n",
              "         [64, 64, 64],\n",
              "         ...,\n",
              "         [ 0,  0,  0],\n",
              "         [ 1,  1,  1],\n",
              "         [ 2,  2,  2]],\n",
              " \n",
              "        [[49, 49, 49],\n",
              "         [54, 54, 54],\n",
              "         [60, 60, 60],\n",
              "         ...,\n",
              "         [ 0,  0,  0],\n",
              "         [ 0,  0,  0],\n",
              "         [ 1,  1,  1]],\n",
              " \n",
              "        [[60, 60, 60],\n",
              "         [61, 61, 61],\n",
              "         [63, 63, 63],\n",
              "         ...,\n",
              "         [ 0,  0,  0],\n",
              "         [ 0,  0,  0],\n",
              "         [ 0,  0,  0]]], dtype=uint8)\n",
              " orig_shape: (640, 640)\n",
              " path: '/content/drive/MyDrive/Needle_detection/test/images/avi_66_jpg.rf.8e506f04aa5f000f567bfa2bc0645d72.jpg'\n",
              " probs: None\n",
              " save_dir: 'runs/detect/predict'\n",
              " speed: {'preprocess': 2.758176000043022, 'inference': 36.97922599985759, 'postprocess': 2.241086000140058},\n",
              " ultralytics.engine.results.Results object with attributes:\n",
              " \n",
              " boxes: ultralytics.engine.results.Boxes object\n",
              " keypoints: None\n",
              " masks: None\n",
              " names: {0: 'needle'}\n",
              " obb: None\n",
              " orig_img: array([[[ 0,  0,  0],\n",
              "         [ 0,  0,  0],\n",
              "         [ 0,  0,  0],\n",
              "         ...,\n",
              "         [ 7,  7,  7],\n",
              "         [ 2,  2,  2],\n",
              "         [ 0,  0,  0]],\n",
              " \n",
              "        [[ 5,  5,  5],\n",
              "         [ 5,  5,  5],\n",
              "         [ 5,  5,  5],\n",
              "         ...,\n",
              "         [ 6,  6,  6],\n",
              "         [ 7,  7,  7],\n",
              "         [ 6,  6,  6]],\n",
              " \n",
              "        [[98, 98, 98],\n",
              "         [97, 97, 97],\n",
              "         [95, 95, 95],\n",
              "         ...,\n",
              "         [ 3,  3,  3],\n",
              "         [ 5,  5,  5],\n",
              "         [ 5,  5,  5]],\n",
              " \n",
              "        ...,\n",
              " \n",
              "        [[10, 10, 10],\n",
              "         [10, 10, 10],\n",
              "         [12, 12, 12],\n",
              "         ...,\n",
              "         [ 0,  0,  0],\n",
              "         [ 0,  0,  0],\n",
              "         [ 0,  0,  0]],\n",
              " \n",
              "        [[ 8,  8,  8],\n",
              "         [ 9,  9,  9],\n",
              "         [10, 10, 10],\n",
              "         ...,\n",
              "         [ 0,  0,  0],\n",
              "         [ 0,  0,  0],\n",
              "         [ 0,  0,  0]],\n",
              " \n",
              "        [[17, 17, 17],\n",
              "         [16, 16, 16],\n",
              "         [16, 16, 16],\n",
              "         ...,\n",
              "         [ 1,  1,  1],\n",
              "         [ 0,  0,  0],\n",
              "         [ 0,  0,  0]]], dtype=uint8)\n",
              " orig_shape: (640, 640)\n",
              " path: '/content/drive/MyDrive/Needle_detection/test/images/avi_80_jpg.rf.edb537d34710dcc93f764d1d496eacaf.jpg'\n",
              " probs: None\n",
              " save_dir: 'runs/detect/predict'\n",
              " speed: {'preprocess': 2.3355149996859836, 'inference': 36.95956599995043, 'postprocess': 2.4298739999721874},\n",
              " ultralytics.engine.results.Results object with attributes:\n",
              " \n",
              " boxes: ultralytics.engine.results.Boxes object\n",
              " keypoints: None\n",
              " masks: None\n",
              " names: {0: 'needle'}\n",
              " obb: None\n",
              " orig_img: array([[[ 1,  1,  1],\n",
              "         [ 0,  0,  0],\n",
              "         [ 0,  0,  0],\n",
              "         ...,\n",
              "         [ 4,  4,  4],\n",
              "         [ 3,  3,  3],\n",
              "         [ 0,  0,  0]],\n",
              " \n",
              "        [[ 0,  0,  0],\n",
              "         [ 1,  1,  1],\n",
              "         [ 2,  2,  2],\n",
              "         ...,\n",
              "         [ 3,  3,  3],\n",
              "         [ 2,  2,  2],\n",
              "         [ 0,  0,  0]],\n",
              " \n",
              "        [[92, 92, 92],\n",
              "         [94, 94, 94],\n",
              "         [96, 96, 96],\n",
              "         ...,\n",
              "         [ 4,  4,  4],\n",
              "         [ 3,  3,  3],\n",
              "         [ 1,  1,  1]],\n",
              " \n",
              "        ...,\n",
              " \n",
              "        [[72, 72, 72],\n",
              "         [72, 72, 72],\n",
              "         [73, 73, 73],\n",
              "         ...,\n",
              "         [ 0,  0,  0],\n",
              "         [ 0,  0,  0],\n",
              "         [ 0,  0,  0]],\n",
              " \n",
              "        [[77, 77, 77],\n",
              "         [76, 76, 76],\n",
              "         [76, 76, 76],\n",
              "         ...,\n",
              "         [ 1,  1,  1],\n",
              "         [ 0,  0,  0],\n",
              "         [ 0,  0,  0]],\n",
              " \n",
              "        [[79, 79, 79],\n",
              "         [78, 78, 78],\n",
              "         [76, 76, 76],\n",
              "         ...,\n",
              "         [ 3,  3,  3],\n",
              "         [ 2,  2,  2],\n",
              "         [ 0,  0,  0]]], dtype=uint8)\n",
              " orig_shape: (640, 640)\n",
              " path: '/content/drive/MyDrive/Needle_detection/test/images/avi_91_jpg.rf.4b18fe0e02e22a147f422c946eca0fe9.jpg'\n",
              " probs: None\n",
              " save_dir: 'runs/detect/predict'\n",
              " speed: {'preprocess': 1.7080120001082832, 'inference': 36.875138000141305, 'postprocess': 1.6654370001560892}]"
            ]
          },
          "metadata": {},
          "execution_count": 18
        }
      ]
    }
  ]
}